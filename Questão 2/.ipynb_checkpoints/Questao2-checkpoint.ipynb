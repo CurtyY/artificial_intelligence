{
 "cells": [
  {
   "cell_type": "markdown",
   "metadata": {},
   "source": [
    "# Questão 2"
   ]
  },
  {
   "cell_type": "code",
   "execution_count": 2,
   "metadata": {},
   "outputs": [],
   "source": [
    "import pandas as pd\n",
    "import numpy as np\n",
    "import matplotlib.pyplot as plt\n",
    "import seaborn as sns\n",
    "from sklearn.multioutput import MultiOutputClassifier\n",
    "\n",
    "\n",
    "data2 = pd.read_csv('avila-tr.txt')"
   ]
  },
  {
   "cell_type": "markdown",
   "metadata": {},
   "source": [
    "### As colunas do dataset *avila-tr* não estavam nomeadas, então as nomeamos de C1 até C10 e a última coluna como SAIDA.\n"
   ]
  },
  {
   "cell_type": "markdown",
   "metadata": {},
   "source": [
    "### Verificando a ausência de dados no *dataset*\n"
   ]
  },
  {
   "cell_type": "code",
   "execution_count": 3,
   "metadata": {},
   "outputs": [
    {
     "data": {
      "text/plain": [
       "C1       0\n",
       "C2       0\n",
       "C3       0\n",
       "C4       0\n",
       "C5       0\n",
       "C6       0\n",
       "C7       0\n",
       "C8       0\n",
       "C9       0\n",
       "C10      0\n",
       "SAIDA    0\n",
       "dtype: int64"
      ]
     },
     "execution_count": 3,
     "metadata": {},
     "output_type": "execute_result"
    }
   ],
   "source": [
    "data2.isnull().sum()"
   ]
  },
  {
   "cell_type": "markdown",
   "metadata": {},
   "source": [
    "### Como mostra a consulta acima, não existe nenhum valor ausente.\n",
    "### Verificando a correlação"
   ]
  },
  {
   "cell_type": "code",
   "execution_count": 4,
   "metadata": {},
   "outputs": [
    {
     "data": {
      "text/html": [
       "<style  type=\"text/css\" >\n",
       "    #T_30f10606_d977_11e8_abfc_50b7c341d975row0_col0 {\n",
       "            background-color:  #023858;\n",
       "        }    #T_30f10606_d977_11e8_abfc_50b7c341d975row0_col1 {\n",
       "            background-color:  #fbf3f9;\n",
       "        }    #T_30f10606_d977_11e8_abfc_50b7c341d975row0_col2 {\n",
       "            background-color:  #f7f0f7;\n",
       "        }    #T_30f10606_d977_11e8_abfc_50b7c341d975row0_col3 {\n",
       "            background-color:  #fff7fb;\n",
       "        }    #T_30f10606_d977_11e8_abfc_50b7c341d975row0_col4 {\n",
       "            background-color:  #79abd0;\n",
       "        }    #T_30f10606_d977_11e8_abfc_50b7c341d975row0_col5 {\n",
       "            background-color:  #fff7fb;\n",
       "        }    #T_30f10606_d977_11e8_abfc_50b7c341d975row0_col6 {\n",
       "            background-color:  #fff7fb;\n",
       "        }    #T_30f10606_d977_11e8_abfc_50b7c341d975row0_col7 {\n",
       "            background-color:  #fef6fa;\n",
       "        }    #T_30f10606_d977_11e8_abfc_50b7c341d975row0_col8 {\n",
       "            background-color:  #f8f1f8;\n",
       "        }    #T_30f10606_d977_11e8_abfc_50b7c341d975row0_col9 {\n",
       "            background-color:  #fdf5fa;\n",
       "        }    #T_30f10606_d977_11e8_abfc_50b7c341d975row1_col0 {\n",
       "            background-color:  #fdf5fa;\n",
       "        }    #T_30f10606_d977_11e8_abfc_50b7c341d975row1_col1 {\n",
       "            background-color:  #023858;\n",
       "        }    #T_30f10606_d977_11e8_abfc_50b7c341d975row1_col2 {\n",
       "            background-color:  #93b5d6;\n",
       "        }    #T_30f10606_d977_11e8_abfc_50b7c341d975row1_col3 {\n",
       "            background-color:  #f7f0f7;\n",
       "        }    #T_30f10606_d977_11e8_abfc_50b7c341d975row1_col4 {\n",
       "            background-color:  #fff7fb;\n",
       "        }    #T_30f10606_d977_11e8_abfc_50b7c341d975row1_col5 {\n",
       "            background-color:  #89b1d4;\n",
       "        }    #T_30f10606_d977_11e8_abfc_50b7c341d975row1_col6 {\n",
       "            background-color:  #efe9f3;\n",
       "        }    #T_30f10606_d977_11e8_abfc_50b7c341d975row1_col7 {\n",
       "            background-color:  #fdf5fa;\n",
       "        }    #T_30f10606_d977_11e8_abfc_50b7c341d975row1_col8 {\n",
       "            background-color:  #b1c2de;\n",
       "        }    #T_30f10606_d977_11e8_abfc_50b7c341d975row1_col9 {\n",
       "            background-color:  #fdf5fa;\n",
       "        }    #T_30f10606_d977_11e8_abfc_50b7c341d975row2_col0 {\n",
       "            background-color:  #f2ecf5;\n",
       "        }    #T_30f10606_d977_11e8_abfc_50b7c341d975row2_col1 {\n",
       "            background-color:  #88b1d4;\n",
       "        }    #T_30f10606_d977_11e8_abfc_50b7c341d975row2_col2 {\n",
       "            background-color:  #023858;\n",
       "        }    #T_30f10606_d977_11e8_abfc_50b7c341d975row2_col3 {\n",
       "            background-color:  #dddbec;\n",
       "        }    #T_30f10606_d977_11e8_abfc_50b7c341d975row2_col4 {\n",
       "            background-color:  #f4eef6;\n",
       "        }    #T_30f10606_d977_11e8_abfc_50b7c341d975row2_col5 {\n",
       "            background-color:  #e2dfee;\n",
       "        }    #T_30f10606_d977_11e8_abfc_50b7c341d975row2_col6 {\n",
       "            background-color:  #f8f1f8;\n",
       "        }    #T_30f10606_d977_11e8_abfc_50b7c341d975row2_col7 {\n",
       "            background-color:  #fdf5fa;\n",
       "        }    #T_30f10606_d977_11e8_abfc_50b7c341d975row2_col8 {\n",
       "            background-color:  #e0dded;\n",
       "        }    #T_30f10606_d977_11e8_abfc_50b7c341d975row2_col9 {\n",
       "            background-color:  #fff7fb;\n",
       "        }    #T_30f10606_d977_11e8_abfc_50b7c341d975row3_col0 {\n",
       "            background-color:  #fff7fb;\n",
       "        }    #T_30f10606_d977_11e8_abfc_50b7c341d975row3_col1 {\n",
       "            background-color:  #f5eff6;\n",
       "        }    #T_30f10606_d977_11e8_abfc_50b7c341d975row3_col2 {\n",
       "            background-color:  #e3e0ee;\n",
       "        }    #T_30f10606_d977_11e8_abfc_50b7c341d975row3_col3 {\n",
       "            background-color:  #023858;\n",
       "        }    #T_30f10606_d977_11e8_abfc_50b7c341d975row3_col4 {\n",
       "            background-color:  #e2dfee;\n",
       "        }    #T_30f10606_d977_11e8_abfc_50b7c341d975row3_col5 {\n",
       "            background-color:  #c5cce3;\n",
       "        }    #T_30f10606_d977_11e8_abfc_50b7c341d975row3_col6 {\n",
       "            background-color:  #fbf4f9;\n",
       "        }    #T_30f10606_d977_11e8_abfc_50b7c341d975row3_col7 {\n",
       "            background-color:  #f9f2f8;\n",
       "        }    #T_30f10606_d977_11e8_abfc_50b7c341d975row3_col8 {\n",
       "            background-color:  #c8cde4;\n",
       "        }    #T_30f10606_d977_11e8_abfc_50b7c341d975row3_col9 {\n",
       "            background-color:  #f5eff6;\n",
       "        }    #T_30f10606_d977_11e8_abfc_50b7c341d975row4_col0 {\n",
       "            background-color:  #7dacd1;\n",
       "        }    #T_30f10606_d977_11e8_abfc_50b7c341d975row4_col1 {\n",
       "            background-color:  #fff7fb;\n",
       "        }    #T_30f10606_d977_11e8_abfc_50b7c341d975row4_col2 {\n",
       "            background-color:  #fbf3f9;\n",
       "        }    #T_30f10606_d977_11e8_abfc_50b7c341d975row4_col3 {\n",
       "            background-color:  #e5e1ef;\n",
       "        }    #T_30f10606_d977_11e8_abfc_50b7c341d975row4_col4 {\n",
       "            background-color:  #023858;\n",
       "        }    #T_30f10606_d977_11e8_abfc_50b7c341d975row4_col5 {\n",
       "            background-color:  #f3edf5;\n",
       "        }    #T_30f10606_d977_11e8_abfc_50b7c341d975row4_col6 {\n",
       "            background-color:  #fdf5fa;\n",
       "        }    #T_30f10606_d977_11e8_abfc_50b7c341d975row4_col7 {\n",
       "            background-color:  #fef6fa;\n",
       "        }    #T_30f10606_d977_11e8_abfc_50b7c341d975row4_col8 {\n",
       "            background-color:  #cccfe5;\n",
       "        }    #T_30f10606_d977_11e8_abfc_50b7c341d975row4_col9 {\n",
       "            background-color:  #fbf4f9;\n",
       "        }    #T_30f10606_d977_11e8_abfc_50b7c341d975row5_col0 {\n",
       "            background-color:  #fef6fa;\n",
       "        }    #T_30f10606_d977_11e8_abfc_50b7c341d975row5_col1 {\n",
       "            background-color:  #84b0d3;\n",
       "        }    #T_30f10606_d977_11e8_abfc_50b7c341d975row5_col2 {\n",
       "            background-color:  #e7e3f0;\n",
       "        }    #T_30f10606_d977_11e8_abfc_50b7c341d975row5_col3 {\n",
       "            background-color:  #c2cbe2;\n",
       "        }    #T_30f10606_d977_11e8_abfc_50b7c341d975row5_col4 {\n",
       "            background-color:  #f0eaf4;\n",
       "        }    #T_30f10606_d977_11e8_abfc_50b7c341d975row5_col5 {\n",
       "            background-color:  #023858;\n",
       "        }    #T_30f10606_d977_11e8_abfc_50b7c341d975row5_col6 {\n",
       "            background-color:  #efe9f3;\n",
       "        }    #T_30f10606_d977_11e8_abfc_50b7c341d975row5_col7 {\n",
       "            background-color:  #fff7fb;\n",
       "        }    #T_30f10606_d977_11e8_abfc_50b7c341d975row5_col8 {\n",
       "            background-color:  #dad9ea;\n",
       "        }    #T_30f10606_d977_11e8_abfc_50b7c341d975row5_col9 {\n",
       "            background-color:  #f2ecf5;\n",
       "        }    #T_30f10606_d977_11e8_abfc_50b7c341d975row6_col0 {\n",
       "            background-color:  #f7f0f7;\n",
       "        }    #T_30f10606_d977_11e8_abfc_50b7c341d975row6_col1 {\n",
       "            background-color:  #e4e1ef;\n",
       "        }    #T_30f10606_d977_11e8_abfc_50b7c341d975row6_col2 {\n",
       "            background-color:  #f5eef6;\n",
       "        }    #T_30f10606_d977_11e8_abfc_50b7c341d975row6_col3 {\n",
       "            background-color:  #f4edf6;\n",
       "        }    #T_30f10606_d977_11e8_abfc_50b7c341d975row6_col4 {\n",
       "            background-color:  #f4edf6;\n",
       "        }    #T_30f10606_d977_11e8_abfc_50b7c341d975row6_col5 {\n",
       "            background-color:  #e7e3f0;\n",
       "        }    #T_30f10606_d977_11e8_abfc_50b7c341d975row6_col6 {\n",
       "            background-color:  #023858;\n",
       "        }    #T_30f10606_d977_11e8_abfc_50b7c341d975row6_col7 {\n",
       "            background-color:  #fef6fa;\n",
       "        }    #T_30f10606_d977_11e8_abfc_50b7c341d975row6_col8 {\n",
       "            background-color:  #f9f2f8;\n",
       "        }    #T_30f10606_d977_11e8_abfc_50b7c341d975row6_col9 {\n",
       "            background-color:  #fcf4fa;\n",
       "        }    #T_30f10606_d977_11e8_abfc_50b7c341d975row7_col0 {\n",
       "            background-color:  #f8f1f8;\n",
       "        }    #T_30f10606_d977_11e8_abfc_50b7c341d975row7_col1 {\n",
       "            background-color:  #f5eff6;\n",
       "        }    #T_30f10606_d977_11e8_abfc_50b7c341d975row7_col2 {\n",
       "            background-color:  #fcf4fa;\n",
       "        }    #T_30f10606_d977_11e8_abfc_50b7c341d975row7_col3 {\n",
       "            background-color:  #f2ecf5;\n",
       "        }    #T_30f10606_d977_11e8_abfc_50b7c341d975row7_col4 {\n",
       "            background-color:  #f6eff7;\n",
       "        }    #T_30f10606_d977_11e8_abfc_50b7c341d975row7_col5 {\n",
       "            background-color:  #faf3f9;\n",
       "        }    #T_30f10606_d977_11e8_abfc_50b7c341d975row7_col6 {\n",
       "            background-color:  #fff7fb;\n",
       "        }    #T_30f10606_d977_11e8_abfc_50b7c341d975row7_col7 {\n",
       "            background-color:  #023858;\n",
       "        }    #T_30f10606_d977_11e8_abfc_50b7c341d975row7_col8 {\n",
       "            background-color:  #f9f2f8;\n",
       "        }    #T_30f10606_d977_11e8_abfc_50b7c341d975row7_col9 {\n",
       "            background-color:  #fdf5fa;\n",
       "        }    #T_30f10606_d977_11e8_abfc_50b7c341d975row8_col0 {\n",
       "            background-color:  #efe9f3;\n",
       "        }    #T_30f10606_d977_11e8_abfc_50b7c341d975row8_col1 {\n",
       "            background-color:  #a1bbda;\n",
       "        }    #T_30f10606_d977_11e8_abfc_50b7c341d975row8_col2 {\n",
       "            background-color:  #d9d8ea;\n",
       "        }    #T_30f10606_d977_11e8_abfc_50b7c341d975row8_col3 {\n",
       "            background-color:  #b9c6e0;\n",
       "        }    #T_30f10606_d977_11e8_abfc_50b7c341d975row8_col4 {\n",
       "            background-color:  #b8c6e0;\n",
       "        }    #T_30f10606_d977_11e8_abfc_50b7c341d975row8_col5 {\n",
       "            background-color:  #d1d2e6;\n",
       "        }    #T_30f10606_d977_11e8_abfc_50b7c341d975row8_col6 {\n",
       "            background-color:  #f7f0f7;\n",
       "        }    #T_30f10606_d977_11e8_abfc_50b7c341d975row8_col7 {\n",
       "            background-color:  #f5eff6;\n",
       "        }    #T_30f10606_d977_11e8_abfc_50b7c341d975row8_col8 {\n",
       "            background-color:  #023858;\n",
       "        }    #T_30f10606_d977_11e8_abfc_50b7c341d975row8_col9 {\n",
       "            background-color:  #fbf3f9;\n",
       "        }    #T_30f10606_d977_11e8_abfc_50b7c341d975row9_col0 {\n",
       "            background-color:  #f8f1f8;\n",
       "        }    #T_30f10606_d977_11e8_abfc_50b7c341d975row9_col1 {\n",
       "            background-color:  #f6eff7;\n",
       "        }    #T_30f10606_d977_11e8_abfc_50b7c341d975row9_col2 {\n",
       "            background-color:  #fff7fb;\n",
       "        }    #T_30f10606_d977_11e8_abfc_50b7c341d975row9_col3 {\n",
       "            background-color:  #f1ebf4;\n",
       "        }    #T_30f10606_d977_11e8_abfc_50b7c341d975row9_col4 {\n",
       "            background-color:  #f4eef6;\n",
       "        }    #T_30f10606_d977_11e8_abfc_50b7c341d975row9_col5 {\n",
       "            background-color:  #eee9f3;\n",
       "        }    #T_30f10606_d977_11e8_abfc_50b7c341d975row9_col6 {\n",
       "            background-color:  #fef6fb;\n",
       "        }    #T_30f10606_d977_11e8_abfc_50b7c341d975row9_col7 {\n",
       "            background-color:  #fef6fa;\n",
       "        }    #T_30f10606_d977_11e8_abfc_50b7c341d975row9_col8 {\n",
       "            background-color:  #fff7fb;\n",
       "        }    #T_30f10606_d977_11e8_abfc_50b7c341d975row9_col9 {\n",
       "            background-color:  #023858;\n",
       "        }</style>  \n",
       "<table id=\"T_30f10606_d977_11e8_abfc_50b7c341d975\" > \n",
       "<thead>    <tr> \n",
       "        <th class=\"blank level0\" ></th> \n",
       "        <th class=\"col_heading level0 col0\" >C1</th> \n",
       "        <th class=\"col_heading level0 col1\" >C2</th> \n",
       "        <th class=\"col_heading level0 col2\" >C3</th> \n",
       "        <th class=\"col_heading level0 col3\" >C4</th> \n",
       "        <th class=\"col_heading level0 col4\" >C5</th> \n",
       "        <th class=\"col_heading level0 col5\" >C6</th> \n",
       "        <th class=\"col_heading level0 col6\" >C7</th> \n",
       "        <th class=\"col_heading level0 col7\" >C8</th> \n",
       "        <th class=\"col_heading level0 col8\" >C9</th> \n",
       "        <th class=\"col_heading level0 col9\" >C10</th> \n",
       "    </tr></thead> \n",
       "<tbody>    <tr> \n",
       "        <th id=\"T_30f10606_d977_11e8_abfc_50b7c341d975level0_row0\" class=\"row_heading level0 row0\" >C1</th> \n",
       "        <td id=\"T_30f10606_d977_11e8_abfc_50b7c341d975row0_col0\" class=\"data row0 col0\" >1</td> \n",
       "        <td id=\"T_30f10606_d977_11e8_abfc_50b7c341d975row0_col1\" class=\"data row0 col1\" >-0.038</td> \n",
       "        <td id=\"T_30f10606_d977_11e8_abfc_50b7c341d975row0_col2\" class=\"data row0 col2\" >0.034</td> \n",
       "        <td id=\"T_30f10606_d977_11e8_abfc_50b7c341d975row0_col3\" class=\"data row0 col3\" >-0.053</td> \n",
       "        <td id=\"T_30f10606_d977_11e8_abfc_50b7c341d975row0_col4\" class=\"data row0 col4\" >0.45</td> \n",
       "        <td id=\"T_30f10606_d977_11e8_abfc_50b7c341d975row0_col5\" class=\"data row0 col5\" >-0.045</td> \n",
       "        <td id=\"T_30f10606_d977_11e8_abfc_50b7c341d975row0_col6\" class=\"data row0 col6\" >0.003</td> \n",
       "        <td id=\"T_30f10606_d977_11e8_abfc_50b7c341d975row0_col7\" class=\"data row0 col7\" >-0.0012</td> \n",
       "        <td id=\"T_30f10606_d977_11e8_abfc_50b7c341d975row0_col8\" class=\"data row0 col8\" >0.059</td> \n",
       "        <td id=\"T_30f10606_d977_11e8_abfc_50b7c341d975row0_col9\" class=\"data row0 col9\" >-0.0057</td> \n",
       "    </tr>    <tr> \n",
       "        <th id=\"T_30f10606_d977_11e8_abfc_50b7c341d975level0_row1\" class=\"row_heading level0 row1\" >C2</th> \n",
       "        <td id=\"T_30f10606_d977_11e8_abfc_50b7c341d975row1_col0\" class=\"data row1 col0\" >-0.038</td> \n",
       "        <td id=\"T_30f10606_d977_11e8_abfc_50b7c341d975row1_col1\" class=\"data row1 col1\" >1</td> \n",
       "        <td id=\"T_30f10606_d977_11e8_abfc_50b7c341d975row1_col2\" class=\"data row1 col2\" >0.41</td> \n",
       "        <td id=\"T_30f10606_d977_11e8_abfc_50b7c341d975row1_col3\" class=\"data row1 col3\" >0.0017</td> \n",
       "        <td id=\"T_30f10606_d977_11e8_abfc_50b7c341d975row1_col4\" class=\"data row1 col4\" >-0.068</td> \n",
       "        <td id=\"T_30f10606_d977_11e8_abfc_50b7c341d975row1_col5\" class=\"data row1 col5\" >0.42</td> \n",
       "        <td id=\"T_30f10606_d977_11e8_abfc_50b7c341d975row1_col6\" class=\"data row1 col6\" >0.11</td> \n",
       "        <td id=\"T_30f10606_d977_11e8_abfc_50b7c341d975row1_col7\" class=\"data row1 col7\" >0.003</td> \n",
       "        <td id=\"T_30f10606_d977_11e8_abfc_50b7c341d975row1_col8\" class=\"data row1 col8\" >0.35</td> \n",
       "        <td id=\"T_30f10606_d977_11e8_abfc_50b7c341d975row1_col9\" class=\"data row1 col9\" >-0.0016</td> \n",
       "    </tr>    <tr> \n",
       "        <th id=\"T_30f10606_d977_11e8_abfc_50b7c341d975level0_row2\" class=\"row_heading level0 row2\" >C3</th> \n",
       "        <td id=\"T_30f10606_d977_11e8_abfc_50b7c341d975row2_col0\" class=\"data row2 col0\" >0.034</td> \n",
       "        <td id=\"T_30f10606_d977_11e8_abfc_50b7c341d975row2_col1\" class=\"data row2 col1\" >0.41</td> \n",
       "        <td id=\"T_30f10606_d977_11e8_abfc_50b7c341d975row2_col2\" class=\"data row2 col2\" >1</td> \n",
       "        <td id=\"T_30f10606_d977_11e8_abfc_50b7c341d975row2_col3\" class=\"data row2 col3\" >0.15</td> \n",
       "        <td id=\"T_30f10606_d977_11e8_abfc_50b7c341d975row2_col4\" class=\"data row2 col4\" >0.011</td> \n",
       "        <td id=\"T_30f10606_d977_11e8_abfc_50b7c341d975row2_col5\" class=\"data row2 col5\" >0.13</td> \n",
       "        <td id=\"T_30f10606_d977_11e8_abfc_50b7c341d975row2_col6\" class=\"data row2 col6\" >0.051</td> \n",
       "        <td id=\"T_30f10606_d977_11e8_abfc_50b7c341d975row2_col7\" class=\"data row2 col7\" >0.0022</td> \n",
       "        <td id=\"T_30f10606_d977_11e8_abfc_50b7c341d975row2_col8\" class=\"data row2 col8\" >0.19</td> \n",
       "        <td id=\"T_30f10606_d977_11e8_abfc_50b7c341d975row2_col9\" class=\"data row2 col9\" >-0.018</td> \n",
       "    </tr>    <tr> \n",
       "        <th id=\"T_30f10606_d977_11e8_abfc_50b7c341d975level0_row3\" class=\"row_heading level0 row3\" >C4</th> \n",
       "        <td id=\"T_30f10606_d977_11e8_abfc_50b7c341d975row3_col0\" class=\"data row3 col0\" >-0.053</td> \n",
       "        <td id=\"T_30f10606_d977_11e8_abfc_50b7c341d975row3_col1\" class=\"data row3 col1\" >0.0017</td> \n",
       "        <td id=\"T_30f10606_d977_11e8_abfc_50b7c341d975row3_col2\" class=\"data row3 col2\" >0.15</td> \n",
       "        <td id=\"T_30f10606_d977_11e8_abfc_50b7c341d975row3_col3\" class=\"data row3 col3\" >1</td> \n",
       "        <td id=\"T_30f10606_d977_11e8_abfc_50b7c341d975row3_col4\" class=\"data row3 col4\" >0.11</td> \n",
       "        <td id=\"T_30f10606_d977_11e8_abfc_50b7c341d975row3_col5\" class=\"data row3 col5\" >0.25</td> \n",
       "        <td id=\"T_30f10606_d977_11e8_abfc_50b7c341d975row3_col6\" class=\"data row3 col6\" >0.026</td> \n",
       "        <td id=\"T_30f10606_d977_11e8_abfc_50b7c341d975row3_col7\" class=\"data row3 col7\" >0.033</td> \n",
       "        <td id=\"T_30f10606_d977_11e8_abfc_50b7c341d975row3_col8\" class=\"data row3 col8\" >0.28</td> \n",
       "        <td id=\"T_30f10606_d977_11e8_abfc_50b7c341d975row3_col9\" class=\"data row3 col9\" >0.048</td> \n",
       "    </tr>    <tr> \n",
       "        <th id=\"T_30f10606_d977_11e8_abfc_50b7c341d975level0_row4\" class=\"row_heading level0 row4\" >C5</th> \n",
       "        <td id=\"T_30f10606_d977_11e8_abfc_50b7c341d975row4_col0\" class=\"data row4 col0\" >0.45</td> \n",
       "        <td id=\"T_30f10606_d977_11e8_abfc_50b7c341d975row4_col1\" class=\"data row4 col1\" >-0.068</td> \n",
       "        <td id=\"T_30f10606_d977_11e8_abfc_50b7c341d975row4_col2\" class=\"data row4 col2\" >0.011</td> \n",
       "        <td id=\"T_30f10606_d977_11e8_abfc_50b7c341d975row4_col3\" class=\"data row4 col3\" >0.11</td> \n",
       "        <td id=\"T_30f10606_d977_11e8_abfc_50b7c341d975row4_col4\" class=\"data row4 col4\" >1</td> \n",
       "        <td id=\"T_30f10606_d977_11e8_abfc_50b7c341d975row4_col5\" class=\"data row4 col5\" >0.04</td> \n",
       "        <td id=\"T_30f10606_d977_11e8_abfc_50b7c341d975row4_col6\" class=\"data row4 col6\" >0.014</td> \n",
       "        <td id=\"T_30f10606_d977_11e8_abfc_50b7c341d975row4_col7\" class=\"data row4 col7\" >-0.0011</td> \n",
       "        <td id=\"T_30f10606_d977_11e8_abfc_50b7c341d975row4_col8\" class=\"data row4 col8\" >0.27</td> \n",
       "        <td id=\"T_30f10606_d977_11e8_abfc_50b7c341d975row4_col9\" class=\"data row4 col9\" >0.0098</td> \n",
       "    </tr>    <tr> \n",
       "        <th id=\"T_30f10606_d977_11e8_abfc_50b7c341d975level0_row5\" class=\"row_heading level0 row5\" >C6</th> \n",
       "        <td id=\"T_30f10606_d977_11e8_abfc_50b7c341d975row5_col0\" class=\"data row5 col0\" >-0.045</td> \n",
       "        <td id=\"T_30f10606_d977_11e8_abfc_50b7c341d975row5_col1\" class=\"data row5 col1\" >0.42</td> \n",
       "        <td id=\"T_30f10606_d977_11e8_abfc_50b7c341d975row5_col2\" class=\"data row5 col2\" >0.13</td> \n",
       "        <td id=\"T_30f10606_d977_11e8_abfc_50b7c341d975row5_col3\" class=\"data row5 col3\" >0.25</td> \n",
       "        <td id=\"T_30f10606_d977_11e8_abfc_50b7c341d975row5_col4\" class=\"data row5 col4\" >0.04</td> \n",
       "        <td id=\"T_30f10606_d977_11e8_abfc_50b7c341d975row5_col5\" class=\"data row5 col5\" >1</td> \n",
       "        <td id=\"T_30f10606_d977_11e8_abfc_50b7c341d975row5_col6\" class=\"data row5 col6\" >0.11</td> \n",
       "        <td id=\"T_30f10606_d977_11e8_abfc_50b7c341d975row5_col7\" class=\"data row5 col7\" >-0.0096</td> \n",
       "        <td id=\"T_30f10606_d977_11e8_abfc_50b7c341d975row5_col8\" class=\"data row5 col8\" >0.21</td> \n",
       "        <td id=\"T_30f10606_d977_11e8_abfc_50b7c341d975row5_col9\" class=\"data row5 col9\" >0.07</td> \n",
       "    </tr>    <tr> \n",
       "        <th id=\"T_30f10606_d977_11e8_abfc_50b7c341d975level0_row6\" class=\"row_heading level0 row6\" >C7</th> \n",
       "        <td id=\"T_30f10606_d977_11e8_abfc_50b7c341d975row6_col0\" class=\"data row6 col0\" >0.003</td> \n",
       "        <td id=\"T_30f10606_d977_11e8_abfc_50b7c341d975row6_col1\" class=\"data row6 col1\" >0.11</td> \n",
       "        <td id=\"T_30f10606_d977_11e8_abfc_50b7c341d975row6_col2\" class=\"data row6 col2\" >0.051</td> \n",
       "        <td id=\"T_30f10606_d977_11e8_abfc_50b7c341d975row6_col3\" class=\"data row6 col3\" >0.026</td> \n",
       "        <td id=\"T_30f10606_d977_11e8_abfc_50b7c341d975row6_col4\" class=\"data row6 col4\" >0.014</td> \n",
       "        <td id=\"T_30f10606_d977_11e8_abfc_50b7c341d975row6_col5\" class=\"data row6 col5\" >0.11</td> \n",
       "        <td id=\"T_30f10606_d977_11e8_abfc_50b7c341d975row6_col6\" class=\"data row6 col6\" >1</td> \n",
       "        <td id=\"T_30f10606_d977_11e8_abfc_50b7c341d975row6_col7\" class=\"data row6 col7\" >0.00084</td> \n",
       "        <td id=\"T_30f10606_d977_11e8_abfc_50b7c341d975row6_col8\" class=\"data row6 col8\" >0.053</td> \n",
       "        <td id=\"T_30f10606_d977_11e8_abfc_50b7c341d975row6_col9\" class=\"data row6 col9\" >0.0048</td> \n",
       "    </tr>    <tr> \n",
       "        <th id=\"T_30f10606_d977_11e8_abfc_50b7c341d975level0_row7\" class=\"row_heading level0 row7\" >C8</th> \n",
       "        <td id=\"T_30f10606_d977_11e8_abfc_50b7c341d975row7_col0\" class=\"data row7 col0\" >-0.0012</td> \n",
       "        <td id=\"T_30f10606_d977_11e8_abfc_50b7c341d975row7_col1\" class=\"data row7 col1\" >0.003</td> \n",
       "        <td id=\"T_30f10606_d977_11e8_abfc_50b7c341d975row7_col2\" class=\"data row7 col2\" >0.0022</td> \n",
       "        <td id=\"T_30f10606_d977_11e8_abfc_50b7c341d975row7_col3\" class=\"data row7 col3\" >0.033</td> \n",
       "        <td id=\"T_30f10606_d977_11e8_abfc_50b7c341d975row7_col4\" class=\"data row7 col4\" >-0.0011</td> \n",
       "        <td id=\"T_30f10606_d977_11e8_abfc_50b7c341d975row7_col5\" class=\"data row7 col5\" >-0.0096</td> \n",
       "        <td id=\"T_30f10606_d977_11e8_abfc_50b7c341d975row7_col6\" class=\"data row7 col6\" >0.00084</td> \n",
       "        <td id=\"T_30f10606_d977_11e8_abfc_50b7c341d975row7_col7\" class=\"data row7 col7\" >1</td> \n",
       "        <td id=\"T_30f10606_d977_11e8_abfc_50b7c341d975row7_col8\" class=\"data row7 col8\" >0.055</td> \n",
       "        <td id=\"T_30f10606_d977_11e8_abfc_50b7c341d975row7_col9\" class=\"data row7 col9\" >0.00069</td> \n",
       "    </tr>    <tr> \n",
       "        <th id=\"T_30f10606_d977_11e8_abfc_50b7c341d975level0_row8\" class=\"row_heading level0 row8\" >C9</th> \n",
       "        <td id=\"T_30f10606_d977_11e8_abfc_50b7c341d975row8_col0\" class=\"data row8 col0\" >0.059</td> \n",
       "        <td id=\"T_30f10606_d977_11e8_abfc_50b7c341d975row8_col1\" class=\"data row8 col1\" >0.35</td> \n",
       "        <td id=\"T_30f10606_d977_11e8_abfc_50b7c341d975row8_col2\" class=\"data row8 col2\" >0.19</td> \n",
       "        <td id=\"T_30f10606_d977_11e8_abfc_50b7c341d975row8_col3\" class=\"data row8 col3\" >0.28</td> \n",
       "        <td id=\"T_30f10606_d977_11e8_abfc_50b7c341d975row8_col4\" class=\"data row8 col4\" >0.27</td> \n",
       "        <td id=\"T_30f10606_d977_11e8_abfc_50b7c341d975row8_col5\" class=\"data row8 col5\" >0.21</td> \n",
       "        <td id=\"T_30f10606_d977_11e8_abfc_50b7c341d975row8_col6\" class=\"data row8 col6\" >0.053</td> \n",
       "        <td id=\"T_30f10606_d977_11e8_abfc_50b7c341d975row8_col7\" class=\"data row8 col7\" >0.055</td> \n",
       "        <td id=\"T_30f10606_d977_11e8_abfc_50b7c341d975row8_col8\" class=\"data row8 col8\" >1</td> \n",
       "        <td id=\"T_30f10606_d977_11e8_abfc_50b7c341d975row8_col9\" class=\"data row8 col9\" >0.013</td> \n",
       "    </tr>    <tr> \n",
       "        <th id=\"T_30f10606_d977_11e8_abfc_50b7c341d975level0_row9\" class=\"row_heading level0 row9\" >C10</th> \n",
       "        <td id=\"T_30f10606_d977_11e8_abfc_50b7c341d975row9_col0\" class=\"data row9 col0\" >-0.0057</td> \n",
       "        <td id=\"T_30f10606_d977_11e8_abfc_50b7c341d975row9_col1\" class=\"data row9 col1\" >-0.0016</td> \n",
       "        <td id=\"T_30f10606_d977_11e8_abfc_50b7c341d975row9_col2\" class=\"data row9 col2\" >-0.018</td> \n",
       "        <td id=\"T_30f10606_d977_11e8_abfc_50b7c341d975row9_col3\" class=\"data row9 col3\" >0.048</td> \n",
       "        <td id=\"T_30f10606_d977_11e8_abfc_50b7c341d975row9_col4\" class=\"data row9 col4\" >0.0098</td> \n",
       "        <td id=\"T_30f10606_d977_11e8_abfc_50b7c341d975row9_col5\" class=\"data row9 col5\" >0.07</td> \n",
       "        <td id=\"T_30f10606_d977_11e8_abfc_50b7c341d975row9_col6\" class=\"data row9 col6\" >0.0048</td> \n",
       "        <td id=\"T_30f10606_d977_11e8_abfc_50b7c341d975row9_col7\" class=\"data row9 col7\" >0.00069</td> \n",
       "        <td id=\"T_30f10606_d977_11e8_abfc_50b7c341d975row9_col8\" class=\"data row9 col8\" >0.013</td> \n",
       "        <td id=\"T_30f10606_d977_11e8_abfc_50b7c341d975row9_col9\" class=\"data row9 col9\" >1</td> \n",
       "    </tr></tbody> \n",
       "</table> "
      ],
      "text/plain": [
       "<pandas.io.formats.style.Styler at 0x7fdae46518d0>"
      ]
     },
     "execution_count": 4,
     "metadata": {},
     "output_type": "execute_result"
    }
   ],
   "source": [
    "df = pd.DataFrame(data2)\n",
    "corr = df.corr()\n",
    "corr.style.background_gradient().set_precision(2)"
   ]
  },
  {
   "cell_type": "markdown",
   "metadata": {},
   "source": [
    "### Analisando a matriz acima, podemos ver que não existem colunas com a correlação muito alta"
   ]
  },
  {
   "cell_type": "code",
   "execution_count": 5,
   "metadata": {
    "scrolled": true
   },
   "outputs": [
    {
     "name": "stdout",
     "output_type": "stream",
     "text": [
      "<class 'pandas.core.frame.DataFrame'>\n",
      "RangeIndex: 10430 entries, 0 to 10429\n",
      "Data columns (total 11 columns):\n",
      "C1       10430 non-null float64\n",
      "C2       10430 non-null float64\n",
      "C3       10430 non-null float64\n",
      "C4       10430 non-null float64\n",
      "C5       10430 non-null float64\n",
      "C6       10430 non-null float64\n",
      "C7       10430 non-null float64\n",
      "C8       10430 non-null float64\n",
      "C9       10430 non-null float64\n",
      "C10      10430 non-null float64\n",
      "SAIDA    10430 non-null object\n",
      "dtypes: float64(10), object(1)\n",
      "memory usage: 896.4+ KB\n"
     ]
    }
   ],
   "source": [
    "data2.info()"
   ]
  },
  {
   "cell_type": "markdown",
   "metadata": {},
   "source": [
    "### Removendo dados duplicados"
   ]
  },
  {
   "cell_type": "code",
   "execution_count": 6,
   "metadata": {},
   "outputs": [],
   "source": [
    "data2 = data2.drop_duplicates(None, 'first')"
   ]
  },
  {
   "cell_type": "markdown",
   "metadata": {},
   "source": [
    "### Por meio do *boxplot* podemos ver a presença de *outliers*\n"
   ]
  },
  {
   "cell_type": "code",
   "execution_count": 7,
   "metadata": {},
   "outputs": [
    {
     "data": {
      "image/png": "[encoded data removed]",
      "text/plain": [
       "<Figure size 432x288 with 1 Axes>"
      ]
     },
     "metadata": {},
     "output_type": "display_data"
    }
   ],
   "source": [
    "sns.set(style=\"whitegrid\", color_codes=True)\n",
    "sns.boxplot(data=data2);"
   ]
  },
  {
   "cell_type": "markdown",
   "metadata": {},
   "source": [
    "### Para acabar com os *outliers* utilizamos o metodo do desvio padrão"
   ]
  },
  {
   "cell_type": "code",
   "execution_count": 8,
   "metadata": {},
   "outputs": [],
   "source": [
    "data2=data2[np.abs(data2[\"C8\"]-data2[\"C8\"].mean())<=(3*data2[\"C8\"].std())]\n",
    "data2=data2[np.abs(data2[\"C2\"]-data2[\"C2\"].mean())<=(3*data2[\"C2\"].std())]\n",
    "data2=data2[np.abs(data2[\"C7\"]-data2[\"C7\"].mean())<=(3*data2[\"C7\"].std())]\n",
    "data2=data2[np.abs(data2[\"C10\"]-data2[\"C10\"].mean())<=(3*data2[\"C10\"].std())]"
   ]
  },
  {
   "cell_type": "markdown",
   "metadata": {},
   "source": [
    "### Mostrando novamente o *boxplot* podemos ver que resolvemos o problema dos outliers"
   ]
  },
  {
   "cell_type": "code",
   "execution_count": 9,
   "metadata": {},
   "outputs": [
    {
     "data": {
      "image/png": "[encoded data removed]",
      "text/plain": [
       "<Figure size 432x288 with 1 Axes>"
      ]
     },
     "metadata": {},
     "output_type": "display_data"
    }
   ],
   "source": [
    "sns.set(style=\"whitegrid\", color_codes=True)\n",
    "sns.boxplot(data=data2);"
   ]
  },
  {
   "cell_type": "markdown",
   "metadata": {},
   "source": [
    "### Analisando o gráfico abaixo, podemos notar que nossa coluna *SAIDA* está desbalanceada, então devemos resolver isso."
   ]
  },
  {
   "cell_type": "code",
   "execution_count": 10,
   "metadata": {
    "scrolled": false
   },
   "outputs": [
    {
     "data": {
      "text/plain": [
       "A    4273\n",
       "F    1955\n",
       "E    1092\n",
       "I     829\n",
       "X     521\n",
       "H     518\n",
       "G     446\n",
       "D     348\n",
       "Y     266\n",
       "C      99\n",
       "W      44\n",
       "Name: SAIDA, dtype: int64"
      ]
     },
     "execution_count": 10,
     "metadata": {},
     "output_type": "execute_result"
    },
    {
     "data": {
      "image/png": "[encoded data removed]",
      "text/plain": [
       "<Figure size 432x288 with 1 Axes>"
      ]
     },
     "metadata": {},
     "output_type": "display_data"
    }
   ],
   "source": [
    "sns.countplot(x='SAIDA',data=data2)\n",
    "data2['SAIDA'].value_counts()"
   ]
  },
  {
   "cell_type": "code",
   "execution_count": 11,
   "metadata": {},
   "outputs": [],
   "source": [
    "features = list(data2)\n",
    "features.remove('SAIDA')"
   ]
  },
  {
   "cell_type": "markdown",
   "metadata": {},
   "source": [
    "### Utilizando *ClusterCentroids* para *UnderSampling*, ou seja, reduzimos todos os dados para o de menor quantidade, levando em consideração que *ClusterCentroids* escolhe os melhores dados para a redução"
   ]
  },
  {
   "cell_type": "code",
   "execution_count": 12,
   "metadata": {},
   "outputs": [],
   "source": [
    "from imblearn.under_sampling import ClusterCentroids\n",
    "\n",
    "X = data2[features]\n",
    "y = data2['SAIDA']\n",
    "\n",
    " #aplica Cluster Centroids\n",
    "cc = ClusterCentroids()\n",
    "X_resampled, y_resampled = cc.fit_sample(X, y)"
   ]
  },
  {
   "cell_type": "markdown",
   "metadata": {},
   "source": [
    "### Após a aplicação de *ClusterCentroids*, podemos ver abaixo o tamanho original do dataset e o tamento após o *undersampling*"
   ]
  },
  {
   "cell_type": "code",
   "execution_count": 13,
   "metadata": {},
   "outputs": [
    {
     "name": "stdout",
     "output_type": "stream",
     "text": [
      "Tamanho original do dataset Counter({'A': 4273, 'F': 1955, 'E': 1092, 'I': 829, 'X': 521, 'H': 518, 'G': 446, 'D': 348, 'Y': 266, 'C': 99, 'W': 44})\n",
      "Tamanho do dataset após undersampling Counter({'I': 44, 'G': 44, 'Y': 44, 'F': 44, 'E': 44, 'X': 44, 'H': 44, 'A': 44, 'W': 44, 'D': 44, 'C': 44})\n"
     ]
    }
   ],
   "source": [
    "from collections import Counter\n",
    "\n",
    "print('Tamanho original do dataset {}'.format(Counter(y)))\n",
    "print('Tamanho do dataset após undersampling {}'.format(Counter(y_resampled)))"
   ]
  },
  {
   "cell_type": "markdown",
   "metadata": {},
   "source": [
    "### Dividindo entre teino e testes, 70% treino e 30% teste"
   ]
  },
  {
   "cell_type": "code",
   "execution_count": 14,
   "metadata": {},
   "outputs": [],
   "source": [
    "from sklearn.model_selection import train_test_split\n",
    "\n",
    "# 70% treinamento e 30% teste\n",
    "X_train, X_test, y_train, y_test = train_test_split(X_resampled, y_resampled, test_size = 0.3)"
   ]
  },
  {
   "cell_type": "markdown",
   "metadata": {},
   "source": [
    "### Utilizando *MLPClassifier*, com duas camadas de 200 neurônios. "
   ]
  },
  {
   "cell_type": "code",
   "execution_count": 15,
   "metadata": {},
   "outputs": [
    {
     "name": "stdout",
     "output_type": "stream",
     "text": [
      "\n",
      " ------------ Rede Neural MPLClassifier \n",
      "\n",
      "[[ 2  0  3  1  5  1  2  2  2  0  0]\n",
      " [ 0  8  3  2  0  0  0  0  0  0  0]\n",
      " [ 1  1  7  1  0  0  1  0  1  0  1]\n",
      " [ 0  1  4  4  1  0  0  2  1  0  1]\n",
      " [ 2  0  2  0  1  1  1  1  1  0  0]\n",
      " [ 0  0  0  0  1 13  0  0  0  0  0]\n",
      " [ 1  0  0  1  3  1  8  0  0  0  0]\n",
      " [ 1  3  0  0  1  1  0  8  0  0  0]\n",
      " [ 0  0  0  1  0  2  0  0  8  0  0]\n",
      " [ 0  0  1  3  0  0  0  1  2  4  1]\n",
      " [ 0  0  0  1  0  3  0  0  2  2  6]]\n",
      "              precision    recall  f1-score   support\n",
      "\n",
      "           A       0.29      0.11      0.16        18\n",
      "           C       0.62      0.62      0.62        13\n",
      "           D       0.35      0.54      0.42        13\n",
      "           E       0.29      0.29      0.29        14\n",
      "           F       0.08      0.11      0.10         9\n",
      "           G       0.59      0.93      0.72        14\n",
      "           H       0.67      0.57      0.62        14\n",
      "           I       0.57      0.57      0.57        14\n",
      "           W       0.47      0.73      0.57        11\n",
      "           X       0.67      0.33      0.44        12\n",
      "           Y       0.67      0.43      0.52        14\n",
      "\n",
      "   micro avg       0.47      0.47      0.47       146\n",
      "   macro avg       0.48      0.47      0.46       146\n",
      "weighted avg       0.48      0.47      0.46       146\n",
      "\n",
      "Acurácia: 0.4726027397260274\n"
     ]
    }
   ],
   "source": [
    "from sklearn.neural_network import MLPClassifier\n",
    "from sklearn.metrics import classification_report, confusion_matrix, accuracy_score \n",
    "\n",
    "train_X = X_train # input training data\n",
    "train_y = y_train # output trainig data\n",
    "test_X = X_test # input test data\n",
    "test_y = y_test # output test data\n",
    "\n",
    "\n",
    "clf = MLPClassifier(activation='tanh',solver='lbfgs',hidden_layer_sizes=(200,200))\n",
    "\n",
    "clf.fit(train_X, train_y)\n",
    "\n",
    "\n",
    "y_pred=clf.predict(test_X)\n",
    "\n",
    "print(\"\\n ------------ Rede Neural MPLClassifier \\n\")\n",
    "\n",
    "matriz_de_confusao = confusion_matrix(test_y, y_pred)\n",
    "print(matriz_de_confusao)  \n",
    "\n",
    "print(classification_report(test_y, y_pred))  \n",
    "\n",
    "print('Acurácia:',accuracy_score(test_y, y_pred))"
   ]
  },
  {
   "cell_type": "markdown",
   "metadata": {},
   "source": [
    "Com essa quantidade baixa de amostras, conseguimos aproximadamente 47% de acurácia.  Os dados gerados podem ser verificados acima. "
   ]
  },
  {
   "cell_type": "markdown",
   "metadata": {},
   "source": [
    "## Uma outra opção seria fazer o OverSampling dos dados, porém corre o risco de ocorrer overfit"
   ]
  },
  {
   "cell_type": "markdown",
   "metadata": {},
   "source": [
    "#### Utilizando *SMOTE()* para *OverSampling*, ou seja, aumentando todos os dados para o de maior quantidade."
   ]
  },
  {
   "cell_type": "code",
   "execution_count": 16,
   "metadata": {},
   "outputs": [],
   "source": [
    "from imblearn.over_sampling import SMOTE\n",
    "\n",
    "X = data2[features]\n",
    "y = data2['SAIDA']\n",
    "\n",
    "sm = SMOTE()\n",
    "X_resampled, y_resampled = sm.fit_sample(X, y)"
   ]
  },
  {
   "cell_type": "markdown",
   "metadata": {},
   "source": [
    "#### Após a aplicação de *SMOTE*, podemos ver abaixo o tamanho original do dataset e o tamento após o *oversampling*"
   ]
  },
  {
   "cell_type": "code",
   "execution_count": 17,
   "metadata": {},
   "outputs": [
    {
     "name": "stdout",
     "output_type": "stream",
     "text": [
      "Tamanho original do dataset Counter({'A': 4273, 'F': 1955, 'E': 1092, 'I': 829, 'X': 521, 'H': 518, 'G': 446, 'D': 348, 'Y': 266, 'C': 99, 'W': 44})\n",
      "Tamanho do dataset após undersampling Counter({'I': 4273, 'G': 4273, 'W': 4273, 'Y': 4273, 'F': 4273, 'E': 4273, 'H': 4273, 'A': 4273, 'X': 4273, 'D': 4273, 'C': 4273})\n"
     ]
    }
   ],
   "source": [
    "from collections import Counter\n",
    "\n",
    "print('Tamanho original do dataset {}'.format(Counter(y)))\n",
    "print('Tamanho do dataset após undersampling {}'.format(Counter(y_resampled)))"
   ]
  },
  {
   "cell_type": "markdown",
   "metadata": {},
   "source": [
    "### Dividindo a base de dados em 70% treinamento e 30% teste"
   ]
  },
  {
   "cell_type": "code",
   "execution_count": 18,
   "metadata": {},
   "outputs": [],
   "source": [
    "from sklearn.model_selection import train_test_split\n",
    "\n",
    "# 70% treinamento e 30% teste\n",
    "X_train, X_test, y_train, y_test = train_test_split(X_resampled, y_resampled, test_size = 0.3)"
   ]
  },
  {
   "cell_type": "markdown",
   "metadata": {},
   "source": [
    "### Utilizando MLPClassifier, com duas camadas de 200 neurônios. "
   ]
  },
  {
   "cell_type": "code",
   "execution_count": 19,
   "metadata": {},
   "outputs": [
    {
     "name": "stdout",
     "output_type": "stream",
     "text": [
      "\n",
      " ------------ Rede Neural MPLClassifier \n",
      "\n",
      "[[1131    1    5   13   53   15   19    2    0    1    3]\n",
      " [   0 1262    0    0    0    0    0    0    0    0    0]\n",
      " [   3    1 1239    2    0    0    0    0    0    0    0]\n",
      " [   5    4    4 1262    3    0    3    0    0    4    0]\n",
      " [  38    0    0    4 1214   13    7    0    0    0    1]\n",
      " [   4    0    0    0    5 1297    0    0    0    0    0]\n",
      " [   6    0    0    2    2    0 1275    0    0    0    0]\n",
      " [   1    0    0    1    0    0    0 1310    0    0    0]\n",
      " [   0    0    0    0    0    0    0    0 1286    0    0]\n",
      " [   3    0    0    2    1    0    0    0    0 1339    1]\n",
      " [   1    0    0    0    0    0    0    0    0    4 1249]]\n",
      "              precision    recall  f1-score   support\n",
      "\n",
      "           A       0.95      0.91      0.93      1243\n",
      "           C       1.00      1.00      1.00      1262\n",
      "           D       0.99      1.00      0.99      1245\n",
      "           E       0.98      0.98      0.98      1285\n",
      "           F       0.95      0.95      0.95      1277\n",
      "           G       0.98      0.99      0.99      1306\n",
      "           H       0.98      0.99      0.98      1285\n",
      "           I       1.00      1.00      1.00      1312\n",
      "           W       1.00      1.00      1.00      1286\n",
      "           X       0.99      0.99      0.99      1346\n",
      "           Y       1.00      1.00      1.00      1254\n",
      "\n",
      "   micro avg       0.98      0.98      0.98     14101\n",
      "   macro avg       0.98      0.98      0.98     14101\n",
      "weighted avg       0.98      0.98      0.98     14101\n",
      "\n",
      "Acurácia: 0.9831926813701156\n"
     ]
    }
   ],
   "source": [
    "from sklearn.neural_network import MLPClassifier\n",
    "from sklearn.metrics import classification_report, confusion_matrix, accuracy_score \n",
    "\n",
    "train_X = X_train # input training data\n",
    "train_y = y_train # output trainig data\n",
    "test_X = X_test # input test data\n",
    "test_y = y_test # output test data\n",
    "\n",
    "clf = MLPClassifier(activation='tanh',solver='lbfgs',hidden_layer_sizes=(200,200))\n",
    "\n",
    "clf.fit(train_X, train_y)\n",
    "\n",
    "y_pred=clf.predict(test_X)\n",
    "\n",
    "print(\"\\n ------------ Rede Neural MPLClassifier \\n\")\n",
    "\n",
    "matriz_de_confusao = confusion_matrix(test_y, y_pred)\n",
    "print(matriz_de_confusao)  \n",
    "\n",
    "print(classification_report(test_y, y_pred))  \n",
    "\n",
    "print('Acurácia:',accuracy_score(test_y, y_pred))"
   ]
  },
  {
   "cell_type": "markdown",
   "metadata": {},
   "source": [
    "Já com o número de amostras mais elevado, conseguimos um valor de 98% de Acurácia, todos os dados podem ser verificados acima. Porém nesse caso, como aumentamos o número de dados, muitos deles podem ter apenas se repetido, então pode ocorrer overfitting\n"
   ]
  }
 ],
 "metadata": {
  "colab": {
   "collapsed_sections": [],
   "name": "IA.ipynb",
   "provenance": [],
   "version": "0.3.2"
  },
  "kernelspec": {
   "display_name": "Python 3",
   "language": "python",
   "name": "python3"
  },
  "language_info": {
   "codemirror_mode": {
    "name": "ipython",
    "version": 3
   },
   "file_extension": ".py",
   "mimetype": "text/x-python",
   "name": "python",
   "nbconvert_exporter": "python",
   "pygments_lexer": "ipython3",
   "version": "3.5.2"
  }
 },
 "nbformat": 4,
 "nbformat_minor": 2
}
