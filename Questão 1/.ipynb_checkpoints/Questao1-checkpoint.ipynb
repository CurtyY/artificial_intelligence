{
 "cells": [
  {
   "cell_type": "markdown",
   "metadata": {
    "colab_type": "text",
    "id": "BAOh6i8v--YW"
   },
   "source": [
    "# Questão 1\n"
   ]
  },
  {
   "cell_type": "code",
   "execution_count": 1,
   "metadata": {
    "colab": {},
    "colab_type": "code",
    "id": "sfPtXmGE0e9n"
   },
   "outputs": [],
   "source": [
    "import pandas as pd\n",
    "import numpy as np\n",
    "import matplotlib.pyplot as plt\n",
    "import seaborn as sns\n"
   ]
  },
  {
   "cell_type": "markdown",
   "metadata": {
    "colab_type": "text",
    "id": "pVfKpVhByFpZ"
   },
   "source": [
    "#### Analisando o dataset é possível notar a existência de algumas colunas irrelevantes, que são:\n",
    "   * age_desc; \n",
    "   * relation;\n",
    "   * id; \n",
    "   * used_app_before. \n",
    "   \n",
    "#### Ambas foram retiradas do dataset."
   ]
  },
  {
   "cell_type": "code",
   "execution_count": 2,
   "metadata": {
    "colab": {
     "base_uri": "https://localhost:8080/",
     "height": 933
    },
    "colab_type": "code",
    "id": "XEMLVlpCtY3C",
    "outputId": "10841d09-31bb-42ea-da50-63e7c2b71157"
   },
   "outputs": [],
   "source": [
    "data = pd.read_csv('csv_result-Autism-Adult-Data.csv')\n",
    "del data['age_desc']\n",
    "del data['relation']\n",
    "del data['id']\n",
    "del data['used_app_before']\n"
   ]
  },
  {
   "cell_type": "code",
   "execution_count": 3,
   "metadata": {
    "colab": {
     "base_uri": "https://localhost:8080/",
     "height": 258
    },
    "colab_type": "code",
    "id": "JI2plHp_xFZS",
    "outputId": "7a0c4c0e-c6b9-481c-a901-558df504fafa"
   },
   "outputs": [
    {
     "data": {
      "text/html": [
       "<div>\n",
       "<style scoped>\n",
       "    .dataframe tbody tr th:only-of-type {\n",
       "        vertical-align: middle;\n",
       "    }\n",
       "\n",
       "    .dataframe tbody tr th {\n",
       "        vertical-align: top;\n",
       "    }\n",
       "\n",
       "    .dataframe thead th {\n",
       "        text-align: right;\n",
       "    }\n",
       "</style>\n",
       "<table border=\"1\" class=\"dataframe\">\n",
       "  <thead>\n",
       "    <tr style=\"text-align: right;\">\n",
       "      <th></th>\n",
       "      <th>A1_Score</th>\n",
       "      <th>A2_Score</th>\n",
       "      <th>A3_Score</th>\n",
       "      <th>A4_Score</th>\n",
       "      <th>A5_Score</th>\n",
       "      <th>A6_Score</th>\n",
       "      <th>A7_Score</th>\n",
       "      <th>A8_Score</th>\n",
       "      <th>A9_Score</th>\n",
       "      <th>A10_Score</th>\n",
       "      <th>age</th>\n",
       "      <th>gender</th>\n",
       "      <th>ethnicity</th>\n",
       "      <th>jundice</th>\n",
       "      <th>austim</th>\n",
       "      <th>contry_of_res</th>\n",
       "      <th>result</th>\n",
       "      <th>Class/ASD</th>\n",
       "    </tr>\n",
       "  </thead>\n",
       "  <tbody>\n",
       "    <tr>\n",
       "      <th>0</th>\n",
       "      <td>1</td>\n",
       "      <td>1</td>\n",
       "      <td>1</td>\n",
       "      <td>1</td>\n",
       "      <td>0</td>\n",
       "      <td>0</td>\n",
       "      <td>1</td>\n",
       "      <td>1</td>\n",
       "      <td>0</td>\n",
       "      <td>0</td>\n",
       "      <td>26</td>\n",
       "      <td>f</td>\n",
       "      <td>White-European</td>\n",
       "      <td>no</td>\n",
       "      <td>no</td>\n",
       "      <td>United States</td>\n",
       "      <td>6</td>\n",
       "      <td>NO</td>\n",
       "    </tr>\n",
       "    <tr>\n",
       "      <th>1</th>\n",
       "      <td>1</td>\n",
       "      <td>1</td>\n",
       "      <td>0</td>\n",
       "      <td>1</td>\n",
       "      <td>0</td>\n",
       "      <td>0</td>\n",
       "      <td>0</td>\n",
       "      <td>1</td>\n",
       "      <td>0</td>\n",
       "      <td>1</td>\n",
       "      <td>24</td>\n",
       "      <td>m</td>\n",
       "      <td>Latino</td>\n",
       "      <td>no</td>\n",
       "      <td>yes</td>\n",
       "      <td>Brazil</td>\n",
       "      <td>5</td>\n",
       "      <td>NO</td>\n",
       "    </tr>\n",
       "    <tr>\n",
       "      <th>2</th>\n",
       "      <td>1</td>\n",
       "      <td>1</td>\n",
       "      <td>0</td>\n",
       "      <td>1</td>\n",
       "      <td>1</td>\n",
       "      <td>0</td>\n",
       "      <td>1</td>\n",
       "      <td>1</td>\n",
       "      <td>1</td>\n",
       "      <td>1</td>\n",
       "      <td>27</td>\n",
       "      <td>m</td>\n",
       "      <td>Latino</td>\n",
       "      <td>yes</td>\n",
       "      <td>yes</td>\n",
       "      <td>Spain</td>\n",
       "      <td>8</td>\n",
       "      <td>YES</td>\n",
       "    </tr>\n",
       "    <tr>\n",
       "      <th>3</th>\n",
       "      <td>1</td>\n",
       "      <td>1</td>\n",
       "      <td>0</td>\n",
       "      <td>1</td>\n",
       "      <td>0</td>\n",
       "      <td>0</td>\n",
       "      <td>1</td>\n",
       "      <td>1</td>\n",
       "      <td>0</td>\n",
       "      <td>1</td>\n",
       "      <td>35</td>\n",
       "      <td>f</td>\n",
       "      <td>White-European</td>\n",
       "      <td>no</td>\n",
       "      <td>yes</td>\n",
       "      <td>United States</td>\n",
       "      <td>6</td>\n",
       "      <td>NO</td>\n",
       "    </tr>\n",
       "    <tr>\n",
       "      <th>4</th>\n",
       "      <td>1</td>\n",
       "      <td>0</td>\n",
       "      <td>0</td>\n",
       "      <td>0</td>\n",
       "      <td>0</td>\n",
       "      <td>0</td>\n",
       "      <td>0</td>\n",
       "      <td>1</td>\n",
       "      <td>0</td>\n",
       "      <td>0</td>\n",
       "      <td>40</td>\n",
       "      <td>f</td>\n",
       "      <td>?</td>\n",
       "      <td>no</td>\n",
       "      <td>no</td>\n",
       "      <td>Egypt</td>\n",
       "      <td>2</td>\n",
       "      <td>NO</td>\n",
       "    </tr>\n",
       "  </tbody>\n",
       "</table>\n",
       "</div>"
      ],
      "text/plain": [
       "   A1_Score  A2_Score  A3_Score  A4_Score  A5_Score  A6_Score  A7_Score  \\\n",
       "0         1         1         1         1         0         0         1   \n",
       "1         1         1         0         1         0         0         0   \n",
       "2         1         1         0         1         1         0         1   \n",
       "3         1         1         0         1         0         0         1   \n",
       "4         1         0         0         0         0         0         0   \n",
       "\n",
       "   A8_Score  A9_Score  A10_Score age gender       ethnicity jundice austim  \\\n",
       "0         1         0          0  26      f  White-European      no     no   \n",
       "1         1         0          1  24      m          Latino      no    yes   \n",
       "2         1         1          1  27      m          Latino     yes    yes   \n",
       "3         1         0          1  35      f  White-European      no    yes   \n",
       "4         1         0          0  40      f               ?      no     no   \n",
       "\n",
       "   contry_of_res  result Class/ASD  \n",
       "0  United States       6        NO  \n",
       "1         Brazil       5        NO  \n",
       "2          Spain       8       YES  \n",
       "3  United States       6        NO  \n",
       "4          Egypt       2        NO  "
      ]
     },
     "execution_count": 3,
     "metadata": {},
     "output_type": "execute_result"
    }
   ],
   "source": [
    "data.head()"
   ]
  },
  {
   "cell_type": "markdown",
   "metadata": {
    "colab_type": "text",
    "id": "f5NbsRZ6zg3b"
   },
   "source": [
    "#### O dataset também contém muitos dados faltando, que estão representados com \"?\", então substituímos \"?\" por nulo ou vazio, para que possamos usar a função **isnull()** e encontrarmos os dados ausentes."
   ]
  },
  {
   "cell_type": "code",
   "execution_count": 4,
   "metadata": {
    "colab": {},
    "colab_type": "code",
    "id": "QhLSU6ov1OXJ"
   },
   "outputs": [],
   "source": [
    "def alterando(dado):\n",
    "    dado = dado.replace(\"?\",np.nan)\n",
    "    return dado\n",
    "data=alterando(data)"
   ]
  },
  {
   "cell_type": "code",
   "execution_count": 5,
   "metadata": {
    "colab": {
     "base_uri": "https://localhost:8080/",
     "height": 258
    },
    "colab_type": "code",
    "id": "cJWrbluj9_j8",
    "outputId": "4594eb92-8d03-4960-8f07-a9c5deff5a23"
   },
   "outputs": [
    {
     "data": {
      "text/html": [
       "<div>\n",
       "<style scoped>\n",
       "    .dataframe tbody tr th:only-of-type {\n",
       "        vertical-align: middle;\n",
       "    }\n",
       "\n",
       "    .dataframe tbody tr th {\n",
       "        vertical-align: top;\n",
       "    }\n",
       "\n",
       "    .dataframe thead th {\n",
       "        text-align: right;\n",
       "    }\n",
       "</style>\n",
       "<table border=\"1\" class=\"dataframe\">\n",
       "  <thead>\n",
       "    <tr style=\"text-align: right;\">\n",
       "      <th></th>\n",
       "      <th>A1_Score</th>\n",
       "      <th>A2_Score</th>\n",
       "      <th>A3_Score</th>\n",
       "      <th>A4_Score</th>\n",
       "      <th>A5_Score</th>\n",
       "      <th>A6_Score</th>\n",
       "      <th>A7_Score</th>\n",
       "      <th>A8_Score</th>\n",
       "      <th>A9_Score</th>\n",
       "      <th>A10_Score</th>\n",
       "      <th>age</th>\n",
       "      <th>gender</th>\n",
       "      <th>ethnicity</th>\n",
       "      <th>jundice</th>\n",
       "      <th>austim</th>\n",
       "      <th>contry_of_res</th>\n",
       "      <th>result</th>\n",
       "      <th>Class/ASD</th>\n",
       "    </tr>\n",
       "  </thead>\n",
       "  <tbody>\n",
       "    <tr>\n",
       "      <th>0</th>\n",
       "      <td>1</td>\n",
       "      <td>1</td>\n",
       "      <td>1</td>\n",
       "      <td>1</td>\n",
       "      <td>0</td>\n",
       "      <td>0</td>\n",
       "      <td>1</td>\n",
       "      <td>1</td>\n",
       "      <td>0</td>\n",
       "      <td>0</td>\n",
       "      <td>26</td>\n",
       "      <td>f</td>\n",
       "      <td>White-European</td>\n",
       "      <td>no</td>\n",
       "      <td>no</td>\n",
       "      <td>United States</td>\n",
       "      <td>6</td>\n",
       "      <td>NO</td>\n",
       "    </tr>\n",
       "    <tr>\n",
       "      <th>1</th>\n",
       "      <td>1</td>\n",
       "      <td>1</td>\n",
       "      <td>0</td>\n",
       "      <td>1</td>\n",
       "      <td>0</td>\n",
       "      <td>0</td>\n",
       "      <td>0</td>\n",
       "      <td>1</td>\n",
       "      <td>0</td>\n",
       "      <td>1</td>\n",
       "      <td>24</td>\n",
       "      <td>m</td>\n",
       "      <td>Latino</td>\n",
       "      <td>no</td>\n",
       "      <td>yes</td>\n",
       "      <td>Brazil</td>\n",
       "      <td>5</td>\n",
       "      <td>NO</td>\n",
       "    </tr>\n",
       "    <tr>\n",
       "      <th>2</th>\n",
       "      <td>1</td>\n",
       "      <td>1</td>\n",
       "      <td>0</td>\n",
       "      <td>1</td>\n",
       "      <td>1</td>\n",
       "      <td>0</td>\n",
       "      <td>1</td>\n",
       "      <td>1</td>\n",
       "      <td>1</td>\n",
       "      <td>1</td>\n",
       "      <td>27</td>\n",
       "      <td>m</td>\n",
       "      <td>Latino</td>\n",
       "      <td>yes</td>\n",
       "      <td>yes</td>\n",
       "      <td>Spain</td>\n",
       "      <td>8</td>\n",
       "      <td>YES</td>\n",
       "    </tr>\n",
       "    <tr>\n",
       "      <th>3</th>\n",
       "      <td>1</td>\n",
       "      <td>1</td>\n",
       "      <td>0</td>\n",
       "      <td>1</td>\n",
       "      <td>0</td>\n",
       "      <td>0</td>\n",
       "      <td>1</td>\n",
       "      <td>1</td>\n",
       "      <td>0</td>\n",
       "      <td>1</td>\n",
       "      <td>35</td>\n",
       "      <td>f</td>\n",
       "      <td>White-European</td>\n",
       "      <td>no</td>\n",
       "      <td>yes</td>\n",
       "      <td>United States</td>\n",
       "      <td>6</td>\n",
       "      <td>NO</td>\n",
       "    </tr>\n",
       "    <tr>\n",
       "      <th>4</th>\n",
       "      <td>1</td>\n",
       "      <td>0</td>\n",
       "      <td>0</td>\n",
       "      <td>0</td>\n",
       "      <td>0</td>\n",
       "      <td>0</td>\n",
       "      <td>0</td>\n",
       "      <td>1</td>\n",
       "      <td>0</td>\n",
       "      <td>0</td>\n",
       "      <td>40</td>\n",
       "      <td>f</td>\n",
       "      <td>NaN</td>\n",
       "      <td>no</td>\n",
       "      <td>no</td>\n",
       "      <td>Egypt</td>\n",
       "      <td>2</td>\n",
       "      <td>NO</td>\n",
       "    </tr>\n",
       "  </tbody>\n",
       "</table>\n",
       "</div>"
      ],
      "text/plain": [
       "   A1_Score  A2_Score  A3_Score  A4_Score  A5_Score  A6_Score  A7_Score  \\\n",
       "0         1         1         1         1         0         0         1   \n",
       "1         1         1         0         1         0         0         0   \n",
       "2         1         1         0         1         1         0         1   \n",
       "3         1         1         0         1         0         0         1   \n",
       "4         1         0         0         0         0         0         0   \n",
       "\n",
       "   A8_Score  A9_Score  A10_Score age gender       ethnicity jundice austim  \\\n",
       "0         1         0          0  26      f  White-European      no     no   \n",
       "1         1         0          1  24      m          Latino      no    yes   \n",
       "2         1         1          1  27      m          Latino     yes    yes   \n",
       "3         1         0          1  35      f  White-European      no    yes   \n",
       "4         1         0          0  40      f             NaN      no     no   \n",
       "\n",
       "   contry_of_res  result Class/ASD  \n",
       "0  United States       6        NO  \n",
       "1         Brazil       5        NO  \n",
       "2          Spain       8       YES  \n",
       "3  United States       6        NO  \n",
       "4          Egypt       2        NO  "
      ]
     },
     "execution_count": 5,
     "metadata": {},
     "output_type": "execute_result"
    }
   ],
   "source": [
    "data.head()"
   ]
  },
  {
   "cell_type": "markdown",
   "metadata": {
    "colab_type": "text",
    "id": "__lAQyCG-h_T"
   },
   "source": [
    "#### Após alterar \"?\" por NaN. Utilizando a função ***isnull()*** e adicionando o ***.sum()*** , conseguimos ver quais e quantos são os valores ausentes. \n"
   ]
  },
  {
   "cell_type": "code",
   "execution_count": 6,
   "metadata": {
    "colab": {
     "base_uri": "https://localhost:8080/",
     "height": 340
    },
    "colab_type": "code",
    "id": "GWA0Zp7B-Yta",
    "outputId": "c01e9ef6-c9cf-4d53-ebb4-cdf7689b46df"
   },
   "outputs": [
    {
     "data": {
      "text/plain": [
       "A1_Score          0\n",
       "A2_Score          0\n",
       "A3_Score          0\n",
       "A4_Score          0\n",
       "A5_Score          0\n",
       "A6_Score          0\n",
       "A7_Score          0\n",
       "A8_Score          0\n",
       "A9_Score          0\n",
       "A10_Score         0\n",
       "age               2\n",
       "gender            0\n",
       "ethnicity        95\n",
       "jundice           0\n",
       "austim            0\n",
       "contry_of_res     0\n",
       "result            0\n",
       "Class/ASD         0\n",
       "dtype: int64"
      ]
     },
     "execution_count": 6,
     "metadata": {},
     "output_type": "execute_result"
    }
   ],
   "source": [
    "data.isnull().sum()"
   ]
  },
  {
   "cell_type": "markdown",
   "metadata": {
    "colab_type": "text",
    "id": "31DSCuF5GXVB"
   },
   "source": [
    "#### Como os dados são valores do tipo nominal, substituímos os dados ausentes pela moda dos dados de sua coluna. Mostrando mais uma vez a tabela com a somo dos dados faltantes, podemos ver que não temos mais dados ausentes."
   ]
  },
  {
   "cell_type": "code",
   "execution_count": 7,
   "metadata": {
    "colab": {},
    "colab_type": "code",
    "id": "6JqbbXtXB9dD"
   },
   "outputs": [],
   "source": [
    "data['age'].fillna(data['age'].mode()[0],inplace=True)\n",
    "data['ethnicity'].fillna(data['ethnicity'].mode()[0],inplace=True)\n"
   ]
  },
  {
   "cell_type": "code",
   "execution_count": 8,
   "metadata": {
    "colab": {
     "base_uri": "https://localhost:8080/",
     "height": 340
    },
    "colab_type": "code",
    "id": "HrsajlHGGQqW",
    "outputId": "d6385067-dae8-4ac6-d3d6-5451075f0954"
   },
   "outputs": [
    {
     "data": {
      "text/plain": [
       "A1_Score         0\n",
       "A2_Score         0\n",
       "A3_Score         0\n",
       "A4_Score         0\n",
       "A5_Score         0\n",
       "A6_Score         0\n",
       "A7_Score         0\n",
       "A8_Score         0\n",
       "A9_Score         0\n",
       "A10_Score        0\n",
       "age              0\n",
       "gender           0\n",
       "ethnicity        0\n",
       "jundice          0\n",
       "austim           0\n",
       "contry_of_res    0\n",
       "result           0\n",
       "Class/ASD        0\n",
       "dtype: int64"
      ]
     },
     "execution_count": 8,
     "metadata": {},
     "output_type": "execute_result"
    }
   ],
   "source": [
    "data.isnull().sum()"
   ]
  },
  {
   "cell_type": "markdown",
   "metadata": {
    "colab_type": "text",
    "id": "hveCpIo9DIcP"
   },
   "source": [
    "#### Como sugerido na questão, o gráfico ***boxplot*** foi utilizado para facilitar a identificação de ***outliers***. \n"
   ]
  },
  {
   "cell_type": "code",
   "execution_count": 9,
   "metadata": {
    "colab": {
     "base_uri": "https://localhost:8080/",
     "height": 349
    },
    "colab_type": "code",
    "id": "6dKn21aqIXmX",
    "outputId": "27956aa3-e163-468d-956a-201ab2b83a54"
   },
   "outputs": [
    {
     "data": {
      "image/png": "[encoded data removed]",
      "text/plain": [
       "<Figure size 432x288 with 1 Axes>"
      ]
     },
     "metadata": {},
     "output_type": "display_data"
    }
   ],
   "source": [
    "sns.set(style=\"whitegrid\", color_codes=True)\n",
    "sns.boxplot(data=data);"
   ]
  },
  {
   "cell_type": "markdown",
   "metadata": {},
   "source": [
    "#### Após analisar o gráfico e notar a presença de *outlier*, foi concluído que a melhor opção seria remover a linha que contém o *outlier*."
   ]
  },
  {
   "cell_type": "code",
   "execution_count": 10,
   "metadata": {},
   "outputs": [],
   "source": [
    "data.drop(data[data.age=='383'].index ,inplace=True)"
   ]
  },
  {
   "cell_type": "markdown",
   "metadata": {},
   "source": [
    "#### Plotando o *boxplot* novamente podemos confirmar que o *outlier* foi removido"
   ]
  },
  {
   "cell_type": "code",
   "execution_count": 11,
   "metadata": {
    "colab": {
     "base_uri": "https://localhost:8080/",
     "height": 347
    },
    "colab_type": "code",
    "id": "qtFGToq2Eh_r",
    "outputId": "aee1dc17-0c59-406d-de2a-54a03882f96f"
   },
   "outputs": [
    {
     "data": {
      "image/png": "[encoded data removed]",
      "text/plain": [
       "<Figure size 432x288 with 1 Axes>"
      ]
     },
     "metadata": {},
     "output_type": "display_data"
    }
   ],
   "source": [
    "sns.set(style=\"whitegrid\", color_codes=True)\n",
    "sns.boxplot(data=data);"
   ]
  },
  {
   "cell_type": "markdown",
   "metadata": {},
   "source": [
    "#### Matriz de correlação do dataset"
   ]
  },
  {
   "cell_type": "code",
   "execution_count": 12,
   "metadata": {},
   "outputs": [
    {
     "data": {
      "text/html": [
       "<style  type=\"text/css\" >\n",
       "    #T_5ed4250e_d8e5_11e8_b881_50b7c341d975row0_col0 {\n",
       "            background-color:  #023858;\n",
       "        }    #T_5ed4250e_d8e5_11e8_b881_50b7c341d975row0_col1 {\n",
       "            background-color:  #f7f0f7;\n",
       "        }    #T_5ed4250e_d8e5_11e8_b881_50b7c341d975row0_col2 {\n",
       "            background-color:  #f6eff7;\n",
       "        }    #T_5ed4250e_d8e5_11e8_b881_50b7c341d975row0_col3 {\n",
       "            background-color:  #ede7f2;\n",
       "        }    #T_5ed4250e_d8e5_11e8_b881_50b7c341d975row0_col4 {\n",
       "            background-color:  #f4edf6;\n",
       "        }    #T_5ed4250e_d8e5_11e8_b881_50b7c341d975row0_col5 {\n",
       "            background-color:  #fdf5fa;\n",
       "        }    #T_5ed4250e_d8e5_11e8_b881_50b7c341d975row0_col6 {\n",
       "            background-color:  #d0d1e6;\n",
       "        }    #T_5ed4250e_d8e5_11e8_b881_50b7c341d975row0_col7 {\n",
       "            background-color:  #e8e4f0;\n",
       "        }    #T_5ed4250e_d8e5_11e8_b881_50b7c341d975row0_col8 {\n",
       "            background-color:  #f8f1f8;\n",
       "        }    #T_5ed4250e_d8e5_11e8_b881_50b7c341d975row0_col9 {\n",
       "            background-color:  #f7f0f7;\n",
       "        }    #T_5ed4250e_d8e5_11e8_b881_50b7c341d975row0_col10 {\n",
       "            background-color:  #eee8f3;\n",
       "        }    #T_5ed4250e_d8e5_11e8_b881_50b7c341d975row1_col0 {\n",
       "            background-color:  #fff7fb;\n",
       "        }    #T_5ed4250e_d8e5_11e8_b881_50b7c341d975row1_col1 {\n",
       "            background-color:  #023858;\n",
       "        }    #T_5ed4250e_d8e5_11e8_b881_50b7c341d975row1_col2 {\n",
       "            background-color:  #d9d8ea;\n",
       "        }    #T_5ed4250e_d8e5_11e8_b881_50b7c341d975row1_col3 {\n",
       "            background-color:  #e7e3f0;\n",
       "        }    #T_5ed4250e_d8e5_11e8_b881_50b7c341d975row1_col4 {\n",
       "            background-color:  #f7f0f7;\n",
       "        }    #T_5ed4250e_d8e5_11e8_b881_50b7c341d975row1_col5 {\n",
       "            background-color:  #f1ebf4;\n",
       "        }    #T_5ed4250e_d8e5_11e8_b881_50b7c341d975row1_col6 {\n",
       "            background-color:  #fff7fb;\n",
       "        }    #T_5ed4250e_d8e5_11e8_b881_50b7c341d975row1_col7 {\n",
       "            background-color:  #fbf4f9;\n",
       "        }    #T_5ed4250e_d8e5_11e8_b881_50b7c341d975row1_col8 {\n",
       "            background-color:  #eee8f3;\n",
       "        }    #T_5ed4250e_d8e5_11e8_b881_50b7c341d975row1_col9 {\n",
       "            background-color:  #fff7fb;\n",
       "        }    #T_5ed4250e_d8e5_11e8_b881_50b7c341d975row1_col10 {\n",
       "            background-color:  #f0eaf4;\n",
       "        }    #T_5ed4250e_d8e5_11e8_b881_50b7c341d975row2_col0 {\n",
       "            background-color:  #f5eff6;\n",
       "        }    #T_5ed4250e_d8e5_11e8_b881_50b7c341d975row2_col1 {\n",
       "            background-color:  #ced0e6;\n",
       "        }    #T_5ed4250e_d8e5_11e8_b881_50b7c341d975row2_col2 {\n",
       "            background-color:  #023858;\n",
       "        }    #T_5ed4250e_d8e5_11e8_b881_50b7c341d975row2_col3 {\n",
       "            background-color:  #99b8d8;\n",
       "        }    #T_5ed4250e_d8e5_11e8_b881_50b7c341d975row2_col4 {\n",
       "            background-color:  #e0dded;\n",
       "        }    #T_5ed4250e_d8e5_11e8_b881_50b7c341d975row2_col5 {\n",
       "            background-color:  #dedcec;\n",
       "        }    #T_5ed4250e_d8e5_11e8_b881_50b7c341d975row2_col6 {\n",
       "            background-color:  #eee8f3;\n",
       "        }    #T_5ed4250e_d8e5_11e8_b881_50b7c341d975row2_col7 {\n",
       "            background-color:  #fef6fa;\n",
       "        }    #T_5ed4250e_d8e5_11e8_b881_50b7c341d975row2_col8 {\n",
       "            background-color:  #d3d4e7;\n",
       "        }    #T_5ed4250e_d8e5_11e8_b881_50b7c341d975row2_col9 {\n",
       "            background-color:  #efe9f3;\n",
       "        }    #T_5ed4250e_d8e5_11e8_b881_50b7c341d975row2_col10 {\n",
       "            background-color:  #b3c3de;\n",
       "        }    #T_5ed4250e_d8e5_11e8_b881_50b7c341d975row3_col0 {\n",
       "            background-color:  #ede8f3;\n",
       "        }    #T_5ed4250e_d8e5_11e8_b881_50b7c341d975row3_col1 {\n",
       "            background-color:  #dddbec;\n",
       "        }    #T_5ed4250e_d8e5_11e8_b881_50b7c341d975row3_col2 {\n",
       "            background-color:  #9ab8d8;\n",
       "        }    #T_5ed4250e_d8e5_11e8_b881_50b7c341d975row3_col3 {\n",
       "            background-color:  #023858;\n",
       "        }    #T_5ed4250e_d8e5_11e8_b881_50b7c341d975row3_col4 {\n",
       "            background-color:  #d5d5e8;\n",
       "        }    #T_5ed4250e_d8e5_11e8_b881_50b7c341d975row3_col5 {\n",
       "            background-color:  #d8d7e9;\n",
       "        }    #T_5ed4250e_d8e5_11e8_b881_50b7c341d975row3_col6 {\n",
       "            background-color:  #dfddec;\n",
       "        }    #T_5ed4250e_d8e5_11e8_b881_50b7c341d975row3_col7 {\n",
       "            background-color:  #fff7fb;\n",
       "        }    #T_5ed4250e_d8e5_11e8_b881_50b7c341d975row3_col8 {\n",
       "            background-color:  #d0d1e6;\n",
       "        }    #T_5ed4250e_d8e5_11e8_b881_50b7c341d975row3_col9 {\n",
       "            background-color:  #e6e2ef;\n",
       "        }    #T_5ed4250e_d8e5_11e8_b881_50b7c341d975row3_col10 {\n",
       "            background-color:  #a1bbda;\n",
       "        }    #T_5ed4250e_d8e5_11e8_b881_50b7c341d975row4_col0 {\n",
       "            background-color:  #e5e1ef;\n",
       "        }    #T_5ed4250e_d8e5_11e8_b881_50b7c341d975row4_col1 {\n",
       "            background-color:  #dedcec;\n",
       "        }    #T_5ed4250e_d8e5_11e8_b881_50b7c341d975row4_col2 {\n",
       "            background-color:  #d0d1e6;\n",
       "        }    #T_5ed4250e_d8e5_11e8_b881_50b7c341d975row4_col3 {\n",
       "            background-color:  #bfc9e1;\n",
       "        }    #T_5ed4250e_d8e5_11e8_b881_50b7c341d975row4_col4 {\n",
       "            background-color:  #023858;\n",
       "        }    #T_5ed4250e_d8e5_11e8_b881_50b7c341d975row4_col5 {\n",
       "            background-color:  #b7c5df;\n",
       "        }    #T_5ed4250e_d8e5_11e8_b881_50b7c341d975row4_col6 {\n",
       "            background-color:  #cacee5;\n",
       "        }    #T_5ed4250e_d8e5_11e8_b881_50b7c341d975row4_col7 {\n",
       "            background-color:  #f1ebf4;\n",
       "        }    #T_5ed4250e_d8e5_11e8_b881_50b7c341d975row4_col8 {\n",
       "            background-color:  #b5c4df;\n",
       "        }    #T_5ed4250e_d8e5_11e8_b881_50b7c341d975row4_col9 {\n",
       "            background-color:  #d9d8ea;\n",
       "        }    #T_5ed4250e_d8e5_11e8_b881_50b7c341d975row4_col10 {\n",
       "            background-color:  #81aed2;\n",
       "        }    #T_5ed4250e_d8e5_11e8_b881_50b7c341d975row5_col0 {\n",
       "            background-color:  #f0eaf4;\n",
       "        }    #T_5ed4250e_d8e5_11e8_b881_50b7c341d975row5_col1 {\n",
       "            background-color:  #d8d7e9;\n",
       "        }    #T_5ed4250e_d8e5_11e8_b881_50b7c341d975row5_col2 {\n",
       "            background-color:  #ced0e6;\n",
       "        }    #T_5ed4250e_d8e5_11e8_b881_50b7c341d975row5_col3 {\n",
       "            background-color:  #c2cbe2;\n",
       "        }    #T_5ed4250e_d8e5_11e8_b881_50b7c341d975row5_col4 {\n",
       "            background-color:  #b8c6e0;\n",
       "        }    #T_5ed4250e_d8e5_11e8_b881_50b7c341d975row5_col5 {\n",
       "            background-color:  #023858;\n",
       "        }    #T_5ed4250e_d8e5_11e8_b881_50b7c341d975row5_col6 {\n",
       "            background-color:  #d9d8ea;\n",
       "        }    #T_5ed4250e_d8e5_11e8_b881_50b7c341d975row5_col7 {\n",
       "            background-color:  #f1ebf5;\n",
       "        }    #T_5ed4250e_d8e5_11e8_b881_50b7c341d975row5_col8 {\n",
       "            background-color:  #94b6d7;\n",
       "        }    #T_5ed4250e_d8e5_11e8_b881_50b7c341d975row5_col9 {\n",
       "            background-color:  #d2d2e7;\n",
       "        }    #T_5ed4250e_d8e5_11e8_b881_50b7c341d975row5_col10 {\n",
       "            background-color:  #86b0d3;\n",
       "        }    #T_5ed4250e_d8e5_11e8_b881_50b7c341d975row6_col0 {\n",
       "            background-color:  #d9d8ea;\n",
       "        }    #T_5ed4250e_d8e5_11e8_b881_50b7c341d975row6_col1 {\n",
       "            background-color:  #fff7fb;\n",
       "        }    #T_5ed4250e_d8e5_11e8_b881_50b7c341d975row6_col2 {\n",
       "            background-color:  #f6eff7;\n",
       "        }    #T_5ed4250e_d8e5_11e8_b881_50b7c341d975row6_col3 {\n",
       "            background-color:  #e8e4f0;\n",
       "        }    #T_5ed4250e_d8e5_11e8_b881_50b7c341d975row6_col4 {\n",
       "            background-color:  #e6e2ef;\n",
       "        }    #T_5ed4250e_d8e5_11e8_b881_50b7c341d975row6_col5 {\n",
       "            background-color:  #f2ecf5;\n",
       "        }    #T_5ed4250e_d8e5_11e8_b881_50b7c341d975row6_col6 {\n",
       "            background-color:  #023858;\n",
       "        }    #T_5ed4250e_d8e5_11e8_b881_50b7c341d975row6_col7 {\n",
       "            background-color:  #f4edf6;\n",
       "        }    #T_5ed4250e_d8e5_11e8_b881_50b7c341d975row6_col8 {\n",
       "            background-color:  #f0eaf4;\n",
       "        }    #T_5ed4250e_d8e5_11e8_b881_50b7c341d975row6_col9 {\n",
       "            background-color:  #dcdaeb;\n",
       "        }    #T_5ed4250e_d8e5_11e8_b881_50b7c341d975row6_col10 {\n",
       "            background-color:  #dddbec;\n",
       "        }    #T_5ed4250e_d8e5_11e8_b881_50b7c341d975row7_col0 {\n",
       "            background-color:  #e9e5f1;\n",
       "        }    #T_5ed4250e_d8e5_11e8_b881_50b7c341d975row7_col1 {\n",
       "            background-color:  #f4eef6;\n",
       "        }    #T_5ed4250e_d8e5_11e8_b881_50b7c341d975row7_col2 {\n",
       "            background-color:  #fff7fb;\n",
       "        }    #T_5ed4250e_d8e5_11e8_b881_50b7c341d975row7_col3 {\n",
       "            background-color:  #fff7fb;\n",
       "        }    #T_5ed4250e_d8e5_11e8_b881_50b7c341d975row7_col4 {\n",
       "            background-color:  #fff7fb;\n",
       "        }    #T_5ed4250e_d8e5_11e8_b881_50b7c341d975row7_col5 {\n",
       "            background-color:  #fff7fb;\n",
       "        }    #T_5ed4250e_d8e5_11e8_b881_50b7c341d975row7_col6 {\n",
       "            background-color:  #ede7f2;\n",
       "        }    #T_5ed4250e_d8e5_11e8_b881_50b7c341d975row7_col7 {\n",
       "            background-color:  #023858;\n",
       "        }    #T_5ed4250e_d8e5_11e8_b881_50b7c341d975row7_col8 {\n",
       "            background-color:  #fff7fb;\n",
       "        }    #T_5ed4250e_d8e5_11e8_b881_50b7c341d975row7_col9 {\n",
       "            background-color:  #faf3f9;\n",
       "        }    #T_5ed4250e_d8e5_11e8_b881_50b7c341d975row7_col10 {\n",
       "            background-color:  #fff7fb;\n",
       "        }    #T_5ed4250e_d8e5_11e8_b881_50b7c341d975row8_col0 {\n",
       "            background-color:  #eae6f1;\n",
       "        }    #T_5ed4250e_d8e5_11e8_b881_50b7c341d975row8_col1 {\n",
       "            background-color:  #d3d4e7;\n",
       "        }    #T_5ed4250e_d8e5_11e8_b881_50b7c341d975row8_col2 {\n",
       "            background-color:  #bfc9e1;\n",
       "        }    #T_5ed4250e_d8e5_11e8_b881_50b7c341d975row8_col3 {\n",
       "            background-color:  #b8c6e0;\n",
       "        }    #T_5ed4250e_d8e5_11e8_b881_50b7c341d975row8_col4 {\n",
       "            background-color:  #b5c4df;\n",
       "        }    #T_5ed4250e_d8e5_11e8_b881_50b7c341d975row8_col5 {\n",
       "            background-color:  #94b6d7;\n",
       "        }    #T_5ed4250e_d8e5_11e8_b881_50b7c341d975row8_col6 {\n",
       "            background-color:  #d7d6e9;\n",
       "        }    #T_5ed4250e_d8e5_11e8_b881_50b7c341d975row8_col7 {\n",
       "            background-color:  #f1ebf4;\n",
       "        }    #T_5ed4250e_d8e5_11e8_b881_50b7c341d975row8_col8 {\n",
       "            background-color:  #023858;\n",
       "        }    #T_5ed4250e_d8e5_11e8_b881_50b7c341d975row8_col9 {\n",
       "            background-color:  #d4d4e8;\n",
       "        }    #T_5ed4250e_d8e5_11e8_b881_50b7c341d975row8_col10 {\n",
       "            background-color:  #73a9cf;\n",
       "        }    #T_5ed4250e_d8e5_11e8_b881_50b7c341d975row9_col0 {\n",
       "            background-color:  #efe9f3;\n",
       "        }    #T_5ed4250e_d8e5_11e8_b881_50b7c341d975row9_col1 {\n",
       "            background-color:  #efe9f3;\n",
       "        }    #T_5ed4250e_d8e5_11e8_b881_50b7c341d975row9_col2 {\n",
       "            background-color:  #e6e2ef;\n",
       "        }    #T_5ed4250e_d8e5_11e8_b881_50b7c341d975row9_col3 {\n",
       "            background-color:  #dad9ea;\n",
       "        }    #T_5ed4250e_d8e5_11e8_b881_50b7c341d975row9_col4 {\n",
       "            background-color:  #dfddec;\n",
       "        }    #T_5ed4250e_d8e5_11e8_b881_50b7c341d975row9_col5 {\n",
       "            background-color:  #d8d7e9;\n",
       "        }    #T_5ed4250e_d8e5_11e8_b881_50b7c341d975row9_col6 {\n",
       "            background-color:  #c5cce3;\n",
       "        }    #T_5ed4250e_d8e5_11e8_b881_50b7c341d975row9_col7 {\n",
       "            background-color:  #f1ebf5;\n",
       "        }    #T_5ed4250e_d8e5_11e8_b881_50b7c341d975row9_col8 {\n",
       "            background-color:  #dbdaeb;\n",
       "        }    #T_5ed4250e_d8e5_11e8_b881_50b7c341d975row9_col9 {\n",
       "            background-color:  #023858;\n",
       "        }    #T_5ed4250e_d8e5_11e8_b881_50b7c341d975row9_col10 {\n",
       "            background-color:  #bbc7e0;\n",
       "        }    #T_5ed4250e_d8e5_11e8_b881_50b7c341d975row10_col0 {\n",
       "            background-color:  #9fbad9;\n",
       "        }    #T_5ed4250e_d8e5_11e8_b881_50b7c341d975row10_col1 {\n",
       "            background-color:  #96b6d7;\n",
       "        }    #T_5ed4250e_d8e5_11e8_b881_50b7c341d975row10_col2 {\n",
       "            background-color:  #5ea0ca;\n",
       "        }    #T_5ed4250e_d8e5_11e8_b881_50b7c341d975row10_col3 {\n",
       "            background-color:  #4a98c5;\n",
       "        }    #T_5ed4250e_d8e5_11e8_b881_50b7c341d975row10_col4 {\n",
       "            background-color:  #4295c3;\n",
       "        }    #T_5ed4250e_d8e5_11e8_b881_50b7c341d975row10_col5 {\n",
       "            background-color:  #4897c4;\n",
       "        }    #T_5ed4250e_d8e5_11e8_b881_50b7c341d975row10_col6 {\n",
       "            background-color:  #7eadd1;\n",
       "        }    #T_5ed4250e_d8e5_11e8_b881_50b7c341d975row10_col7 {\n",
       "            background-color:  #b9c6e0;\n",
       "        }    #T_5ed4250e_d8e5_11e8_b881_50b7c341d975row10_col8 {\n",
       "            background-color:  #3790c0;\n",
       "        }    #T_5ed4250e_d8e5_11e8_b881_50b7c341d975row10_col9 {\n",
       "            background-color:  #73a9cf;\n",
       "        }    #T_5ed4250e_d8e5_11e8_b881_50b7c341d975row10_col10 {\n",
       "            background-color:  #023858;\n",
       "        }</style>  \n",
       "<table id=\"T_5ed4250e_d8e5_11e8_b881_50b7c341d975\" > \n",
       "<thead>    <tr> \n",
       "        <th class=\"blank level0\" ></th> \n",
       "        <th class=\"col_heading level0 col0\" >A1_Score</th> \n",
       "        <th class=\"col_heading level0 col1\" >A2_Score</th> \n",
       "        <th class=\"col_heading level0 col2\" >A3_Score</th> \n",
       "        <th class=\"col_heading level0 col3\" >A4_Score</th> \n",
       "        <th class=\"col_heading level0 col4\" >A5_Score</th> \n",
       "        <th class=\"col_heading level0 col5\" >A6_Score</th> \n",
       "        <th class=\"col_heading level0 col6\" >A7_Score</th> \n",
       "        <th class=\"col_heading level0 col7\" >A8_Score</th> \n",
       "        <th class=\"col_heading level0 col8\" >A9_Score</th> \n",
       "        <th class=\"col_heading level0 col9\" >A10_Score</th> \n",
       "        <th class=\"col_heading level0 col10\" >result</th> \n",
       "    </tr></thead> \n",
       "<tbody>    <tr> \n",
       "        <th id=\"T_5ed4250e_d8e5_11e8_b881_50b7c341d975level0_row0\" class=\"row_heading level0 row0\" >A1_Score</th> \n",
       "        <td id=\"T_5ed4250e_d8e5_11e8_b881_50b7c341d975row0_col0\" class=\"data row0 col0\" >1</td> \n",
       "        <td id=\"T_5ed4250e_d8e5_11e8_b881_50b7c341d975row0_col1\" class=\"data row0 col1\" >0.012</td> \n",
       "        <td id=\"T_5ed4250e_d8e5_11e8_b881_50b7c341d975row0_col2\" class=\"data row0 col2\" >0.075</td> \n",
       "        <td id=\"T_5ed4250e_d8e5_11e8_b881_50b7c341d975row0_col3\" class=\"data row0 col3\" >0.13</td> \n",
       "        <td id=\"T_5ed4250e_d8e5_11e8_b881_50b7c341d975row0_col4\" class=\"data row0 col4\" >0.17</td> \n",
       "        <td id=\"T_5ed4250e_d8e5_11e8_b881_50b7c341d975row0_col5\" class=\"data row0 col5\" >0.11</td> \n",
       "        <td id=\"T_5ed4250e_d8e5_11e8_b881_50b7c341d975row0_col6\" class=\"data row0 col6\" >0.22</td> \n",
       "        <td id=\"T_5ed4250e_d8e5_11e8_b881_50b7c341d975row0_col7\" class=\"data row0 col7\" >0.15</td> \n",
       "        <td id=\"T_5ed4250e_d8e5_11e8_b881_50b7c341d975row0_col8\" class=\"data row0 col8\" >0.15</td> \n",
       "        <td id=\"T_5ed4250e_d8e5_11e8_b881_50b7c341d975row0_col9\" class=\"data row0 col9\" >0.12</td> \n",
       "        <td id=\"T_5ed4250e_d8e5_11e8_b881_50b7c341d975row0_col10\" class=\"data row0 col10\" >0.4</td> \n",
       "    </tr>    <tr> \n",
       "        <th id=\"T_5ed4250e_d8e5_11e8_b881_50b7c341d975level0_row1\" class=\"row_heading level0 row1\" >A2_Score</th> \n",
       "        <td id=\"T_5ed4250e_d8e5_11e8_b881_50b7c341d975row1_col0\" class=\"data row1 col0\" >0.012</td> \n",
       "        <td id=\"T_5ed4250e_d8e5_11e8_b881_50b7c341d975row1_col1\" class=\"data row1 col1\" >1</td> \n",
       "        <td id=\"T_5ed4250e_d8e5_11e8_b881_50b7c341d975row1_col2\" class=\"data row1 col2\" >0.22</td> \n",
       "        <td id=\"T_5ed4250e_d8e5_11e8_b881_50b7c341d975row1_col3\" class=\"data row1 col3\" >0.16</td> \n",
       "        <td id=\"T_5ed4250e_d8e5_11e8_b881_50b7c341d975row1_col4\" class=\"data row1 col4\" >0.15</td> \n",
       "        <td id=\"T_5ed4250e_d8e5_11e8_b881_50b7c341d975row1_col5\" class=\"data row1 col5\" >0.19</td> \n",
       "        <td id=\"T_5ed4250e_d8e5_11e8_b881_50b7c341d975row1_col6\" class=\"data row1 col6\" >-0.043</td> \n",
       "        <td id=\"T_5ed4250e_d8e5_11e8_b881_50b7c341d975row1_col7\" class=\"data row1 col7\" >0.034</td> \n",
       "        <td id=\"T_5ed4250e_d8e5_11e8_b881_50b7c341d975row1_col8\" class=\"data row1 col8\" >0.2</td> \n",
       "        <td id=\"T_5ed4250e_d8e5_11e8_b881_50b7c341d975row1_col9\" class=\"data row1 col9\" >0.067</td> \n",
       "        <td id=\"T_5ed4250e_d8e5_11e8_b881_50b7c341d975row1_col10\" class=\"data row1 col10\" >0.39</td> \n",
       "    </tr>    <tr> \n",
       "        <th id=\"T_5ed4250e_d8e5_11e8_b881_50b7c341d975level0_row2\" class=\"row_heading level0 row2\" >A3_Score</th> \n",
       "        <td id=\"T_5ed4250e_d8e5_11e8_b881_50b7c341d975row2_col0\" class=\"data row2 col0\" >0.075</td> \n",
       "        <td id=\"T_5ed4250e_d8e5_11e8_b881_50b7c341d975row2_col1\" class=\"data row2 col1\" >0.22</td> \n",
       "        <td id=\"T_5ed4250e_d8e5_11e8_b881_50b7c341d975row2_col2\" class=\"data row2 col2\" >1</td> \n",
       "        <td id=\"T_5ed4250e_d8e5_11e8_b881_50b7c341d975row2_col3\" class=\"data row2 col3\" >0.41</td> \n",
       "        <td id=\"T_5ed4250e_d8e5_11e8_b881_50b7c341d975row2_col4\" class=\"data row2 col4\" >0.26</td> \n",
       "        <td id=\"T_5ed4250e_d8e5_11e8_b881_50b7c341d975row2_col5\" class=\"data row2 col5\" >0.27</td> \n",
       "        <td id=\"T_5ed4250e_d8e5_11e8_b881_50b7c341d975row2_col6\" class=\"data row2 col6\" >0.077</td> \n",
       "        <td id=\"T_5ed4250e_d8e5_11e8_b881_50b7c341d975row2_col7\" class=\"data row2 col7\" >0.016</td> \n",
       "        <td id=\"T_5ed4250e_d8e5_11e8_b881_50b7c341d975row2_col8\" class=\"data row2 col8\" >0.31</td> \n",
       "        <td id=\"T_5ed4250e_d8e5_11e8_b881_50b7c341d975row2_col9\" class=\"data row2 col9\" >0.17</td> \n",
       "        <td id=\"T_5ed4250e_d8e5_11e8_b881_50b7c341d975row2_col10\" class=\"data row2 col10\" >0.55</td> \n",
       "    </tr>    <tr> \n",
       "        <th id=\"T_5ed4250e_d8e5_11e8_b881_50b7c341d975level0_row3\" class=\"row_heading level0 row3\" >A4_Score</th> \n",
       "        <td id=\"T_5ed4250e_d8e5_11e8_b881_50b7c341d975row3_col0\" class=\"data row3 col0\" >0.13</td> \n",
       "        <td id=\"T_5ed4250e_d8e5_11e8_b881_50b7c341d975row3_col1\" class=\"data row3 col1\" >0.16</td> \n",
       "        <td id=\"T_5ed4250e_d8e5_11e8_b881_50b7c341d975row3_col2\" class=\"data row3 col2\" >0.41</td> \n",
       "        <td id=\"T_5ed4250e_d8e5_11e8_b881_50b7c341d975row3_col3\" class=\"data row3 col3\" >1</td> \n",
       "        <td id=\"T_5ed4250e_d8e5_11e8_b881_50b7c341d975row3_col4\" class=\"data row3 col4\" >0.31</td> \n",
       "        <td id=\"T_5ed4250e_d8e5_11e8_b881_50b7c341d975row3_col5\" class=\"data row3 col5\" >0.29</td> \n",
       "        <td id=\"T_5ed4250e_d8e5_11e8_b881_50b7c341d975row3_col6\" class=\"data row3 col6\" >0.15</td> \n",
       "        <td id=\"T_5ed4250e_d8e5_11e8_b881_50b7c341d975row3_col7\" class=\"data row3 col7\" >0.0067</td> \n",
       "        <td id=\"T_5ed4250e_d8e5_11e8_b881_50b7c341d975row3_col8\" class=\"data row3 col8\" >0.33</td> \n",
       "        <td id=\"T_5ed4250e_d8e5_11e8_b881_50b7c341d975row3_col9\" class=\"data row3 col9\" >0.21</td> \n",
       "        <td id=\"T_5ed4250e_d8e5_11e8_b881_50b7c341d975row3_col10\" class=\"data row3 col10\" >0.59</td> \n",
       "    </tr>    <tr> \n",
       "        <th id=\"T_5ed4250e_d8e5_11e8_b881_50b7c341d975level0_row4\" class=\"row_heading level0 row4\" >A5_Score</th> \n",
       "        <td id=\"T_5ed4250e_d8e5_11e8_b881_50b7c341d975row4_col0\" class=\"data row4 col0\" >0.17</td> \n",
       "        <td id=\"T_5ed4250e_d8e5_11e8_b881_50b7c341d975row4_col1\" class=\"data row4 col1\" >0.15</td> \n",
       "        <td id=\"T_5ed4250e_d8e5_11e8_b881_50b7c341d975row4_col2\" class=\"data row4 col2\" >0.26</td> \n",
       "        <td id=\"T_5ed4250e_d8e5_11e8_b881_50b7c341d975row4_col3\" class=\"data row4 col3\" >0.31</td> \n",
       "        <td id=\"T_5ed4250e_d8e5_11e8_b881_50b7c341d975row4_col4\" class=\"data row4 col4\" >1</td> \n",
       "        <td id=\"T_5ed4250e_d8e5_11e8_b881_50b7c341d975row4_col5\" class=\"data row4 col5\" >0.39</td> \n",
       "        <td id=\"T_5ed4250e_d8e5_11e8_b881_50b7c341d975row4_col6\" class=\"data row4 col6\" >0.24</td> \n",
       "        <td id=\"T_5ed4250e_d8e5_11e8_b881_50b7c341d975row4_col7\" class=\"data row4 col7\" >0.1</td> \n",
       "        <td id=\"T_5ed4250e_d8e5_11e8_b881_50b7c341d975row4_col8\" class=\"data row4 col8\" >0.4</td> \n",
       "        <td id=\"T_5ed4250e_d8e5_11e8_b881_50b7c341d975row4_col9\" class=\"data row4 col9\" >0.27</td> \n",
       "        <td id=\"T_5ed4250e_d8e5_11e8_b881_50b7c341d975row4_col10\" class=\"data row4 col10\" >0.64</td> \n",
       "    </tr>    <tr> \n",
       "        <th id=\"T_5ed4250e_d8e5_11e8_b881_50b7c341d975level0_row5\" class=\"row_heading level0 row5\" >A6_Score</th> \n",
       "        <td id=\"T_5ed4250e_d8e5_11e8_b881_50b7c341d975row5_col0\" class=\"data row5 col0\" >0.11</td> \n",
       "        <td id=\"T_5ed4250e_d8e5_11e8_b881_50b7c341d975row5_col1\" class=\"data row5 col1\" >0.19</td> \n",
       "        <td id=\"T_5ed4250e_d8e5_11e8_b881_50b7c341d975row5_col2\" class=\"data row5 col2\" >0.27</td> \n",
       "        <td id=\"T_5ed4250e_d8e5_11e8_b881_50b7c341d975row5_col3\" class=\"data row5 col3\" >0.29</td> \n",
       "        <td id=\"T_5ed4250e_d8e5_11e8_b881_50b7c341d975row5_col4\" class=\"data row5 col4\" >0.39</td> \n",
       "        <td id=\"T_5ed4250e_d8e5_11e8_b881_50b7c341d975row5_col5\" class=\"data row5 col5\" >1</td> \n",
       "        <td id=\"T_5ed4250e_d8e5_11e8_b881_50b7c341d975row5_col6\" class=\"data row5 col6\" >0.17</td> \n",
       "        <td id=\"T_5ed4250e_d8e5_11e8_b881_50b7c341d975row5_col7\" class=\"data row5 col7\" >0.099</td> \n",
       "        <td id=\"T_5ed4250e_d8e5_11e8_b881_50b7c341d975row5_col8\" class=\"data row5 col8\" >0.48</td> \n",
       "        <td id=\"T_5ed4250e_d8e5_11e8_b881_50b7c341d975row5_col9\" class=\"data row5 col9\" >0.29</td> \n",
       "        <td id=\"T_5ed4250e_d8e5_11e8_b881_50b7c341d975row5_col10\" class=\"data row5 col10\" >0.63</td> \n",
       "    </tr>    <tr> \n",
       "        <th id=\"T_5ed4250e_d8e5_11e8_b881_50b7c341d975level0_row6\" class=\"row_heading level0 row6\" >A7_Score</th> \n",
       "        <td id=\"T_5ed4250e_d8e5_11e8_b881_50b7c341d975row6_col0\" class=\"data row6 col0\" >0.22</td> \n",
       "        <td id=\"T_5ed4250e_d8e5_11e8_b881_50b7c341d975row6_col1\" class=\"data row6 col1\" >-0.043</td> \n",
       "        <td id=\"T_5ed4250e_d8e5_11e8_b881_50b7c341d975row6_col2\" class=\"data row6 col2\" >0.077</td> \n",
       "        <td id=\"T_5ed4250e_d8e5_11e8_b881_50b7c341d975row6_col3\" class=\"data row6 col3\" >0.15</td> \n",
       "        <td id=\"T_5ed4250e_d8e5_11e8_b881_50b7c341d975row6_col4\" class=\"data row6 col4\" >0.24</td> \n",
       "        <td id=\"T_5ed4250e_d8e5_11e8_b881_50b7c341d975row6_col5\" class=\"data row6 col5\" >0.17</td> \n",
       "        <td id=\"T_5ed4250e_d8e5_11e8_b881_50b7c341d975row6_col6\" class=\"data row6 col6\" >1</td> \n",
       "        <td id=\"T_5ed4250e_d8e5_11e8_b881_50b7c341d975row6_col7\" class=\"data row6 col7\" >0.084</td> \n",
       "        <td id=\"T_5ed4250e_d8e5_11e8_b881_50b7c341d975row6_col8\" class=\"data row6 col8\" >0.19</td> \n",
       "        <td id=\"T_5ed4250e_d8e5_11e8_b881_50b7c341d975row6_col9\" class=\"data row6 col9\" >0.25</td> \n",
       "        <td id=\"T_5ed4250e_d8e5_11e8_b881_50b7c341d975row6_col10\" class=\"data row6 col10\" >0.45</td> \n",
       "    </tr>    <tr> \n",
       "        <th id=\"T_5ed4250e_d8e5_11e8_b881_50b7c341d975level0_row7\" class=\"row_heading level0 row7\" >A8_Score</th> \n",
       "        <td id=\"T_5ed4250e_d8e5_11e8_b881_50b7c341d975row7_col0\" class=\"data row7 col0\" >0.15</td> \n",
       "        <td id=\"T_5ed4250e_d8e5_11e8_b881_50b7c341d975row7_col1\" class=\"data row7 col1\" >0.034</td> \n",
       "        <td id=\"T_5ed4250e_d8e5_11e8_b881_50b7c341d975row7_col2\" class=\"data row7 col2\" >0.016</td> \n",
       "        <td id=\"T_5ed4250e_d8e5_11e8_b881_50b7c341d975row7_col3\" class=\"data row7 col3\" >0.0067</td> \n",
       "        <td id=\"T_5ed4250e_d8e5_11e8_b881_50b7c341d975row7_col4\" class=\"data row7 col4\" >0.1</td> \n",
       "        <td id=\"T_5ed4250e_d8e5_11e8_b881_50b7c341d975row7_col5\" class=\"data row7 col5\" >0.099</td> \n",
       "        <td id=\"T_5ed4250e_d8e5_11e8_b881_50b7c341d975row7_col6\" class=\"data row7 col6\" >0.084</td> \n",
       "        <td id=\"T_5ed4250e_d8e5_11e8_b881_50b7c341d975row7_col7\" class=\"data row7 col7\" >1</td> \n",
       "        <td id=\"T_5ed4250e_d8e5_11e8_b881_50b7c341d975row7_col8\" class=\"data row7 col8\" >0.1</td> \n",
       "        <td id=\"T_5ed4250e_d8e5_11e8_b881_50b7c341d975row7_col9\" class=\"data row7 col9\" >0.099</td> \n",
       "        <td id=\"T_5ed4250e_d8e5_11e8_b881_50b7c341d975row7_col10\" class=\"data row7 col10\" >0.32</td> \n",
       "    </tr>    <tr> \n",
       "        <th id=\"T_5ed4250e_d8e5_11e8_b881_50b7c341d975level0_row8\" class=\"row_heading level0 row8\" >A9_Score</th> \n",
       "        <td id=\"T_5ed4250e_d8e5_11e8_b881_50b7c341d975row8_col0\" class=\"data row8 col0\" >0.15</td> \n",
       "        <td id=\"T_5ed4250e_d8e5_11e8_b881_50b7c341d975row8_col1\" class=\"data row8 col1\" >0.2</td> \n",
       "        <td id=\"T_5ed4250e_d8e5_11e8_b881_50b7c341d975row8_col2\" class=\"data row8 col2\" >0.31</td> \n",
       "        <td id=\"T_5ed4250e_d8e5_11e8_b881_50b7c341d975row8_col3\" class=\"data row8 col3\" >0.33</td> \n",
       "        <td id=\"T_5ed4250e_d8e5_11e8_b881_50b7c341d975row8_col4\" class=\"data row8 col4\" >0.4</td> \n",
       "        <td id=\"T_5ed4250e_d8e5_11e8_b881_50b7c341d975row8_col5\" class=\"data row8 col5\" >0.48</td> \n",
       "        <td id=\"T_5ed4250e_d8e5_11e8_b881_50b7c341d975row8_col6\" class=\"data row8 col6\" >0.19</td> \n",
       "        <td id=\"T_5ed4250e_d8e5_11e8_b881_50b7c341d975row8_col7\" class=\"data row8 col7\" >0.1</td> \n",
       "        <td id=\"T_5ed4250e_d8e5_11e8_b881_50b7c341d975row8_col8\" class=\"data row8 col8\" >1</td> \n",
       "        <td id=\"T_5ed4250e_d8e5_11e8_b881_50b7c341d975row8_col9\" class=\"data row8 col9\" >0.28</td> \n",
       "        <td id=\"T_5ed4250e_d8e5_11e8_b881_50b7c341d975row8_col10\" class=\"data row8 col10\" >0.66</td> \n",
       "    </tr>    <tr> \n",
       "        <th id=\"T_5ed4250e_d8e5_11e8_b881_50b7c341d975level0_row9\" class=\"row_heading level0 row9\" >A10_Score</th> \n",
       "        <td id=\"T_5ed4250e_d8e5_11e8_b881_50b7c341d975row9_col0\" class=\"data row9 col0\" >0.12</td> \n",
       "        <td id=\"T_5ed4250e_d8e5_11e8_b881_50b7c341d975row9_col1\" class=\"data row9 col1\" >0.067</td> \n",
       "        <td id=\"T_5ed4250e_d8e5_11e8_b881_50b7c341d975row9_col2\" class=\"data row9 col2\" >0.17</td> \n",
       "        <td id=\"T_5ed4250e_d8e5_11e8_b881_50b7c341d975row9_col3\" class=\"data row9 col3\" >0.21</td> \n",
       "        <td id=\"T_5ed4250e_d8e5_11e8_b881_50b7c341d975row9_col4\" class=\"data row9 col4\" >0.27</td> \n",
       "        <td id=\"T_5ed4250e_d8e5_11e8_b881_50b7c341d975row9_col5\" class=\"data row9 col5\" >0.29</td> \n",
       "        <td id=\"T_5ed4250e_d8e5_11e8_b881_50b7c341d975row9_col6\" class=\"data row9 col6\" >0.25</td> \n",
       "        <td id=\"T_5ed4250e_d8e5_11e8_b881_50b7c341d975row9_col7\" class=\"data row9 col7\" >0.099</td> \n",
       "        <td id=\"T_5ed4250e_d8e5_11e8_b881_50b7c341d975row9_col8\" class=\"data row9 col8\" >0.28</td> \n",
       "        <td id=\"T_5ed4250e_d8e5_11e8_b881_50b7c341d975row9_col9\" class=\"data row9 col9\" >1</td> \n",
       "        <td id=\"T_5ed4250e_d8e5_11e8_b881_50b7c341d975row9_col10\" class=\"data row9 col10\" >0.54</td> \n",
       "    </tr>    <tr> \n",
       "        <th id=\"T_5ed4250e_d8e5_11e8_b881_50b7c341d975level0_row10\" class=\"row_heading level0 row10\" >result</th> \n",
       "        <td id=\"T_5ed4250e_d8e5_11e8_b881_50b7c341d975row10_col0\" class=\"data row10 col0\" >0.4</td> \n",
       "        <td id=\"T_5ed4250e_d8e5_11e8_b881_50b7c341d975row10_col1\" class=\"data row10 col1\" >0.39</td> \n",
       "        <td id=\"T_5ed4250e_d8e5_11e8_b881_50b7c341d975row10_col2\" class=\"data row10 col2\" >0.55</td> \n",
       "        <td id=\"T_5ed4250e_d8e5_11e8_b881_50b7c341d975row10_col3\" class=\"data row10 col3\" >0.59</td> \n",
       "        <td id=\"T_5ed4250e_d8e5_11e8_b881_50b7c341d975row10_col4\" class=\"data row10 col4\" >0.64</td> \n",
       "        <td id=\"T_5ed4250e_d8e5_11e8_b881_50b7c341d975row10_col5\" class=\"data row10 col5\" >0.63</td> \n",
       "        <td id=\"T_5ed4250e_d8e5_11e8_b881_50b7c341d975row10_col6\" class=\"data row10 col6\" >0.45</td> \n",
       "        <td id=\"T_5ed4250e_d8e5_11e8_b881_50b7c341d975row10_col7\" class=\"data row10 col7\" >0.32</td> \n",
       "        <td id=\"T_5ed4250e_d8e5_11e8_b881_50b7c341d975row10_col8\" class=\"data row10 col8\" >0.66</td> \n",
       "        <td id=\"T_5ed4250e_d8e5_11e8_b881_50b7c341d975row10_col9\" class=\"data row10 col9\" >0.54</td> \n",
       "        <td id=\"T_5ed4250e_d8e5_11e8_b881_50b7c341d975row10_col10\" class=\"data row10 col10\" >1</td> \n",
       "    </tr></tbody> \n",
       "</table> "
      ],
      "text/plain": [
       "<pandas.io.formats.style.Styler at 0x7f1272a62c88>"
      ]
     },
     "execution_count": 12,
     "metadata": {},
     "output_type": "execute_result"
    }
   ],
   "source": [
    "df = pd.DataFrame(data)\n",
    "corr = df.corr()\n",
    "corr.style.background_gradient().set_precision(2)"
   ]
  },
  {
   "cell_type": "markdown",
   "metadata": {},
   "source": [
    "#### A Partir da matriz de correlação, não existem colunas com a correlação elevada. \n"
   ]
  },
  {
   "cell_type": "markdown",
   "metadata": {
    "colab_type": "text",
    "id": "z-JNu7J_o4qt"
   },
   "source": [
    "#### Utilizando a função da biblioteca  **pandas** *drop_duplicates*, removemos os dados duplicados do dataset"
   ]
  },
  {
   "cell_type": "code",
   "execution_count": 13,
   "metadata": {
    "colab": {},
    "colab_type": "code",
    "id": "qmWO8ud5kezL"
   },
   "outputs": [],
   "source": [
    "data.drop_duplicates(None,'first',inplace=True)"
   ]
  },
  {
   "cell_type": "markdown",
   "metadata": {},
   "source": [
    "#### Apesar de terem surgido dúvidas sobre qual seria a classe de saída do dataset *Class/ASD* ou *austim*, após consultar os monitores confirmamos então que a classe de saída  deve ser *austim*, é possível perceber analisando o gráfico abaixo que a coluna *austim* está desbalanceada, então isso deve ser corrigido."
   ]
  },
  {
   "cell_type": "code",
   "execution_count": 14,
   "metadata": {},
   "outputs": [
    {
     "data": {
      "text/plain": [
       "no     608\n",
       "yes     90\n",
       "Name: austim, dtype: int64"
      ]
     },
     "execution_count": 14,
     "metadata": {},
     "output_type": "execute_result"
    },
    {
     "data": {
      "image/png": "[encoded data removed]",
      "text/plain": [
       "<Figure size 432x288 with 1 Axes>"
      ]
     },
     "metadata": {},
     "output_type": "display_data"
    }
   ],
   "source": [
    "sns.countplot(x='austim',data=data)\n",
    "data['austim'].value_counts()"
   ]
  },
  {
   "cell_type": "markdown",
   "metadata": {},
   "source": [
    "#### É necessário converter todos os atributos do tipo *object* para o tipo *int*."
   ]
  },
  {
   "cell_type": "code",
   "execution_count": 15,
   "metadata": {},
   "outputs": [
    {
     "name": "stdout",
     "output_type": "stream",
     "text": [
      "<class 'pandas.core.frame.DataFrame'>\n",
      "Int64Index: 698 entries, 0 to 703\n",
      "Data columns (total 18 columns):\n",
      "A1_Score         698 non-null int64\n",
      "A2_Score         698 non-null int64\n",
      "A3_Score         698 non-null int64\n",
      "A4_Score         698 non-null int64\n",
      "A5_Score         698 non-null int64\n",
      "A6_Score         698 non-null int64\n",
      "A7_Score         698 non-null int64\n",
      "A8_Score         698 non-null int64\n",
      "A9_Score         698 non-null int64\n",
      "A10_Score        698 non-null int64\n",
      "age              698 non-null object\n",
      "gender           698 non-null object\n",
      "ethnicity        698 non-null object\n",
      "jundice          698 non-null object\n",
      "austim           698 non-null object\n",
      "contry_of_res    698 non-null object\n",
      "result           698 non-null int64\n",
      "Class/ASD        698 non-null object\n",
      "dtypes: int64(11), object(7)\n",
      "memory usage: 123.6+ KB\n"
     ]
    }
   ],
   "source": [
    "data.info()"
   ]
  },
  {
   "cell_type": "markdown",
   "metadata": {},
   "source": [
    "#### Convertendo o tipo do atributo *age* de *object* para *int*:"
   ]
  },
  {
   "cell_type": "code",
   "execution_count": 16,
   "metadata": {},
   "outputs": [],
   "source": [
    "data['age']=data['age'].apply(lambda x:int(x))"
   ]
  },
  {
   "cell_type": "markdown",
   "metadata": {},
   "source": [
    "#### Mapeando os valores das colunas *austim* para 0s e 1s:"
   ]
  },
  {
   "cell_type": "code",
   "execution_count": 17,
   "metadata": {},
   "outputs": [],
   "source": [
    "data['Class/ASD'] = data['Class/ASD'].apply(lambda x: 1 if x == 'YES' else 0)\n",
    "data['austim'] = data['austim'].apply(lambda x: 1 if x == 'yes' else 0)\n",
    "data['gender'] = data['gender'].apply(lambda x: 1 if x == 'm' else 0)"
   ]
  },
  {
   "cell_type": "code",
   "execution_count": 18,
   "metadata": {},
   "outputs": [
    {
     "data": {
      "text/html": [
       "<div>\n",
       "<style scoped>\n",
       "    .dataframe tbody tr th:only-of-type {\n",
       "        vertical-align: middle;\n",
       "    }\n",
       "\n",
       "    .dataframe tbody tr th {\n",
       "        vertical-align: top;\n",
       "    }\n",
       "\n",
       "    .dataframe thead th {\n",
       "        text-align: right;\n",
       "    }\n",
       "</style>\n",
       "<table border=\"1\" class=\"dataframe\">\n",
       "  <thead>\n",
       "    <tr style=\"text-align: right;\">\n",
       "      <th></th>\n",
       "      <th>A1_Score</th>\n",
       "      <th>A2_Score</th>\n",
       "      <th>A3_Score</th>\n",
       "      <th>A4_Score</th>\n",
       "      <th>A5_Score</th>\n",
       "      <th>A6_Score</th>\n",
       "      <th>A7_Score</th>\n",
       "      <th>A8_Score</th>\n",
       "      <th>A9_Score</th>\n",
       "      <th>A10_Score</th>\n",
       "      <th>age</th>\n",
       "      <th>gender</th>\n",
       "      <th>ethnicity</th>\n",
       "      <th>jundice</th>\n",
       "      <th>austim</th>\n",
       "      <th>contry_of_res</th>\n",
       "      <th>result</th>\n",
       "      <th>Class/ASD</th>\n",
       "    </tr>\n",
       "  </thead>\n",
       "  <tbody>\n",
       "    <tr>\n",
       "      <th>0</th>\n",
       "      <td>1</td>\n",
       "      <td>1</td>\n",
       "      <td>1</td>\n",
       "      <td>1</td>\n",
       "      <td>0</td>\n",
       "      <td>0</td>\n",
       "      <td>1</td>\n",
       "      <td>1</td>\n",
       "      <td>0</td>\n",
       "      <td>0</td>\n",
       "      <td>26</td>\n",
       "      <td>0</td>\n",
       "      <td>White-European</td>\n",
       "      <td>no</td>\n",
       "      <td>0</td>\n",
       "      <td>United States</td>\n",
       "      <td>6</td>\n",
       "      <td>0</td>\n",
       "    </tr>\n",
       "    <tr>\n",
       "      <th>1</th>\n",
       "      <td>1</td>\n",
       "      <td>1</td>\n",
       "      <td>0</td>\n",
       "      <td>1</td>\n",
       "      <td>0</td>\n",
       "      <td>0</td>\n",
       "      <td>0</td>\n",
       "      <td>1</td>\n",
       "      <td>0</td>\n",
       "      <td>1</td>\n",
       "      <td>24</td>\n",
       "      <td>1</td>\n",
       "      <td>Latino</td>\n",
       "      <td>no</td>\n",
       "      <td>1</td>\n",
       "      <td>Brazil</td>\n",
       "      <td>5</td>\n",
       "      <td>0</td>\n",
       "    </tr>\n",
       "    <tr>\n",
       "      <th>2</th>\n",
       "      <td>1</td>\n",
       "      <td>1</td>\n",
       "      <td>0</td>\n",
       "      <td>1</td>\n",
       "      <td>1</td>\n",
       "      <td>0</td>\n",
       "      <td>1</td>\n",
       "      <td>1</td>\n",
       "      <td>1</td>\n",
       "      <td>1</td>\n",
       "      <td>27</td>\n",
       "      <td>1</td>\n",
       "      <td>Latino</td>\n",
       "      <td>yes</td>\n",
       "      <td>1</td>\n",
       "      <td>Spain</td>\n",
       "      <td>8</td>\n",
       "      <td>1</td>\n",
       "    </tr>\n",
       "    <tr>\n",
       "      <th>3</th>\n",
       "      <td>1</td>\n",
       "      <td>1</td>\n",
       "      <td>0</td>\n",
       "      <td>1</td>\n",
       "      <td>0</td>\n",
       "      <td>0</td>\n",
       "      <td>1</td>\n",
       "      <td>1</td>\n",
       "      <td>0</td>\n",
       "      <td>1</td>\n",
       "      <td>35</td>\n",
       "      <td>0</td>\n",
       "      <td>White-European</td>\n",
       "      <td>no</td>\n",
       "      <td>1</td>\n",
       "      <td>United States</td>\n",
       "      <td>6</td>\n",
       "      <td>0</td>\n",
       "    </tr>\n",
       "    <tr>\n",
       "      <th>4</th>\n",
       "      <td>1</td>\n",
       "      <td>0</td>\n",
       "      <td>0</td>\n",
       "      <td>0</td>\n",
       "      <td>0</td>\n",
       "      <td>0</td>\n",
       "      <td>0</td>\n",
       "      <td>1</td>\n",
       "      <td>0</td>\n",
       "      <td>0</td>\n",
       "      <td>40</td>\n",
       "      <td>0</td>\n",
       "      <td>White-European</td>\n",
       "      <td>no</td>\n",
       "      <td>0</td>\n",
       "      <td>Egypt</td>\n",
       "      <td>2</td>\n",
       "      <td>0</td>\n",
       "    </tr>\n",
       "  </tbody>\n",
       "</table>\n",
       "</div>"
      ],
      "text/plain": [
       "   A1_Score  A2_Score  A3_Score  A4_Score  A5_Score  A6_Score  A7_Score  \\\n",
       "0         1         1         1         1         0         0         1   \n",
       "1         1         1         0         1         0         0         0   \n",
       "2         1         1         0         1         1         0         1   \n",
       "3         1         1         0         1         0         0         1   \n",
       "4         1         0         0         0         0         0         0   \n",
       "\n",
       "   A8_Score  A9_Score  A10_Score  age  gender       ethnicity jundice  austim  \\\n",
       "0         1         0          0   26       0  White-European      no       0   \n",
       "1         1         0          1   24       1          Latino      no       1   \n",
       "2         1         1          1   27       1          Latino     yes       1   \n",
       "3         1         0          1   35       0  White-European      no       1   \n",
       "4         1         0          0   40       0  White-European      no       0   \n",
       "\n",
       "   contry_of_res  result  Class/ASD  \n",
       "0  United States       6          0  \n",
       "1         Brazil       5          0  \n",
       "2          Spain       8          1  \n",
       "3  United States       6          0  \n",
       "4          Egypt       2          0  "
      ]
     },
     "execution_count": 18,
     "metadata": {},
     "output_type": "execute_result"
    }
   ],
   "source": [
    "data.head()"
   ]
  },
  {
   "cell_type": "markdown",
   "metadata": {},
   "source": [
    "#### Utilizando *one-hot encoding* através da função *get_dummies()* para converter as colunas restantes:"
   ]
  },
  {
   "cell_type": "code",
   "execution_count": 19,
   "metadata": {},
   "outputs": [
    {
     "data": {
      "text/html": [
       "<div>\n",
       "<style scoped>\n",
       "    .dataframe tbody tr th:only-of-type {\n",
       "        vertical-align: middle;\n",
       "    }\n",
       "\n",
       "    .dataframe tbody tr th {\n",
       "        vertical-align: top;\n",
       "    }\n",
       "\n",
       "    .dataframe thead th {\n",
       "        text-align: right;\n",
       "    }\n",
       "</style>\n",
       "<table border=\"1\" class=\"dataframe\">\n",
       "  <thead>\n",
       "    <tr style=\"text-align: right;\">\n",
       "      <th></th>\n",
       "      <th>A1_Score</th>\n",
       "      <th>A2_Score</th>\n",
       "      <th>A3_Score</th>\n",
       "      <th>A4_Score</th>\n",
       "      <th>A5_Score</th>\n",
       "      <th>A6_Score</th>\n",
       "      <th>A7_Score</th>\n",
       "      <th>A8_Score</th>\n",
       "      <th>A9_Score</th>\n",
       "      <th>A10_Score</th>\n",
       "      <th>...</th>\n",
       "      <th>contry_of_res_Sri Lanka</th>\n",
       "      <th>contry_of_res_Sweden</th>\n",
       "      <th>contry_of_res_Tonga</th>\n",
       "      <th>contry_of_res_Turkey</th>\n",
       "      <th>contry_of_res_Ukraine</th>\n",
       "      <th>contry_of_res_United Arab Emirates</th>\n",
       "      <th>contry_of_res_United Kingdom</th>\n",
       "      <th>contry_of_res_United States</th>\n",
       "      <th>contry_of_res_Uruguay</th>\n",
       "      <th>contry_of_res_Viet Nam</th>\n",
       "    </tr>\n",
       "  </thead>\n",
       "  <tbody>\n",
       "    <tr>\n",
       "      <th>0</th>\n",
       "      <td>1</td>\n",
       "      <td>1</td>\n",
       "      <td>1</td>\n",
       "      <td>1</td>\n",
       "      <td>0</td>\n",
       "      <td>0</td>\n",
       "      <td>1</td>\n",
       "      <td>1</td>\n",
       "      <td>0</td>\n",
       "      <td>0</td>\n",
       "      <td>...</td>\n",
       "      <td>0</td>\n",
       "      <td>0</td>\n",
       "      <td>0</td>\n",
       "      <td>0</td>\n",
       "      <td>0</td>\n",
       "      <td>0</td>\n",
       "      <td>0</td>\n",
       "      <td>1</td>\n",
       "      <td>0</td>\n",
       "      <td>0</td>\n",
       "    </tr>\n",
       "    <tr>\n",
       "      <th>1</th>\n",
       "      <td>1</td>\n",
       "      <td>1</td>\n",
       "      <td>0</td>\n",
       "      <td>1</td>\n",
       "      <td>0</td>\n",
       "      <td>0</td>\n",
       "      <td>0</td>\n",
       "      <td>1</td>\n",
       "      <td>0</td>\n",
       "      <td>1</td>\n",
       "      <td>...</td>\n",
       "      <td>0</td>\n",
       "      <td>0</td>\n",
       "      <td>0</td>\n",
       "      <td>0</td>\n",
       "      <td>0</td>\n",
       "      <td>0</td>\n",
       "      <td>0</td>\n",
       "      <td>0</td>\n",
       "      <td>0</td>\n",
       "      <td>0</td>\n",
       "    </tr>\n",
       "    <tr>\n",
       "      <th>2</th>\n",
       "      <td>1</td>\n",
       "      <td>1</td>\n",
       "      <td>0</td>\n",
       "      <td>1</td>\n",
       "      <td>1</td>\n",
       "      <td>0</td>\n",
       "      <td>1</td>\n",
       "      <td>1</td>\n",
       "      <td>1</td>\n",
       "      <td>1</td>\n",
       "      <td>...</td>\n",
       "      <td>0</td>\n",
       "      <td>0</td>\n",
       "      <td>0</td>\n",
       "      <td>0</td>\n",
       "      <td>0</td>\n",
       "      <td>0</td>\n",
       "      <td>0</td>\n",
       "      <td>0</td>\n",
       "      <td>0</td>\n",
       "      <td>0</td>\n",
       "    </tr>\n",
       "    <tr>\n",
       "      <th>3</th>\n",
       "      <td>1</td>\n",
       "      <td>1</td>\n",
       "      <td>0</td>\n",
       "      <td>1</td>\n",
       "      <td>0</td>\n",
       "      <td>0</td>\n",
       "      <td>1</td>\n",
       "      <td>1</td>\n",
       "      <td>0</td>\n",
       "      <td>1</td>\n",
       "      <td>...</td>\n",
       "      <td>0</td>\n",
       "      <td>0</td>\n",
       "      <td>0</td>\n",
       "      <td>0</td>\n",
       "      <td>0</td>\n",
       "      <td>0</td>\n",
       "      <td>0</td>\n",
       "      <td>1</td>\n",
       "      <td>0</td>\n",
       "      <td>0</td>\n",
       "    </tr>\n",
       "    <tr>\n",
       "      <th>4</th>\n",
       "      <td>1</td>\n",
       "      <td>0</td>\n",
       "      <td>0</td>\n",
       "      <td>0</td>\n",
       "      <td>0</td>\n",
       "      <td>0</td>\n",
       "      <td>0</td>\n",
       "      <td>1</td>\n",
       "      <td>0</td>\n",
       "      <td>0</td>\n",
       "      <td>...</td>\n",
       "      <td>0</td>\n",
       "      <td>0</td>\n",
       "      <td>0</td>\n",
       "      <td>0</td>\n",
       "      <td>0</td>\n",
       "      <td>0</td>\n",
       "      <td>0</td>\n",
       "      <td>0</td>\n",
       "      <td>0</td>\n",
       "      <td>0</td>\n",
       "    </tr>\n",
       "  </tbody>\n",
       "</table>\n",
       "<p>5 rows × 92 columns</p>\n",
       "</div>"
      ],
      "text/plain": [
       "   A1_Score  A2_Score  A3_Score  A4_Score  A5_Score  A6_Score  A7_Score  \\\n",
       "0         1         1         1         1         0         0         1   \n",
       "1         1         1         0         1         0         0         0   \n",
       "2         1         1         0         1         1         0         1   \n",
       "3         1         1         0         1         0         0         1   \n",
       "4         1         0         0         0         0         0         0   \n",
       "\n",
       "   A8_Score  A9_Score  A10_Score           ...            \\\n",
       "0         1         0          0           ...             \n",
       "1         1         0          1           ...             \n",
       "2         1         1          1           ...             \n",
       "3         1         0          1           ...             \n",
       "4         1         0          0           ...             \n",
       "\n",
       "   contry_of_res_Sri Lanka  contry_of_res_Sweden  contry_of_res_Tonga  \\\n",
       "0                        0                     0                    0   \n",
       "1                        0                     0                    0   \n",
       "2                        0                     0                    0   \n",
       "3                        0                     0                    0   \n",
       "4                        0                     0                    0   \n",
       "\n",
       "   contry_of_res_Turkey  contry_of_res_Ukraine  \\\n",
       "0                     0                      0   \n",
       "1                     0                      0   \n",
       "2                     0                      0   \n",
       "3                     0                      0   \n",
       "4                     0                      0   \n",
       "\n",
       "   contry_of_res_United Arab Emirates  contry_of_res_United Kingdom  \\\n",
       "0                                   0                             0   \n",
       "1                                   0                             0   \n",
       "2                                   0                             0   \n",
       "3                                   0                             0   \n",
       "4                                   0                             0   \n",
       "\n",
       "   contry_of_res_United States  contry_of_res_Uruguay  contry_of_res_Viet Nam  \n",
       "0                            1                      0                       0  \n",
       "1                            0                      0                       0  \n",
       "2                            0                      0                       0  \n",
       "3                            1                      0                       0  \n",
       "4                            0                      0                       0  \n",
       "\n",
       "[5 rows x 92 columns]"
      ]
     },
     "execution_count": 19,
     "metadata": {},
     "output_type": "execute_result"
    }
   ],
   "source": [
    "jundice=pd.get_dummies(data['jundice'],drop_first=True,prefix=\"jundice\")\n",
    "ethnicity=pd.get_dummies(data['ethnicity'],drop_first=True,prefix=\"ethnicity\")\n",
    "contry_of_res=pd.get_dummies(data['contry_of_res'],drop_first=True,prefix=\"contry_of_res\")\n",
    "\n",
    "data=data.drop(['jundice','ethnicity','contry_of_res'],axis=1)\n",
    "data=pd.concat([data,jundice,ethnicity,contry_of_res],axis=1)\n",
    "data.head()"
   ]
  },
  {
   "cell_type": "code",
   "execution_count": 20,
   "metadata": {
    "scrolled": false
   },
   "outputs": [
    {
     "name": "stdout",
     "output_type": "stream",
     "text": [
      "<class 'pandas.core.frame.DataFrame'>\n",
      "Int64Index: 698 entries, 0 to 703\n",
      "Data columns (total 92 columns):\n",
      "A1_Score                              698 non-null int64\n",
      "A2_Score                              698 non-null int64\n",
      "A3_Score                              698 non-null int64\n",
      "A4_Score                              698 non-null int64\n",
      "A5_Score                              698 non-null int64\n",
      "A6_Score                              698 non-null int64\n",
      "A7_Score                              698 non-null int64\n",
      "A8_Score                              698 non-null int64\n",
      "A9_Score                              698 non-null int64\n",
      "A10_Score                             698 non-null int64\n",
      "age                                   698 non-null int64\n",
      "gender                                698 non-null int64\n",
      "austim                                698 non-null int64\n",
      "result                                698 non-null int64\n",
      "Class/ASD                             698 non-null int64\n",
      "jundice_yes                           698 non-null uint8\n",
      "ethnicity_Black                       698 non-null uint8\n",
      "ethnicity_Hispanic                    698 non-null uint8\n",
      "ethnicity_Latino                      698 non-null uint8\n",
      "ethnicity_Middle Eastern              698 non-null uint8\n",
      "ethnicity_Others                      698 non-null uint8\n",
      "ethnicity_Pasifika                    698 non-null uint8\n",
      "ethnicity_South Asian                 698 non-null uint8\n",
      "ethnicity_Turkish                     698 non-null uint8\n",
      "ethnicity_White-European              698 non-null uint8\n",
      "ethnicity_others                      698 non-null uint8\n",
      "contry_of_res_AmericanSamoa           698 non-null uint8\n",
      "contry_of_res_Angola                  698 non-null uint8\n",
      "contry_of_res_Argentina               698 non-null uint8\n",
      "contry_of_res_Armenia                 698 non-null uint8\n",
      "contry_of_res_Aruba                   698 non-null uint8\n",
      "contry_of_res_Australia               698 non-null uint8\n",
      "contry_of_res_Austria                 698 non-null uint8\n",
      "contry_of_res_Azerbaijan              698 non-null uint8\n",
      "contry_of_res_Bahamas                 698 non-null uint8\n",
      "contry_of_res_Bangladesh              698 non-null uint8\n",
      "contry_of_res_Belgium                 698 non-null uint8\n",
      "contry_of_res_Bolivia                 698 non-null uint8\n",
      "contry_of_res_Brazil                  698 non-null uint8\n",
      "contry_of_res_Burundi                 698 non-null uint8\n",
      "contry_of_res_Canada                  698 non-null uint8\n",
      "contry_of_res_Chile                   698 non-null uint8\n",
      "contry_of_res_China                   698 non-null uint8\n",
      "contry_of_res_Costa Rica              698 non-null uint8\n",
      "contry_of_res_Cyprus                  698 non-null uint8\n",
      "contry_of_res_Czech Republic          698 non-null uint8\n",
      "contry_of_res_Ecuador                 698 non-null uint8\n",
      "contry_of_res_Egypt                   698 non-null uint8\n",
      "contry_of_res_Ethiopia                698 non-null uint8\n",
      "contry_of_res_Finland                 698 non-null uint8\n",
      "contry_of_res_France                  698 non-null uint8\n",
      "contry_of_res_Germany                 698 non-null uint8\n",
      "contry_of_res_Hong Kong               698 non-null uint8\n",
      "contry_of_res_Iceland                 698 non-null uint8\n",
      "contry_of_res_India                   698 non-null uint8\n",
      "contry_of_res_Indonesia               698 non-null uint8\n",
      "contry_of_res_Iran                    698 non-null uint8\n",
      "contry_of_res_Iraq                    698 non-null uint8\n",
      "contry_of_res_Ireland                 698 non-null uint8\n",
      "contry_of_res_Italy                   698 non-null uint8\n",
      "contry_of_res_Japan                   698 non-null uint8\n",
      "contry_of_res_Jordan                  698 non-null uint8\n",
      "contry_of_res_Kazakhstan              698 non-null uint8\n",
      "contry_of_res_Lebanon                 698 non-null uint8\n",
      "contry_of_res_Malaysia                698 non-null uint8\n",
      "contry_of_res_Mexico                  698 non-null uint8\n",
      "contry_of_res_Nepal                   698 non-null uint8\n",
      "contry_of_res_Netherlands             698 non-null uint8\n",
      "contry_of_res_New Zealand             698 non-null uint8\n",
      "contry_of_res_Nicaragua               698 non-null uint8\n",
      "contry_of_res_Niger                   698 non-null uint8\n",
      "contry_of_res_Oman                    698 non-null uint8\n",
      "contry_of_res_Pakistan                698 non-null uint8\n",
      "contry_of_res_Philippines             698 non-null uint8\n",
      "contry_of_res_Portugal                698 non-null uint8\n",
      "contry_of_res_Romania                 698 non-null uint8\n",
      "contry_of_res_Russia                  698 non-null uint8\n",
      "contry_of_res_Saudi Arabia            698 non-null uint8\n",
      "contry_of_res_Serbia                  698 non-null uint8\n",
      "contry_of_res_Sierra Leone            698 non-null uint8\n",
      "contry_of_res_South Africa            698 non-null uint8\n",
      "contry_of_res_Spain                   698 non-null uint8\n",
      "contry_of_res_Sri Lanka               698 non-null uint8\n",
      "contry_of_res_Sweden                  698 non-null uint8\n",
      "contry_of_res_Tonga                   698 non-null uint8\n",
      "contry_of_res_Turkey                  698 non-null uint8\n",
      "contry_of_res_Ukraine                 698 non-null uint8\n",
      "contry_of_res_United Arab Emirates    698 non-null uint8\n",
      "contry_of_res_United Kingdom          698 non-null uint8\n",
      "contry_of_res_United States           698 non-null uint8\n",
      "contry_of_res_Uruguay                 698 non-null uint8\n",
      "contry_of_res_Viet Nam                698 non-null uint8\n",
      "dtypes: int64(15), uint8(77)\n",
      "memory usage: 159.7 KB\n"
     ]
    }
   ],
   "source": [
    "data.info()"
   ]
  },
  {
   "cell_type": "markdown",
   "metadata": {},
   "source": [
    "### Balanceando a coluna  *austim*:"
   ]
  },
  {
   "cell_type": "code",
   "execution_count": 21,
   "metadata": {},
   "outputs": [
    {
     "data": {
      "text/plain": [
       "0    608\n",
       "1     90\n",
       "Name: austim, dtype: int64"
      ]
     },
     "execution_count": 21,
     "metadata": {},
     "output_type": "execute_result"
    },
    {
     "data": {
      "image/png": "[encoded data removed]",
      "text/plain": [
       "<Figure size 432x288 with 1 Axes>"
      ]
     },
     "metadata": {},
     "output_type": "display_data"
    }
   ],
   "source": [
    "sns.countplot(x='austim',data=data)\n",
    "data['austim'].value_counts()"
   ]
  },
  {
   "cell_type": "code",
   "execution_count": 22,
   "metadata": {},
   "outputs": [
    {
     "data": {
      "text/plain": [
       "<matplotlib.axes._subplots.AxesSubplot at 0x7f127258c748>"
      ]
     },
     "execution_count": 22,
     "metadata": {},
     "output_type": "execute_result"
    },
    {
     "data": {
      "image/png": "[encoded data removed]",
      "text/plain": [
       "<Figure size 432x288 with 1 Axes>"
      ]
     },
     "metadata": {},
     "output_type": "display_data"
    }
   ],
   "source": [
    "sns.countplot(x='austim',hue=\"gender\",data=data)"
   ]
  },
  {
   "cell_type": "markdown",
   "metadata": {},
   "source": [
    "#### Obtendo a lista de atributos:"
   ]
  },
  {
   "cell_type": "code",
   "execution_count": 23,
   "metadata": {},
   "outputs": [],
   "source": [
    "features = list(data)\n",
    "features.remove('austim')"
   ]
  },
  {
   "cell_type": "markdown",
   "metadata": {},
   "source": [
    "#### Utilizando *ClusterCentroids* para *undersample* da classe majoritária (0):"
   ]
  },
  {
   "cell_type": "code",
   "execution_count": 24,
   "metadata": {
    "colab": {},
    "colab_type": "code",
    "id": "e5SrZnHd978m"
   },
   "outputs": [],
   "source": [
    "from imblearn.under_sampling import ClusterCentroids\n",
    "\n",
    "X = data[features]\n",
    "y = data['austim']\n",
    "\n",
    "cc = ClusterCentroids()\n",
    "X_resampled, y_resampled = cc.fit_sample(X, y)"
   ]
  },
  {
   "cell_type": "markdown",
   "metadata": {},
   "source": [
    "#### Abaixo temos a comparação de antes e depois do balanceamento, a opção foi *undersample*, então o número de *No* foi reduzido para a quantidade de números de *yes*. Sendo agora 90 para ambos."
   ]
  },
  {
   "cell_type": "code",
   "execution_count": 25,
   "metadata": {},
   "outputs": [
    {
     "name": "stdout",
     "output_type": "stream",
     "text": [
      "Tamanho original do dataset Counter({0: 608, 1: 90})\n",
      "Tamanho do dataset após undersampling Counter({0: 90, 1: 90})\n"
     ]
    }
   ],
   "source": [
    "from collections import Counter\n",
    "\n",
    "print('Tamanho original do dataset {}'.format(Counter(y)))\n",
    "print('Tamanho do dataset após undersampling {}'.format(Counter(y_resampled)))"
   ]
  },
  {
   "cell_type": "markdown",
   "metadata": {},
   "source": [
    "## Dados pré processados, agora podemos seguir para o treinamento"
   ]
  },
  {
   "cell_type": "markdown",
   "metadata": {},
   "source": [
    "### Dividindo dataset em treinamento e teste:"
   ]
  },
  {
   "cell_type": "code",
   "execution_count": 26,
   "metadata": {},
   "outputs": [],
   "source": [
    "from sklearn.model_selection import train_test_split\n",
    "\n",
    "# 70% treinamento e 30% teste\n",
    "X_train, X_test, y_train, y_test = train_test_split(X_resampled, y_resampled, test_size = 0.3)"
   ]
  },
  {
   "cell_type": "code",
   "execution_count": 27,
   "metadata": {},
   "outputs": [],
   "source": [
    "from sklearn.model_selection import GridSearchCV, KFold, cross_val_score\n",
    "import time\n",
    "from sklearn.metrics import classification_report\n",
    "import matplotlib.pyplot as plt\n",
    "import numpy as np\n",
    "from sklearn.metrics import roc_auc_score\n",
    "from sklearn.metrics import confusion_matrix\n",
    "\n",
    "# Data train and test using Random Forest classification algorithm \n",
    "def rf_train_test(model, train_X, train_y, test_X, test_y, features, param_grid=None): \n",
    "    start_time = time.time()\n",
    "    \n",
    "    # search param combination that results in higher accuracy using K fold cross-validation\n",
    "    clf = GridSearchCV(model, param_grid, cv=10, scoring=\"accuracy\", return_train_score=False)\n",
    "    \n",
    "    # fit the model with best params\n",
    "    clf.fit(train_X, train_y)\n",
    "    print(\"Best parameters combination: %s\\n\" % clf.best_params_)\n",
    "\n",
    "    # predict using fitted model on test/validation data\n",
    "    y_true, y_pred = test_y, clf.best_estimator_.predict(test_X)\n",
    "    \n",
    "    # predict class probabilities\n",
    "    predictions = clf.predict_proba(test_X)\n",
    "    \n",
    "    # keep only the positive class to AUROC metric\n",
    "    predictions = [p[1] for p in predictions]\n",
    "    print(\"\\nAUROC accuracy: \", roc_auc_score(y_true, predictions))\n",
    "\n",
    "    # report over test dataset\n",
    "    print(classification_report(y_true, y_pred))\n",
    "    test_score = (clf.score(test_X, test_y)*100)\n",
    "    print(\"Test score: %s\" % \"{0:.3f}%\\n\".format(test_score))\n",
    "    \n",
    "    cm=confusion_matrix(test_y, y_pred)\n",
    "    print('Matriz de Confusão:')\n",
    "    print(cm)\n",
    "    \n",
    "    # calculate training and testing time\n",
    "    processing_time = time.time() - start_time\n",
    "    print(\"Processing time: %s seconds \\n\" % \"{0:.3f}\".format(processing_time))"
   ]
  },
  {
   "cell_type": "markdown",
   "metadata": {},
   "source": [
    "### Primeiro algoritmo de aprendizagem de máquina *DecisionTreeClassifier*\n",
    "   Escolhemos primeiro a Árvore de decisão, pois algoritmos desse tipo podem ser úteis com ou sem dados concretos, e quaisquer dados requerem o mínimo de preparação. Como os dados foram preparados, podemos então utilizar-lo \n",
    "\n",
    "\n",
    "\n"
   ]
  },
  {
   "cell_type": "code",
   "execution_count": 30,
   "metadata": {},
   "outputs": [
    {
     "name": "stdout",
     "output_type": "stream",
     "text": [
      "\n",
      " ------------ DecisionTreeClassifier with Cluster Centroid under-sampling\n",
      "\n",
      "Best parameters combination: {'max_depth': None, 'random_state': None, 'criterion': 'entropy', 'max_features': 'sqrt'}\n",
      "\n",
      "\n",
      "AUROC accuracy:  0.8502747252747253\n",
      "              precision    recall  f1-score   support\n",
      "\n",
      "           0       0.88      0.81      0.84        26\n",
      "           1       0.83      0.89      0.86        28\n",
      "\n",
      "   micro avg       0.85      0.85      0.85        54\n",
      "   macro avg       0.85      0.85      0.85        54\n",
      "weighted avg       0.85      0.85      0.85        54\n",
      "\n",
      "Test score: 85.185%\n",
      "\n",
      "Matriz de Confusão:\n",
      "[[21  5]\n",
      " [ 3 25]]\n",
      "Processing time: 0.292 seconds \n",
      "\n"
     ]
    },
    {
     "name": "stderr",
     "output_type": "stream",
     "text": [
      "/home/curty/.local/lib/python3.5/site-packages/sklearn/model_selection/_search.py:841: DeprecationWarning: The default of the `iid` parameter will change from True to False in version 0.22 and will be removed in 0.24. This will change numeric results when test-set sizes are unequal.\n",
      "  DeprecationWarning)\n"
     ]
    }
   ],
   "source": [
    "from sklearn.tree import DecisionTreeClassifier\n",
    "\n",
    "train_X = X_train # input training data\n",
    "train_y = y_train # output trainig data\n",
    "test_X = X_test # input test data\n",
    "test_y = y_test # output test data\n",
    "\n",
    "\n",
    "print(\"\\n ------------ DecisionTreeClassifier with Cluster Centroid under-sampling\\n\")\n",
    "rf_train_test(DecisionTreeClassifier(), \n",
    "              train_X, train_y, \n",
    "              test_X, test_y,  \n",
    "              features,\n",
    "              {\n",
    "               'max_features': ['sqrt', 'log2'],\n",
    "               'criterion': ['gini', 'entropy'],\n",
    "               'random_state': [np.random.seed(1234)],\n",
    "               'max_depth': [5, 10, 15, None],\n",
    "              }\n",
    "              )"
   ]
  },
  {
   "cell_type": "markdown",
   "metadata": {},
   "source": [
    " Conseguimos então 85% Accuracy como mostrado nos dados acima, considerando que a função GridSearchCV escolheu os melhores parametros para o modelo"
   ]
  },
  {
   "cell_type": "markdown",
   "metadata": {},
   "source": [
    "### Segundo algoritmo de aprendizagem de máquina *Random Forest* \n",
    "   Pensando já pensando na ocorrencia de overfitting, escolhemos a floresta aleatória. Na maior parte do tempo isto não ocorre facilmente com um classificador de floresta aleatória qualquer, que foi uma das vantagens observadas ao escolher o algoritmo. Isto porque, se há árvores suficiente na floresta, o classificador não irá sobreajustar o modelo.\n",
    "\n"
   ]
  },
  {
   "cell_type": "code",
   "execution_count": 31,
   "metadata": {
    "scrolled": false
   },
   "outputs": [
    {
     "name": "stdout",
     "output_type": "stream",
     "text": [
      "\n",
      " ------------ Random Forest with Cluster Centroid under-sampling\n",
      "\n"
     ]
    },
    {
     "name": "stderr",
     "output_type": "stream",
     "text": [
      "/home/curty/.local/lib/python3.5/site-packages/sklearn/model_selection/_search.py:841: DeprecationWarning: The default of the `iid` parameter will change from True to False in version 0.22 and will be removed in 0.24. This will change numeric results when test-set sizes are unequal.\n",
      "  DeprecationWarning)\n"
     ]
    },
    {
     "name": "stdout",
     "output_type": "stream",
     "text": [
      "Best parameters combination: {'n_estimators': 50, 'max_features': 'sqrt', 'criterion': 'gini', 'n_jobs': -1, 'random_state': None, 'max_depth': 10}\n",
      "\n",
      "\n",
      "AUROC accuracy:  0.9821428571428571\n",
      "              precision    recall  f1-score   support\n",
      "\n",
      "           0       1.00      0.77      0.87        26\n",
      "           1       0.82      1.00      0.90        28\n",
      "\n",
      "   micro avg       0.89      0.89      0.89        54\n",
      "   macro avg       0.91      0.88      0.89        54\n",
      "weighted avg       0.91      0.89      0.89        54\n",
      "\n",
      "Test score: 88.889%\n",
      "\n",
      "Matriz de Confusão:\n",
      "[[20  6]\n",
      " [ 0 28]]\n",
      "Processing time: 45.736 seconds \n",
      "\n"
     ]
    }
   ],
   "source": [
    "from sklearn.ensemble import RandomForestClassifier\n",
    "\n",
    "train_X = X_train # input training data\n",
    "train_y = y_train # output trainig data\n",
    "test_X = X_test # input test data\n",
    "test_y = y_test # output test data\n",
    "\n",
    "print(\"\\n ------------ Random Forest with Cluster Centroid under-sampling\\n\")\n",
    "rf_train_test(RandomForestClassifier(), \n",
    "              train_X, train_y, \n",
    "              test_X, test_y,  \n",
    "              features,\n",
    "              {'n_estimators': [50, 70, 100],\n",
    "               'max_features': ['sqrt', 'log2'],\n",
    "               'criterion': ['gini', 'entropy'],\n",
    "               'random_state': [np.random.seed(1234)],\n",
    "               'max_depth': [5, 10, 15, None],\n",
    "               'n_jobs': [-1]}\n",
    "              )"
   ]
  },
  {
   "cell_type": "markdown",
   "metadata": {},
   "source": [
    " Conseguimos então um resultado de 98% accuracy. Novamente considerando que a função GridSearchCV escolheu os melhores parametros para o modelo"
   ]
  },
  {
   "cell_type": "markdown",
   "metadata": {},
   "source": [
    "#### RandomFlorest se saiu melhor, pois um classificador de floresta aleatória é composto por várias árvores, assim aumenta a taxa de classificação se comparada a uma árvore de decisão. E por utilizar a função GridSearchCV, os parâmetros utilizados no treinamento foram os melhores para o dataset, os quais podem ser identificados no resultado do treinamento em *Best parameters combination.*"
   ]
  }
 ],
 "metadata": {
  "colab": {
   "collapsed_sections": [],
   "name": "IA.ipynb",
   "provenance": [],
   "version": "0.3.2"
  },
  "kernelspec": {
   "display_name": "Python 3",
   "language": "python",
   "name": "python3"
  },
  "language_info": {
   "codemirror_mode": {
    "name": "ipython",
    "version": 3
   },
   "file_extension": ".py",
   "mimetype": "text/x-python",
   "name": "python",
   "nbconvert_exporter": "python",
   "pygments_lexer": "ipython3",
   "version": "3.5.2"
  }
 },
 "nbformat": 4,
 "nbformat_minor": 2
}
