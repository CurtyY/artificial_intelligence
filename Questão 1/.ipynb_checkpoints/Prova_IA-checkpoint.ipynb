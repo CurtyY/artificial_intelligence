{
 "cells": [
  {
   "cell_type": "markdown",
   "metadata": {
    "colab_type": "text",
    "id": "BAOh6i8v--YW"
   },
   "source": [
    "# Questão 1\n"
   ]
  },
  {
   "cell_type": "code",
   "execution_count": 2,
   "metadata": {
    "colab": {},
    "colab_type": "code",
    "id": "sfPtXmGE0e9n"
   },
   "outputs": [],
   "source": [
    "import pandas as pd\n",
    "import numpy as np\n",
    "import matplotlib.pyplot as plt\n",
    "import seaborn as sns\n"
   ]
  },
  {
   "cell_type": "markdown",
   "metadata": {
    "colab_type": "text",
    "id": "pVfKpVhByFpZ"
   },
   "source": [
    "#### Analisando o dataset é possível notar a existência de algumas colunas irrelevantes, que são:\n",
    "   * age_desc; \n",
    "   * relation;\n",
    "   * id; \n",
    "   * used_app_before. \n",
    "   \n",
    "#### Ambas foram retiradas do dataset."
   ]
  },
  {
   "cell_type": "code",
   "execution_count": 3,
   "metadata": {
    "colab": {
     "base_uri": "https://localhost:8080/",
     "height": 933
    },
    "colab_type": "code",
    "id": "XEMLVlpCtY3C",
    "outputId": "10841d09-31bb-42ea-da50-63e7c2b71157"
   },
   "outputs": [],
   "source": [
    "data = pd.read_csv('csv_result-Autism-Adult-Data.csv')\n",
    "del data['age_desc']\n",
    "del data['relation']\n",
    "del data['id']\n",
    "del data['used_app_before']\n"
   ]
  },
  {
   "cell_type": "code",
   "execution_count": 4,
   "metadata": {
    "colab": {
     "base_uri": "https://localhost:8080/",
     "height": 258
    },
    "colab_type": "code",
    "id": "JI2plHp_xFZS",
    "outputId": "7a0c4c0e-c6b9-481c-a901-558df504fafa"
   },
   "outputs": [
    {
     "data": {
      "text/html": [
       "<div>\n",
       "<style scoped>\n",
       "    .dataframe tbody tr th:only-of-type {\n",
       "        vertical-align: middle;\n",
       "    }\n",
       "\n",
       "    .dataframe tbody tr th {\n",
       "        vertical-align: top;\n",
       "    }\n",
       "\n",
       "    .dataframe thead th {\n",
       "        text-align: right;\n",
       "    }\n",
       "</style>\n",
       "<table border=\"1\" class=\"dataframe\">\n",
       "  <thead>\n",
       "    <tr style=\"text-align: right;\">\n",
       "      <th></th>\n",
       "      <th>A1_Score</th>\n",
       "      <th>A2_Score</th>\n",
       "      <th>A3_Score</th>\n",
       "      <th>A4_Score</th>\n",
       "      <th>A5_Score</th>\n",
       "      <th>A6_Score</th>\n",
       "      <th>A7_Score</th>\n",
       "      <th>A8_Score</th>\n",
       "      <th>A9_Score</th>\n",
       "      <th>A10_Score</th>\n",
       "      <th>age</th>\n",
       "      <th>gender</th>\n",
       "      <th>ethnicity</th>\n",
       "      <th>jundice</th>\n",
       "      <th>austim</th>\n",
       "      <th>contry_of_res</th>\n",
       "      <th>result</th>\n",
       "      <th>Class/ASD</th>\n",
       "    </tr>\n",
       "  </thead>\n",
       "  <tbody>\n",
       "    <tr>\n",
       "      <th>0</th>\n",
       "      <td>1</td>\n",
       "      <td>1</td>\n",
       "      <td>1</td>\n",
       "      <td>1</td>\n",
       "      <td>0</td>\n",
       "      <td>0</td>\n",
       "      <td>1</td>\n",
       "      <td>1</td>\n",
       "      <td>0</td>\n",
       "      <td>0</td>\n",
       "      <td>26</td>\n",
       "      <td>f</td>\n",
       "      <td>White-European</td>\n",
       "      <td>no</td>\n",
       "      <td>no</td>\n",
       "      <td>United States</td>\n",
       "      <td>6</td>\n",
       "      <td>NO</td>\n",
       "    </tr>\n",
       "    <tr>\n",
       "      <th>1</th>\n",
       "      <td>1</td>\n",
       "      <td>1</td>\n",
       "      <td>0</td>\n",
       "      <td>1</td>\n",
       "      <td>0</td>\n",
       "      <td>0</td>\n",
       "      <td>0</td>\n",
       "      <td>1</td>\n",
       "      <td>0</td>\n",
       "      <td>1</td>\n",
       "      <td>24</td>\n",
       "      <td>m</td>\n",
       "      <td>Latino</td>\n",
       "      <td>no</td>\n",
       "      <td>yes</td>\n",
       "      <td>Brazil</td>\n",
       "      <td>5</td>\n",
       "      <td>NO</td>\n",
       "    </tr>\n",
       "    <tr>\n",
       "      <th>2</th>\n",
       "      <td>1</td>\n",
       "      <td>1</td>\n",
       "      <td>0</td>\n",
       "      <td>1</td>\n",
       "      <td>1</td>\n",
       "      <td>0</td>\n",
       "      <td>1</td>\n",
       "      <td>1</td>\n",
       "      <td>1</td>\n",
       "      <td>1</td>\n",
       "      <td>27</td>\n",
       "      <td>m</td>\n",
       "      <td>Latino</td>\n",
       "      <td>yes</td>\n",
       "      <td>yes</td>\n",
       "      <td>Spain</td>\n",
       "      <td>8</td>\n",
       "      <td>YES</td>\n",
       "    </tr>\n",
       "    <tr>\n",
       "      <th>3</th>\n",
       "      <td>1</td>\n",
       "      <td>1</td>\n",
       "      <td>0</td>\n",
       "      <td>1</td>\n",
       "      <td>0</td>\n",
       "      <td>0</td>\n",
       "      <td>1</td>\n",
       "      <td>1</td>\n",
       "      <td>0</td>\n",
       "      <td>1</td>\n",
       "      <td>35</td>\n",
       "      <td>f</td>\n",
       "      <td>White-European</td>\n",
       "      <td>no</td>\n",
       "      <td>yes</td>\n",
       "      <td>United States</td>\n",
       "      <td>6</td>\n",
       "      <td>NO</td>\n",
       "    </tr>\n",
       "    <tr>\n",
       "      <th>4</th>\n",
       "      <td>1</td>\n",
       "      <td>0</td>\n",
       "      <td>0</td>\n",
       "      <td>0</td>\n",
       "      <td>0</td>\n",
       "      <td>0</td>\n",
       "      <td>0</td>\n",
       "      <td>1</td>\n",
       "      <td>0</td>\n",
       "      <td>0</td>\n",
       "      <td>40</td>\n",
       "      <td>f</td>\n",
       "      <td>?</td>\n",
       "      <td>no</td>\n",
       "      <td>no</td>\n",
       "      <td>Egypt</td>\n",
       "      <td>2</td>\n",
       "      <td>NO</td>\n",
       "    </tr>\n",
       "  </tbody>\n",
       "</table>\n",
       "</div>"
      ],
      "text/plain": [
       "   A1_Score  A2_Score  A3_Score  A4_Score  A5_Score  A6_Score  A7_Score  \\\n",
       "0         1         1         1         1         0         0         1   \n",
       "1         1         1         0         1         0         0         0   \n",
       "2         1         1         0         1         1         0         1   \n",
       "3         1         1         0         1         0         0         1   \n",
       "4         1         0         0         0         0         0         0   \n",
       "\n",
       "   A8_Score  A9_Score  A10_Score age gender       ethnicity jundice austim  \\\n",
       "0         1         0          0  26      f  White-European      no     no   \n",
       "1         1         0          1  24      m          Latino      no    yes   \n",
       "2         1         1          1  27      m          Latino     yes    yes   \n",
       "3         1         0          1  35      f  White-European      no    yes   \n",
       "4         1         0          0  40      f               ?      no     no   \n",
       "\n",
       "   contry_of_res  result Class/ASD  \n",
       "0  United States       6        NO  \n",
       "1         Brazil       5        NO  \n",
       "2          Spain       8       YES  \n",
       "3  United States       6        NO  \n",
       "4          Egypt       2        NO  "
      ]
     },
     "execution_count": 4,
     "metadata": {},
     "output_type": "execute_result"
    }
   ],
   "source": [
    "data.head()"
   ]
  },
  {
   "cell_type": "markdown",
   "metadata": {
    "colab_type": "text",
    "id": "f5NbsRZ6zg3b"
   },
   "source": [
    "#### O dataset também contém muitos dados faltando, que estão representados com \"?\", então substituímos \"?\" por nulo ou vazio, para que possamos usar a função **isnull()** e encontrarmos os dados ausentes."
   ]
  },
  {
   "cell_type": "code",
   "execution_count": 5,
   "metadata": {
    "colab": {},
    "colab_type": "code",
    "id": "QhLSU6ov1OXJ"
   },
   "outputs": [],
   "source": [
    "def alterando(dado):\n",
    "    dado = dado.replace(\"?\",np.nan)\n",
    "    return dado\n",
    "data=alterando(data)"
   ]
  },
  {
   "cell_type": "code",
   "execution_count": 6,
   "metadata": {
    "colab": {
     "base_uri": "https://localhost:8080/",
     "height": 258
    },
    "colab_type": "code",
    "id": "cJWrbluj9_j8",
    "outputId": "4594eb92-8d03-4960-8f07-a9c5deff5a23"
   },
   "outputs": [
    {
     "data": {
      "text/html": [
       "<div>\n",
       "<style scoped>\n",
       "    .dataframe tbody tr th:only-of-type {\n",
       "        vertical-align: middle;\n",
       "    }\n",
       "\n",
       "    .dataframe tbody tr th {\n",
       "        vertical-align: top;\n",
       "    }\n",
       "\n",
       "    .dataframe thead th {\n",
       "        text-align: right;\n",
       "    }\n",
       "</style>\n",
       "<table border=\"1\" class=\"dataframe\">\n",
       "  <thead>\n",
       "    <tr style=\"text-align: right;\">\n",
       "      <th></th>\n",
       "      <th>A1_Score</th>\n",
       "      <th>A2_Score</th>\n",
       "      <th>A3_Score</th>\n",
       "      <th>A4_Score</th>\n",
       "      <th>A5_Score</th>\n",
       "      <th>A6_Score</th>\n",
       "      <th>A7_Score</th>\n",
       "      <th>A8_Score</th>\n",
       "      <th>A9_Score</th>\n",
       "      <th>A10_Score</th>\n",
       "      <th>age</th>\n",
       "      <th>gender</th>\n",
       "      <th>ethnicity</th>\n",
       "      <th>jundice</th>\n",
       "      <th>austim</th>\n",
       "      <th>contry_of_res</th>\n",
       "      <th>result</th>\n",
       "      <th>Class/ASD</th>\n",
       "    </tr>\n",
       "  </thead>\n",
       "  <tbody>\n",
       "    <tr>\n",
       "      <th>0</th>\n",
       "      <td>1</td>\n",
       "      <td>1</td>\n",
       "      <td>1</td>\n",
       "      <td>1</td>\n",
       "      <td>0</td>\n",
       "      <td>0</td>\n",
       "      <td>1</td>\n",
       "      <td>1</td>\n",
       "      <td>0</td>\n",
       "      <td>0</td>\n",
       "      <td>26</td>\n",
       "      <td>f</td>\n",
       "      <td>White-European</td>\n",
       "      <td>no</td>\n",
       "      <td>no</td>\n",
       "      <td>United States</td>\n",
       "      <td>6</td>\n",
       "      <td>NO</td>\n",
       "    </tr>\n",
       "    <tr>\n",
       "      <th>1</th>\n",
       "      <td>1</td>\n",
       "      <td>1</td>\n",
       "      <td>0</td>\n",
       "      <td>1</td>\n",
       "      <td>0</td>\n",
       "      <td>0</td>\n",
       "      <td>0</td>\n",
       "      <td>1</td>\n",
       "      <td>0</td>\n",
       "      <td>1</td>\n",
       "      <td>24</td>\n",
       "      <td>m</td>\n",
       "      <td>Latino</td>\n",
       "      <td>no</td>\n",
       "      <td>yes</td>\n",
       "      <td>Brazil</td>\n",
       "      <td>5</td>\n",
       "      <td>NO</td>\n",
       "    </tr>\n",
       "    <tr>\n",
       "      <th>2</th>\n",
       "      <td>1</td>\n",
       "      <td>1</td>\n",
       "      <td>0</td>\n",
       "      <td>1</td>\n",
       "      <td>1</td>\n",
       "      <td>0</td>\n",
       "      <td>1</td>\n",
       "      <td>1</td>\n",
       "      <td>1</td>\n",
       "      <td>1</td>\n",
       "      <td>27</td>\n",
       "      <td>m</td>\n",
       "      <td>Latino</td>\n",
       "      <td>yes</td>\n",
       "      <td>yes</td>\n",
       "      <td>Spain</td>\n",
       "      <td>8</td>\n",
       "      <td>YES</td>\n",
       "    </tr>\n",
       "    <tr>\n",
       "      <th>3</th>\n",
       "      <td>1</td>\n",
       "      <td>1</td>\n",
       "      <td>0</td>\n",
       "      <td>1</td>\n",
       "      <td>0</td>\n",
       "      <td>0</td>\n",
       "      <td>1</td>\n",
       "      <td>1</td>\n",
       "      <td>0</td>\n",
       "      <td>1</td>\n",
       "      <td>35</td>\n",
       "      <td>f</td>\n",
       "      <td>White-European</td>\n",
       "      <td>no</td>\n",
       "      <td>yes</td>\n",
       "      <td>United States</td>\n",
       "      <td>6</td>\n",
       "      <td>NO</td>\n",
       "    </tr>\n",
       "    <tr>\n",
       "      <th>4</th>\n",
       "      <td>1</td>\n",
       "      <td>0</td>\n",
       "      <td>0</td>\n",
       "      <td>0</td>\n",
       "      <td>0</td>\n",
       "      <td>0</td>\n",
       "      <td>0</td>\n",
       "      <td>1</td>\n",
       "      <td>0</td>\n",
       "      <td>0</td>\n",
       "      <td>40</td>\n",
       "      <td>f</td>\n",
       "      <td>NaN</td>\n",
       "      <td>no</td>\n",
       "      <td>no</td>\n",
       "      <td>Egypt</td>\n",
       "      <td>2</td>\n",
       "      <td>NO</td>\n",
       "    </tr>\n",
       "  </tbody>\n",
       "</table>\n",
       "</div>"
      ],
      "text/plain": [
       "   A1_Score  A2_Score  A3_Score  A4_Score  A5_Score  A6_Score  A7_Score  \\\n",
       "0         1         1         1         1         0         0         1   \n",
       "1         1         1         0         1         0         0         0   \n",
       "2         1         1         0         1         1         0         1   \n",
       "3         1         1         0         1         0         0         1   \n",
       "4         1         0         0         0         0         0         0   \n",
       "\n",
       "   A8_Score  A9_Score  A10_Score age gender       ethnicity jundice austim  \\\n",
       "0         1         0          0  26      f  White-European      no     no   \n",
       "1         1         0          1  24      m          Latino      no    yes   \n",
       "2         1         1          1  27      m          Latino     yes    yes   \n",
       "3         1         0          1  35      f  White-European      no    yes   \n",
       "4         1         0          0  40      f             NaN      no     no   \n",
       "\n",
       "   contry_of_res  result Class/ASD  \n",
       "0  United States       6        NO  \n",
       "1         Brazil       5        NO  \n",
       "2          Spain       8       YES  \n",
       "3  United States       6        NO  \n",
       "4          Egypt       2        NO  "
      ]
     },
     "execution_count": 6,
     "metadata": {},
     "output_type": "execute_result"
    }
   ],
   "source": [
    "data.head()"
   ]
  },
  {
   "cell_type": "markdown",
   "metadata": {
    "colab_type": "text",
    "id": "__lAQyCG-h_T"
   },
   "source": [
    "#### Após alterar \"?\" por NaN. Utilizando a função ***isnull()*** e adicionando o ***.sum()*** , conseguimos ver quais e quantos são os valores ausentes. \n"
   ]
  },
  {
   "cell_type": "code",
   "execution_count": 7,
   "metadata": {
    "colab": {
     "base_uri": "https://localhost:8080/",
     "height": 340
    },
    "colab_type": "code",
    "id": "GWA0Zp7B-Yta",
    "outputId": "c01e9ef6-c9cf-4d53-ebb4-cdf7689b46df"
   },
   "outputs": [
    {
     "data": {
      "text/plain": [
       "A1_Score          0\n",
       "A2_Score          0\n",
       "A3_Score          0\n",
       "A4_Score          0\n",
       "A5_Score          0\n",
       "A6_Score          0\n",
       "A7_Score          0\n",
       "A8_Score          0\n",
       "A9_Score          0\n",
       "A10_Score         0\n",
       "age               2\n",
       "gender            0\n",
       "ethnicity        95\n",
       "jundice           0\n",
       "austim            0\n",
       "contry_of_res     0\n",
       "result            0\n",
       "Class/ASD         0\n",
       "dtype: int64"
      ]
     },
     "execution_count": 7,
     "metadata": {},
     "output_type": "execute_result"
    }
   ],
   "source": [
    "data.isnull().sum()"
   ]
  },
  {
   "cell_type": "markdown",
   "metadata": {
    "colab_type": "text",
    "id": "31DSCuF5GXVB"
   },
   "source": [
    "#### Como os dados são valores do tipo nominal, substituímos os dados ausentes pela moda dos dados de sua coluna. Mostrando mais uma vez a tabela com a somo dos dados faltantes, podemos ver que não temos mais dados ausentes."
   ]
  },
  {
   "cell_type": "code",
   "execution_count": 8,
   "metadata": {
    "colab": {},
    "colab_type": "code",
    "id": "6JqbbXtXB9dD"
   },
   "outputs": [],
   "source": [
    "data['age'].fillna(data['age'].mode()[0],inplace=True)\n",
    "data['ethnicity'].fillna(data['ethnicity'].mode()[0],inplace=True)\n"
   ]
  },
  {
   "cell_type": "code",
   "execution_count": 9,
   "metadata": {
    "colab": {
     "base_uri": "https://localhost:8080/",
     "height": 340
    },
    "colab_type": "code",
    "id": "HrsajlHGGQqW",
    "outputId": "d6385067-dae8-4ac6-d3d6-5451075f0954"
   },
   "outputs": [
    {
     "data": {
      "text/plain": [
       "A1_Score         0\n",
       "A2_Score         0\n",
       "A3_Score         0\n",
       "A4_Score         0\n",
       "A5_Score         0\n",
       "A6_Score         0\n",
       "A7_Score         0\n",
       "A8_Score         0\n",
       "A9_Score         0\n",
       "A10_Score        0\n",
       "age              0\n",
       "gender           0\n",
       "ethnicity        0\n",
       "jundice          0\n",
       "austim           0\n",
       "contry_of_res    0\n",
       "result           0\n",
       "Class/ASD        0\n",
       "dtype: int64"
      ]
     },
     "execution_count": 9,
     "metadata": {},
     "output_type": "execute_result"
    }
   ],
   "source": [
    "data.isnull().sum()"
   ]
  },
  {
   "cell_type": "markdown",
   "metadata": {
    "colab_type": "text",
    "id": "hveCpIo9DIcP"
   },
   "source": [
    "#### Como sugerido na questão, o gráfico ***boxplot*** foi utilizado para facilitar a identificação de ***outliers***. \n"
   ]
  },
  {
   "cell_type": "code",
   "execution_count": 10,
   "metadata": {
    "colab": {
     "base_uri": "https://localhost:8080/",
     "height": 349
    },
    "colab_type": "code",
    "id": "6dKn21aqIXmX",
    "outputId": "27956aa3-e163-468d-956a-201ab2b83a54"
   },
   "outputs": [
    {
     "data": {
      "image/png": "[encoded data removed]",
      "text/plain": [
       "<Figure size 432x288 with 1 Axes>"
      ]
     },
     "metadata": {},
     "output_type": "display_data"
    }
   ],
   "source": [
    "sns.set(style=\"whitegrid\", color_codes=True)\n",
    "sns.boxplot(data=data);"
   ]
  },
  {
   "cell_type": "markdown",
   "metadata": {},
   "source": [
    "#### Após analisar, foi concluído que a melhor opção seria remover a linha que contém o *outlier*."
   ]
  },
  {
   "cell_type": "code",
   "execution_count": 11,
   "metadata": {},
   "outputs": [],
   "source": [
    "data.drop(data[data.age=='383'].index ,inplace=True)"
   ]
  },
  {
   "cell_type": "markdown",
   "metadata": {},
   "source": [
    "#### Matriz de correlação do dataset"
   ]
  },
  {
   "cell_type": "code",
   "execution_count": 12,
   "metadata": {},
   "outputs": [
    {
     "data": {
      "text/plain": [
       "<matplotlib.axes._subplots.AxesSubplot at 0x7f2076ae8898>"
      ]
     },
     "execution_count": 12,
     "metadata": {},
     "output_type": "execute_result"
    },
    {
     "data": {
      "image/png": "[encoded data removed]",
      "text/plain": [
       "<Figure size 432x288 with 2 Axes>"
      ]
     },
     "metadata": {},
     "output_type": "display_data"
    }
   ],
   "source": [
    "sns.heatmap(data.corr())"
   ]
  },
  {
   "cell_type": "markdown",
   "metadata": {},
   "source": [
    "#### Plotando o *boxplot* novamente podemos confirmar que o *outlier* foi removido"
   ]
  },
  {
   "cell_type": "code",
   "execution_count": 13,
   "metadata": {
    "colab": {
     "base_uri": "https://localhost:8080/",
     "height": 347
    },
    "colab_type": "code",
    "id": "qtFGToq2Eh_r",
    "outputId": "aee1dc17-0c59-406d-de2a-54a03882f96f"
   },
   "outputs": [
    {
     "data": {
      "image/png": "[encoded data removed]",
      "text/plain": [
       "<Figure size 432x288 with 1 Axes>"
      ]
     },
     "metadata": {},
     "output_type": "display_data"
    }
   ],
   "source": [
    "sns.set(style=\"whitegrid\", color_codes=True)\n",
    "sns.boxplot(data=data);"
   ]
  },
  {
   "cell_type": "markdown",
   "metadata": {
    "colab_type": "text",
    "id": "z-JNu7J_o4qt"
   },
   "source": [
    "#### Utilizando a função da biblioteca  **pandas** *drop_duplicates*, removemos os dados duplicados do dataset"
   ]
  },
  {
   "cell_type": "code",
   "execution_count": 14,
   "metadata": {
    "colab": {},
    "colab_type": "code",
    "id": "qmWO8ud5kezL"
   },
   "outputs": [],
   "source": [
    "data.drop_duplicates(None,'first',inplace=True)"
   ]
  },
  {
   "cell_type": "markdown",
   "metadata": {},
   "source": [
    "#### Apesar de terem surgido dúvidas sobre qual seria a classe de saída do dataset *Class/ASD* ou *austim*, após consultar os monitores confirmamos então que a classe de saída  deve ser *austim*, é possível perceber que a coluna *austim* está desbalanceada, então isso deve ser corrigido."
   ]
  },
  {
   "cell_type": "code",
   "execution_count": 15,
   "metadata": {},
   "outputs": [
    {
     "data": {
      "text/plain": [
       "no     608\n",
       "yes     90\n",
       "Name: austim, dtype: int64"
      ]
     },
     "execution_count": 15,
     "metadata": {},
     "output_type": "execute_result"
    },
    {
     "data": {
      "image/png": "[encoded data removed]",
      "text/plain": [
       "<Figure size 432x288 with 1 Axes>"
      ]
     },
     "metadata": {},
     "output_type": "display_data"
    }
   ],
   "source": [
    "sns.countplot(x='austim',data=data)\n",
    "data['austim'].value_counts()"
   ]
  },
  {
   "cell_type": "markdown",
   "metadata": {},
   "source": [
    "#### É necessário converter todos os atributos do tipo *object* para o tipo *int*, assim, todos os atributos que são categorias passam a ser numéricos."
   ]
  },
  {
   "cell_type": "code",
   "execution_count": 16,
   "metadata": {},
   "outputs": [
    {
     "name": "stdout",
     "output_type": "stream",
     "text": [
      "<class 'pandas.core.frame.DataFrame'>\n",
      "Int64Index: 698 entries, 0 to 703\n",
      "Data columns (total 18 columns):\n",
      "A1_Score         698 non-null int64\n",
      "A2_Score         698 non-null int64\n",
      "A3_Score         698 non-null int64\n",
      "A4_Score         698 non-null int64\n",
      "A5_Score         698 non-null int64\n",
      "A6_Score         698 non-null int64\n",
      "A7_Score         698 non-null int64\n",
      "A8_Score         698 non-null int64\n",
      "A9_Score         698 non-null int64\n",
      "A10_Score        698 non-null int64\n",
      "age              698 non-null object\n",
      "gender           698 non-null object\n",
      "ethnicity        698 non-null object\n",
      "jundice          698 non-null object\n",
      "austim           698 non-null object\n",
      "contry_of_res    698 non-null object\n",
      "result           698 non-null int64\n",
      "Class/ASD        698 non-null object\n",
      "dtypes: int64(11), object(7)\n",
      "memory usage: 123.6+ KB\n"
     ]
    }
   ],
   "source": [
    "data.info()"
   ]
  },
  {
   "cell_type": "markdown",
   "metadata": {},
   "source": [
    "#### Convertendo o tipo do atributo *age* de *object* para *int*:"
   ]
  },
  {
   "cell_type": "code",
   "execution_count": 17,
   "metadata": {},
   "outputs": [],
   "source": [
    "data['age']=data['age'].apply(lambda x:int(x))"
   ]
  },
  {
   "cell_type": "markdown",
   "metadata": {},
   "source": [
    "#### Mapeando os valores das colunas *austim* para 0s e 1s:"
   ]
  },
  {
   "cell_type": "code",
   "execution_count": 18,
   "metadata": {},
   "outputs": [],
   "source": [
    "data['Class/ASD'] = data['Class/ASD'].apply(lambda x: 1 if x == 'YES' else 0)\n",
    "data['austim'] = data['austim'].apply(lambda x: 1 if x == 'yes' else 0)\n",
    "data['gender'] = data['gender'].apply(lambda x: 1 if x == 'm' else 0)"
   ]
  },
  {
   "cell_type": "code",
   "execution_count": 19,
   "metadata": {},
   "outputs": [
    {
     "data": {
      "text/html": [
       "<div>\n",
       "<style scoped>\n",
       "    .dataframe tbody tr th:only-of-type {\n",
       "        vertical-align: middle;\n",
       "    }\n",
       "\n",
       "    .dataframe tbody tr th {\n",
       "        vertical-align: top;\n",
       "    }\n",
       "\n",
       "    .dataframe thead th {\n",
       "        text-align: right;\n",
       "    }\n",
       "</style>\n",
       "<table border=\"1\" class=\"dataframe\">\n",
       "  <thead>\n",
       "    <tr style=\"text-align: right;\">\n",
       "      <th></th>\n",
       "      <th>A1_Score</th>\n",
       "      <th>A2_Score</th>\n",
       "      <th>A3_Score</th>\n",
       "      <th>A4_Score</th>\n",
       "      <th>A5_Score</th>\n",
       "      <th>A6_Score</th>\n",
       "      <th>A7_Score</th>\n",
       "      <th>A8_Score</th>\n",
       "      <th>A9_Score</th>\n",
       "      <th>A10_Score</th>\n",
       "      <th>age</th>\n",
       "      <th>gender</th>\n",
       "      <th>ethnicity</th>\n",
       "      <th>jundice</th>\n",
       "      <th>austim</th>\n",
       "      <th>contry_of_res</th>\n",
       "      <th>result</th>\n",
       "      <th>Class/ASD</th>\n",
       "    </tr>\n",
       "  </thead>\n",
       "  <tbody>\n",
       "    <tr>\n",
       "      <th>0</th>\n",
       "      <td>1</td>\n",
       "      <td>1</td>\n",
       "      <td>1</td>\n",
       "      <td>1</td>\n",
       "      <td>0</td>\n",
       "      <td>0</td>\n",
       "      <td>1</td>\n",
       "      <td>1</td>\n",
       "      <td>0</td>\n",
       "      <td>0</td>\n",
       "      <td>26</td>\n",
       "      <td>0</td>\n",
       "      <td>White-European</td>\n",
       "      <td>no</td>\n",
       "      <td>0</td>\n",
       "      <td>United States</td>\n",
       "      <td>6</td>\n",
       "      <td>0</td>\n",
       "    </tr>\n",
       "    <tr>\n",
       "      <th>1</th>\n",
       "      <td>1</td>\n",
       "      <td>1</td>\n",
       "      <td>0</td>\n",
       "      <td>1</td>\n",
       "      <td>0</td>\n",
       "      <td>0</td>\n",
       "      <td>0</td>\n",
       "      <td>1</td>\n",
       "      <td>0</td>\n",
       "      <td>1</td>\n",
       "      <td>24</td>\n",
       "      <td>1</td>\n",
       "      <td>Latino</td>\n",
       "      <td>no</td>\n",
       "      <td>1</td>\n",
       "      <td>Brazil</td>\n",
       "      <td>5</td>\n",
       "      <td>0</td>\n",
       "    </tr>\n",
       "    <tr>\n",
       "      <th>2</th>\n",
       "      <td>1</td>\n",
       "      <td>1</td>\n",
       "      <td>0</td>\n",
       "      <td>1</td>\n",
       "      <td>1</td>\n",
       "      <td>0</td>\n",
       "      <td>1</td>\n",
       "      <td>1</td>\n",
       "      <td>1</td>\n",
       "      <td>1</td>\n",
       "      <td>27</td>\n",
       "      <td>1</td>\n",
       "      <td>Latino</td>\n",
       "      <td>yes</td>\n",
       "      <td>1</td>\n",
       "      <td>Spain</td>\n",
       "      <td>8</td>\n",
       "      <td>1</td>\n",
       "    </tr>\n",
       "    <tr>\n",
       "      <th>3</th>\n",
       "      <td>1</td>\n",
       "      <td>1</td>\n",
       "      <td>0</td>\n",
       "      <td>1</td>\n",
       "      <td>0</td>\n",
       "      <td>0</td>\n",
       "      <td>1</td>\n",
       "      <td>1</td>\n",
       "      <td>0</td>\n",
       "      <td>1</td>\n",
       "      <td>35</td>\n",
       "      <td>0</td>\n",
       "      <td>White-European</td>\n",
       "      <td>no</td>\n",
       "      <td>1</td>\n",
       "      <td>United States</td>\n",
       "      <td>6</td>\n",
       "      <td>0</td>\n",
       "    </tr>\n",
       "    <tr>\n",
       "      <th>4</th>\n",
       "      <td>1</td>\n",
       "      <td>0</td>\n",
       "      <td>0</td>\n",
       "      <td>0</td>\n",
       "      <td>0</td>\n",
       "      <td>0</td>\n",
       "      <td>0</td>\n",
       "      <td>1</td>\n",
       "      <td>0</td>\n",
       "      <td>0</td>\n",
       "      <td>40</td>\n",
       "      <td>0</td>\n",
       "      <td>White-European</td>\n",
       "      <td>no</td>\n",
       "      <td>0</td>\n",
       "      <td>Egypt</td>\n",
       "      <td>2</td>\n",
       "      <td>0</td>\n",
       "    </tr>\n",
       "  </tbody>\n",
       "</table>\n",
       "</div>"
      ],
      "text/plain": [
       "   A1_Score  A2_Score  A3_Score  A4_Score  A5_Score  A6_Score  A7_Score  \\\n",
       "0         1         1         1         1         0         0         1   \n",
       "1         1         1         0         1         0         0         0   \n",
       "2         1         1         0         1         1         0         1   \n",
       "3         1         1         0         1         0         0         1   \n",
       "4         1         0         0         0         0         0         0   \n",
       "\n",
       "   A8_Score  A9_Score  A10_Score  age  gender       ethnicity jundice  austim  \\\n",
       "0         1         0          0   26       0  White-European      no       0   \n",
       "1         1         0          1   24       1          Latino      no       1   \n",
       "2         1         1          1   27       1          Latino     yes       1   \n",
       "3         1         0          1   35       0  White-European      no       1   \n",
       "4         1         0          0   40       0  White-European      no       0   \n",
       "\n",
       "   contry_of_res  result  Class/ASD  \n",
       "0  United States       6          0  \n",
       "1         Brazil       5          0  \n",
       "2          Spain       8          1  \n",
       "3  United States       6          0  \n",
       "4          Egypt       2          0  "
      ]
     },
     "execution_count": 19,
     "metadata": {},
     "output_type": "execute_result"
    }
   ],
   "source": [
    "data.head()"
   ]
  },
  {
   "cell_type": "markdown",
   "metadata": {},
   "source": [
    "#### Utilizando *one-hot encoding* através da função *get_dummies()* nas colunas restantes:"
   ]
  },
  {
   "cell_type": "code",
   "execution_count": 20,
   "metadata": {},
   "outputs": [
    {
     "data": {
      "text/html": [
       "<div>\n",
       "<style scoped>\n",
       "    .dataframe tbody tr th:only-of-type {\n",
       "        vertical-align: middle;\n",
       "    }\n",
       "\n",
       "    .dataframe tbody tr th {\n",
       "        vertical-align: top;\n",
       "    }\n",
       "\n",
       "    .dataframe thead th {\n",
       "        text-align: right;\n",
       "    }\n",
       "</style>\n",
       "<table border=\"1\" class=\"dataframe\">\n",
       "  <thead>\n",
       "    <tr style=\"text-align: right;\">\n",
       "      <th></th>\n",
       "      <th>A1_Score</th>\n",
       "      <th>A2_Score</th>\n",
       "      <th>A3_Score</th>\n",
       "      <th>A4_Score</th>\n",
       "      <th>A5_Score</th>\n",
       "      <th>A6_Score</th>\n",
       "      <th>A7_Score</th>\n",
       "      <th>A8_Score</th>\n",
       "      <th>A9_Score</th>\n",
       "      <th>A10_Score</th>\n",
       "      <th>...</th>\n",
       "      <th>contry_of_res_Sri Lanka</th>\n",
       "      <th>contry_of_res_Sweden</th>\n",
       "      <th>contry_of_res_Tonga</th>\n",
       "      <th>contry_of_res_Turkey</th>\n",
       "      <th>contry_of_res_Ukraine</th>\n",
       "      <th>contry_of_res_United Arab Emirates</th>\n",
       "      <th>contry_of_res_United Kingdom</th>\n",
       "      <th>contry_of_res_United States</th>\n",
       "      <th>contry_of_res_Uruguay</th>\n",
       "      <th>contry_of_res_Viet Nam</th>\n",
       "    </tr>\n",
       "  </thead>\n",
       "  <tbody>\n",
       "    <tr>\n",
       "      <th>0</th>\n",
       "      <td>1</td>\n",
       "      <td>1</td>\n",
       "      <td>1</td>\n",
       "      <td>1</td>\n",
       "      <td>0</td>\n",
       "      <td>0</td>\n",
       "      <td>1</td>\n",
       "      <td>1</td>\n",
       "      <td>0</td>\n",
       "      <td>0</td>\n",
       "      <td>...</td>\n",
       "      <td>0</td>\n",
       "      <td>0</td>\n",
       "      <td>0</td>\n",
       "      <td>0</td>\n",
       "      <td>0</td>\n",
       "      <td>0</td>\n",
       "      <td>0</td>\n",
       "      <td>1</td>\n",
       "      <td>0</td>\n",
       "      <td>0</td>\n",
       "    </tr>\n",
       "    <tr>\n",
       "      <th>1</th>\n",
       "      <td>1</td>\n",
       "      <td>1</td>\n",
       "      <td>0</td>\n",
       "      <td>1</td>\n",
       "      <td>0</td>\n",
       "      <td>0</td>\n",
       "      <td>0</td>\n",
       "      <td>1</td>\n",
       "      <td>0</td>\n",
       "      <td>1</td>\n",
       "      <td>...</td>\n",
       "      <td>0</td>\n",
       "      <td>0</td>\n",
       "      <td>0</td>\n",
       "      <td>0</td>\n",
       "      <td>0</td>\n",
       "      <td>0</td>\n",
       "      <td>0</td>\n",
       "      <td>0</td>\n",
       "      <td>0</td>\n",
       "      <td>0</td>\n",
       "    </tr>\n",
       "    <tr>\n",
       "      <th>2</th>\n",
       "      <td>1</td>\n",
       "      <td>1</td>\n",
       "      <td>0</td>\n",
       "      <td>1</td>\n",
       "      <td>1</td>\n",
       "      <td>0</td>\n",
       "      <td>1</td>\n",
       "      <td>1</td>\n",
       "      <td>1</td>\n",
       "      <td>1</td>\n",
       "      <td>...</td>\n",
       "      <td>0</td>\n",
       "      <td>0</td>\n",
       "      <td>0</td>\n",
       "      <td>0</td>\n",
       "      <td>0</td>\n",
       "      <td>0</td>\n",
       "      <td>0</td>\n",
       "      <td>0</td>\n",
       "      <td>0</td>\n",
       "      <td>0</td>\n",
       "    </tr>\n",
       "    <tr>\n",
       "      <th>3</th>\n",
       "      <td>1</td>\n",
       "      <td>1</td>\n",
       "      <td>0</td>\n",
       "      <td>1</td>\n",
       "      <td>0</td>\n",
       "      <td>0</td>\n",
       "      <td>1</td>\n",
       "      <td>1</td>\n",
       "      <td>0</td>\n",
       "      <td>1</td>\n",
       "      <td>...</td>\n",
       "      <td>0</td>\n",
       "      <td>0</td>\n",
       "      <td>0</td>\n",
       "      <td>0</td>\n",
       "      <td>0</td>\n",
       "      <td>0</td>\n",
       "      <td>0</td>\n",
       "      <td>1</td>\n",
       "      <td>0</td>\n",
       "      <td>0</td>\n",
       "    </tr>\n",
       "    <tr>\n",
       "      <th>4</th>\n",
       "      <td>1</td>\n",
       "      <td>0</td>\n",
       "      <td>0</td>\n",
       "      <td>0</td>\n",
       "      <td>0</td>\n",
       "      <td>0</td>\n",
       "      <td>0</td>\n",
       "      <td>1</td>\n",
       "      <td>0</td>\n",
       "      <td>0</td>\n",
       "      <td>...</td>\n",
       "      <td>0</td>\n",
       "      <td>0</td>\n",
       "      <td>0</td>\n",
       "      <td>0</td>\n",
       "      <td>0</td>\n",
       "      <td>0</td>\n",
       "      <td>0</td>\n",
       "      <td>0</td>\n",
       "      <td>0</td>\n",
       "      <td>0</td>\n",
       "    </tr>\n",
       "  </tbody>\n",
       "</table>\n",
       "<p>5 rows × 92 columns</p>\n",
       "</div>"
      ],
      "text/plain": [
       "   A1_Score  A2_Score  A3_Score  A4_Score  A5_Score  A6_Score  A7_Score  \\\n",
       "0         1         1         1         1         0         0         1   \n",
       "1         1         1         0         1         0         0         0   \n",
       "2         1         1         0         1         1         0         1   \n",
       "3         1         1         0         1         0         0         1   \n",
       "4         1         0         0         0         0         0         0   \n",
       "\n",
       "   A8_Score  A9_Score  A10_Score           ...            \\\n",
       "0         1         0          0           ...             \n",
       "1         1         0          1           ...             \n",
       "2         1         1          1           ...             \n",
       "3         1         0          1           ...             \n",
       "4         1         0          0           ...             \n",
       "\n",
       "   contry_of_res_Sri Lanka  contry_of_res_Sweden  contry_of_res_Tonga  \\\n",
       "0                        0                     0                    0   \n",
       "1                        0                     0                    0   \n",
       "2                        0                     0                    0   \n",
       "3                        0                     0                    0   \n",
       "4                        0                     0                    0   \n",
       "\n",
       "   contry_of_res_Turkey  contry_of_res_Ukraine  \\\n",
       "0                     0                      0   \n",
       "1                     0                      0   \n",
       "2                     0                      0   \n",
       "3                     0                      0   \n",
       "4                     0                      0   \n",
       "\n",
       "   contry_of_res_United Arab Emirates  contry_of_res_United Kingdom  \\\n",
       "0                                   0                             0   \n",
       "1                                   0                             0   \n",
       "2                                   0                             0   \n",
       "3                                   0                             0   \n",
       "4                                   0                             0   \n",
       "\n",
       "   contry_of_res_United States  contry_of_res_Uruguay  contry_of_res_Viet Nam  \n",
       "0                            1                      0                       0  \n",
       "1                            0                      0                       0  \n",
       "2                            0                      0                       0  \n",
       "3                            1                      0                       0  \n",
       "4                            0                      0                       0  \n",
       "\n",
       "[5 rows x 92 columns]"
      ]
     },
     "execution_count": 20,
     "metadata": {},
     "output_type": "execute_result"
    }
   ],
   "source": [
    "jundice=pd.get_dummies(data['jundice'],drop_first=True,prefix=\"jundice\")\n",
    "ethnicity=pd.get_dummies(data['ethnicity'],drop_first=True,prefix=\"ethnicity\")\n",
    "contry_of_res=pd.get_dummies(data['contry_of_res'],drop_first=True,prefix=\"contry_of_res\")\n",
    "\n",
    "data=data.drop(['jundice','ethnicity','contry_of_res'],axis=1)\n",
    "data=pd.concat([data,jundice,ethnicity,contry_of_res],axis=1)\n",
    "data.head()"
   ]
  },
  {
   "cell_type": "code",
   "execution_count": 21,
   "metadata": {
    "scrolled": true
   },
   "outputs": [
    {
     "name": "stdout",
     "output_type": "stream",
     "text": [
      "<class 'pandas.core.frame.DataFrame'>\n",
      "Int64Index: 698 entries, 0 to 703\n",
      "Data columns (total 92 columns):\n",
      "A1_Score                              698 non-null int64\n",
      "A2_Score                              698 non-null int64\n",
      "A3_Score                              698 non-null int64\n",
      "A4_Score                              698 non-null int64\n",
      "A5_Score                              698 non-null int64\n",
      "A6_Score                              698 non-null int64\n",
      "A7_Score                              698 non-null int64\n",
      "A8_Score                              698 non-null int64\n",
      "A9_Score                              698 non-null int64\n",
      "A10_Score                             698 non-null int64\n",
      "age                                   698 non-null int64\n",
      "gender                                698 non-null int64\n",
      "austim                                698 non-null int64\n",
      "result                                698 non-null int64\n",
      "Class/ASD                             698 non-null int64\n",
      "jundice_yes                           698 non-null uint8\n",
      "ethnicity_Black                       698 non-null uint8\n",
      "ethnicity_Hispanic                    698 non-null uint8\n",
      "ethnicity_Latino                      698 non-null uint8\n",
      "ethnicity_Middle Eastern              698 non-null uint8\n",
      "ethnicity_Others                      698 non-null uint8\n",
      "ethnicity_Pasifika                    698 non-null uint8\n",
      "ethnicity_South Asian                 698 non-null uint8\n",
      "ethnicity_Turkish                     698 non-null uint8\n",
      "ethnicity_White-European              698 non-null uint8\n",
      "ethnicity_others                      698 non-null uint8\n",
      "contry_of_res_AmericanSamoa           698 non-null uint8\n",
      "contry_of_res_Angola                  698 non-null uint8\n",
      "contry_of_res_Argentina               698 non-null uint8\n",
      "contry_of_res_Armenia                 698 non-null uint8\n",
      "contry_of_res_Aruba                   698 non-null uint8\n",
      "contry_of_res_Australia               698 non-null uint8\n",
      "contry_of_res_Austria                 698 non-null uint8\n",
      "contry_of_res_Azerbaijan              698 non-null uint8\n",
      "contry_of_res_Bahamas                 698 non-null uint8\n",
      "contry_of_res_Bangladesh              698 non-null uint8\n",
      "contry_of_res_Belgium                 698 non-null uint8\n",
      "contry_of_res_Bolivia                 698 non-null uint8\n",
      "contry_of_res_Brazil                  698 non-null uint8\n",
      "contry_of_res_Burundi                 698 non-null uint8\n",
      "contry_of_res_Canada                  698 non-null uint8\n",
      "contry_of_res_Chile                   698 non-null uint8\n",
      "contry_of_res_China                   698 non-null uint8\n",
      "contry_of_res_Costa Rica              698 non-null uint8\n",
      "contry_of_res_Cyprus                  698 non-null uint8\n",
      "contry_of_res_Czech Republic          698 non-null uint8\n",
      "contry_of_res_Ecuador                 698 non-null uint8\n",
      "contry_of_res_Egypt                   698 non-null uint8\n",
      "contry_of_res_Ethiopia                698 non-null uint8\n",
      "contry_of_res_Finland                 698 non-null uint8\n",
      "contry_of_res_France                  698 non-null uint8\n",
      "contry_of_res_Germany                 698 non-null uint8\n",
      "contry_of_res_Hong Kong               698 non-null uint8\n",
      "contry_of_res_Iceland                 698 non-null uint8\n",
      "contry_of_res_India                   698 non-null uint8\n",
      "contry_of_res_Indonesia               698 non-null uint8\n",
      "contry_of_res_Iran                    698 non-null uint8\n",
      "contry_of_res_Iraq                    698 non-null uint8\n",
      "contry_of_res_Ireland                 698 non-null uint8\n",
      "contry_of_res_Italy                   698 non-null uint8\n",
      "contry_of_res_Japan                   698 non-null uint8\n",
      "contry_of_res_Jordan                  698 non-null uint8\n",
      "contry_of_res_Kazakhstan              698 non-null uint8\n",
      "contry_of_res_Lebanon                 698 non-null uint8\n",
      "contry_of_res_Malaysia                698 non-null uint8\n",
      "contry_of_res_Mexico                  698 non-null uint8\n",
      "contry_of_res_Nepal                   698 non-null uint8\n",
      "contry_of_res_Netherlands             698 non-null uint8\n",
      "contry_of_res_New Zealand             698 non-null uint8\n",
      "contry_of_res_Nicaragua               698 non-null uint8\n",
      "contry_of_res_Niger                   698 non-null uint8\n",
      "contry_of_res_Oman                    698 non-null uint8\n",
      "contry_of_res_Pakistan                698 non-null uint8\n",
      "contry_of_res_Philippines             698 non-null uint8\n",
      "contry_of_res_Portugal                698 non-null uint8\n",
      "contry_of_res_Romania                 698 non-null uint8\n",
      "contry_of_res_Russia                  698 non-null uint8\n",
      "contry_of_res_Saudi Arabia            698 non-null uint8\n",
      "contry_of_res_Serbia                  698 non-null uint8\n",
      "contry_of_res_Sierra Leone            698 non-null uint8\n",
      "contry_of_res_South Africa            698 non-null uint8\n",
      "contry_of_res_Spain                   698 non-null uint8\n",
      "contry_of_res_Sri Lanka               698 non-null uint8\n",
      "contry_of_res_Sweden                  698 non-null uint8\n",
      "contry_of_res_Tonga                   698 non-null uint8\n",
      "contry_of_res_Turkey                  698 non-null uint8\n",
      "contry_of_res_Ukraine                 698 non-null uint8\n",
      "contry_of_res_United Arab Emirates    698 non-null uint8\n",
      "contry_of_res_United Kingdom          698 non-null uint8\n",
      "contry_of_res_United States           698 non-null uint8\n",
      "contry_of_res_Uruguay                 698 non-null uint8\n",
      "contry_of_res_Viet Nam                698 non-null uint8\n",
      "dtypes: int64(15), uint8(77)\n",
      "memory usage: 159.7 KB\n"
     ]
    }
   ],
   "source": [
    "data.info()"
   ]
  },
  {
   "cell_type": "markdown",
   "metadata": {},
   "source": [
    "### Balanceando a coluna  *austim*:"
   ]
  },
  {
   "cell_type": "code",
   "execution_count": 22,
   "metadata": {},
   "outputs": [
    {
     "data": {
      "text/plain": [
       "0    608\n",
       "1     90\n",
       "Name: austim, dtype: int64"
      ]
     },
     "execution_count": 22,
     "metadata": {},
     "output_type": "execute_result"
    },
    {
     "data": {
      "image/png": "[encoded data removed]",
      "text/plain": [
       "<Figure size 432x288 with 1 Axes>"
      ]
     },
     "metadata": {},
     "output_type": "display_data"
    }
   ],
   "source": [
    "sns.countplot(x='austim',data=data)\n",
    "data['austim'].value_counts()"
   ]
  },
  {
   "cell_type": "code",
   "execution_count": 23,
   "metadata": {},
   "outputs": [
    {
     "data": {
      "text/plain": [
       "<matplotlib.axes._subplots.AxesSubplot at 0x7f2076a64a58>"
      ]
     },
     "execution_count": 23,
     "metadata": {},
     "output_type": "execute_result"
    },
    {
     "data": {
      "image/png": "[encoded data removed]",
      "text/plain": [
       "<Figure size 432x288 with 1 Axes>"
      ]
     },
     "metadata": {},
     "output_type": "display_data"
    }
   ],
   "source": [
    "sns.countplot(x='austim',hue=\"gender\",data=data)"
   ]
  },
  {
   "cell_type": "markdown",
   "metadata": {},
   "source": [
    "#### Obtendo a lista de atributos:"
   ]
  },
  {
   "cell_type": "code",
   "execution_count": 24,
   "metadata": {},
   "outputs": [],
   "source": [
    "features = list(data)\n",
    "features.remove('austim')"
   ]
  },
  {
   "cell_type": "markdown",
   "metadata": {},
   "source": [
    "#### Utilizando *ClusterCentroids* para *undersample* da classe majoritária (0):"
   ]
  },
  {
   "cell_type": "code",
   "execution_count": 25,
   "metadata": {
    "colab": {},
    "colab_type": "code",
    "id": "e5SrZnHd978m"
   },
   "outputs": [],
   "source": [
    "from imblearn.under_sampling import ClusterCentroids\n",
    "\n",
    "X = data[features]\n",
    "y = data['austim']\n",
    "\n",
    "# aplica Cluster Centroids\n",
    "cc = ClusterCentroids()\n",
    "X_resampled, y_resampled = cc.fit_sample(X, y)"
   ]
  },
  {
   "cell_type": "code",
   "execution_count": 26,
   "metadata": {},
   "outputs": [
    {
     "name": "stdout",
     "output_type": "stream",
     "text": [
      "Tamanho original do dataset Counter({0: 608, 1: 90})\n",
      "Tamanho do dataset após undersampling Counter({0: 90, 1: 90})\n"
     ]
    }
   ],
   "source": [
    "from collections import Counter\n",
    "\n",
    "print('Tamanho original do dataset {}'.format(Counter(y)))\n",
    "print('Tamanho do dataset após undersampling {}'.format(Counter(y_resampled)))"
   ]
  },
  {
   "cell_type": "markdown",
   "metadata": {},
   "source": [
    "## Dividindo dataset em treinamento e teste:"
   ]
  },
  {
   "cell_type": "code",
   "execution_count": 27,
   "metadata": {},
   "outputs": [],
   "source": [
    "from sklearn.model_selection import train_test_split\n",
    "\n",
    "# 70% treinamento e 30% teste\n",
    "X_train, X_test, y_train, y_test = train_test_split(X_resampled, y_resampled, test_size = 0.3)"
   ]
  },
  {
   "cell_type": "code",
   "execution_count": 28,
   "metadata": {},
   "outputs": [],
   "source": [
    "from sklearn.model_selection import GridSearchCV, KFold, cross_val_score\n",
    "import time\n",
    "from sklearn.metrics import classification_report\n",
    "import matplotlib.pyplot as plt\n",
    "import numpy as np\n",
    "from sklearn.metrics import roc_auc_score\n",
    "from sklearn.metrics import confusion_matrix\n",
    "\n",
    "# Data train and test using Random Forest classification algorithm \n",
    "def rf_train_test(model, train_X, train_y, test_X, test_y, features, param_grid=None): \n",
    "    start_time = time.time()\n",
    "    \n",
    "    # search param combination that results in higher accuracy using K fold cross-validation\n",
    "    clf = GridSearchCV(model, param_grid, cv=10, scoring=\"accuracy\", return_train_score=False)\n",
    "    \n",
    "    # fit the model with best params\n",
    "    clf.fit(train_X, train_y)\n",
    "    print(\"Best parameters combination: %s\\n\" % clf.best_params_)\n",
    "\n",
    "    # predict using fitted model on test/validation data\n",
    "    y_true, y_pred = test_y, clf.best_estimator_.predict(test_X)\n",
    "    \n",
    "    # predict class probabilities\n",
    "    predictions = clf.predict_proba(test_X)\n",
    "    \n",
    "    # keep only the positive class to AUROC metric\n",
    "    predictions = [p[1] for p in predictions]\n",
    "    print(\"\\nAUROC accuracy: \", roc_auc_score(y_true, predictions))\n",
    "\n",
    "    # report over test dataset\n",
    "    print(classification_report(y_true, y_pred))\n",
    "    test_score = (clf.score(test_X, test_y)*100)\n",
    "    print(\"Test score: %s\" % \"{0:.3f}%\\n\".format(test_score))\n",
    "    \n",
    "    cm=confusion_matrix(test_y, y_pred)\n",
    "    print('Matriz de Confusão:')\n",
    "    print(cm)\n",
    "    \n",
    "    # calculate training and testing time\n",
    "    processing_time = time.time() - start_time\n",
    "    print(\"Processing time: %s seconds \\n\" % \"{0:.3f}\".format(processing_time))"
   ]
  },
  {
   "cell_type": "markdown",
   "metadata": {},
   "source": [
    "### Primeiro algoritmo de aprendizagem de máquina *Random Forest* "
   ]
  },
  {
   "cell_type": "code",
   "execution_count": 29,
   "metadata": {
    "scrolled": false
   },
   "outputs": [
    {
     "name": "stdout",
     "output_type": "stream",
     "text": [
      "\n",
      " ------------ Random Forest with Cluster Centroid under-sampling\n",
      "\n"
     ]
    },
    {
     "name": "stderr",
     "output_type": "stream",
     "text": [
      "/home/curty/.local/lib/python3.5/site-packages/sklearn/model_selection/_search.py:841: DeprecationWarning: The default of the `iid` parameter will change from True to False in version 0.22 and will be removed in 0.24. This will change numeric results when test-set sizes are unequal.\n",
      "  DeprecationWarning)\n"
     ]
    },
    {
     "name": "stdout",
     "output_type": "stream",
     "text": [
      "Best parameters combination: {'criterion': 'gini', 'max_depth': 5, 'random_state': None, 'n_estimators': 100, 'max_features': 'sqrt', 'n_jobs': -1}\n",
      "\n",
      "\n",
      "AUROC accuracy:  0.9972413793103448\n",
      "              precision    recall  f1-score   support\n",
      "\n",
      "           0       0.93      1.00      0.96        25\n",
      "           1       1.00      0.93      0.96        29\n",
      "\n",
      "   micro avg       0.96      0.96      0.96        54\n",
      "   macro avg       0.96      0.97      0.96        54\n",
      "weighted avg       0.97      0.96      0.96        54\n",
      "\n",
      "Test score: 96.296%\n",
      "\n",
      "Matriz de Confusão:\n",
      "[[25  0]\n",
      " [ 2 27]]\n",
      "Processing time: 44.814 seconds \n",
      "\n"
     ]
    }
   ],
   "source": [
    "from sklearn.ensemble import RandomForestClassifier\n",
    "\n",
    "train_X = X_train # input training data\n",
    "train_y = y_train # output trainig data\n",
    "test_X = X_test # input test data\n",
    "test_y = y_test # output test data\n",
    "\n",
    "print(\"\\n ------------ Random Forest with Cluster Centroid under-sampling\\n\")\n",
    "rf_train_test(RandomForestClassifier(), \n",
    "              train_X, train_y, \n",
    "              test_X, test_y,  \n",
    "              features,\n",
    "              {'n_estimators': [50, 70, 100],\n",
    "               'max_features': ['sqrt', 'log2'],\n",
    "               'criterion': ['gini', 'entropy'],\n",
    "               'random_state': [np.random.seed(1234)],\n",
    "               'max_depth': [5, 10, 15, None],\n",
    "               'n_jobs': [-1]}\n",
    "              )"
   ]
  },
  {
   "cell_type": "markdown",
   "metadata": {},
   "source": [
    "### Floresta Aleatória (Random Forest) \n",
    "Algoritmo de aprendizagem supervisionada de máquina, flexível e fácil de usar que produz excelentes resultados a maioria das vezes, mesmo sem ajuste de hiperparâmetros. Uma grande vantagem do algoritmo de florestas aleatórias é que ele pode ser utilizado tanto para tarefas de classificação quanto para regressão.\n",
    "O Floresta Aleatória é um excelente algoritmo para ser utilizado nos primeiros estágios de criação do processo de desenvolvimento de um modelo, para se ter uma ideia de performance. Devido à sua simplicidade, é difícil construir um Floresta Aleatória “ruim”. Este algoritmo é também uma boa opção se você precisa desenvolver um modelo em curto espaço de tempo. Além disso, ele provê um bom indicador de importância para as características."
   ]
  },
  {
   "cell_type": "markdown",
   "metadata": {},
   "source": [
    "### Segundo algoritmo de aprendizagem de máquina *Logistic Regression* "
   ]
  },
  {
   "cell_type": "code",
   "execution_count": 30,
   "metadata": {},
   "outputs": [
    {
     "name": "stdout",
     "output_type": "stream",
     "text": [
      "\n",
      " ------------ Logistic Regression with Cluster Centroid under-sampling\n",
      "\n",
      "Best parameters combination: {'random_state': None, 'penalty': 'l2', 'n_jobs': 1, 'solver': 'liblinear', 'multi_class': 'auto'}\n",
      "\n",
      "\n",
      "AUROC accuracy:  0.6731034482758621\n",
      "              precision    recall  f1-score   support\n",
      "\n",
      "           0       0.61      0.80      0.69        25\n",
      "           1       0.76      0.55      0.64        29\n",
      "\n",
      "   micro avg       0.67      0.67      0.67        54\n",
      "   macro avg       0.68      0.68      0.66        54\n",
      "weighted avg       0.69      0.67      0.66        54\n",
      "\n",
      "Test score: 66.667%\n",
      "\n",
      "Matriz de Confusão:\n",
      "[[20  5]\n",
      " [13 16]]\n",
      "Processing time: 0.131 seconds \n",
      "\n"
     ]
    },
    {
     "name": "stderr",
     "output_type": "stream",
     "text": [
      "/home/curty/.local/lib/python3.5/site-packages/sklearn/model_selection/_search.py:841: DeprecationWarning: The default of the `iid` parameter will change from True to False in version 0.22 and will be removed in 0.24. This will change numeric results when test-set sizes are unequal.\n",
      "  DeprecationWarning)\n"
     ]
    }
   ],
   "source": [
    "from sklearn.linear_model import LogisticRegression\n",
    "\n",
    "train_X = X_train # input training data\n",
    "train_y = y_train # output trainig data\n",
    "test_X = X_test # input test data\n",
    "test_y = y_test # output test data\n",
    "\n",
    "\n",
    "\n",
    "print(\"\\n ------------ Logistic Regression with Cluster Centroid under-sampling\\n\")\n",
    "rf_train_test(LogisticRegression(), \n",
    "              train_X, train_y, \n",
    "              test_X, test_y,  \n",
    "              features,\n",
    "              {'penalty':['l1','l2'],              \n",
    "               'multi_class': ['auto'],\n",
    "               'solver': ['liblinear'],\n",
    "               'random_state': [np.random.seed(1234)],\n",
    "               'n_jobs': [1]}\n",
    "              )\n"
   ]
  },
  {
   "cell_type": "markdown",
   "metadata": {},
   "source": [
    "### A regressão logística \n",
    "Uma poderosa forma estatística de modelar um resultado binomial com uma ou mais variáveis explicativas. Ela mede a relação entre a variável dependente categórica e uma ou mais variáveis independentes, estimando as probabilidades usando uma função logística, que é a distribuição logística cumulativa.\n",
    "Embora inclua erroneamente ‘regressão’ no nome, a regressão logística é, na verdade, uma poderosa ferramenta para a classificação de duas classes e multiclasse. É rápida e simples. O fato de que ela usa uma curva em forma de ‘S’ em vez de uma linha reta faz com que ela seja uma opção natural para a divisão de dados em grupos.  A regressão logística realiza classificação binária, portanto os rótulos de saída são dicotômicos. Ela recebe uma combinação linear de características e aplica uma função não linear (sigmoid) a ela, de modo que é uma instância bem pequena de uma rede neural."
   ]
  },
  {
   "cell_type": "markdown",
   "metadata": {},
   "source": []
  },
  {
   "cell_type": "markdown",
   "metadata": {},
   "source": [
    "# Questão 2"
   ]
  },
  {
   "cell_type": "code",
   "execution_count": 31,
   "metadata": {},
   "outputs": [],
   "source": [
    "import pandas as pd\n",
    "import numpy as np\n",
    "import matplotlib.pyplot as plt\n",
    "import seaborn as sns\n",
    "\n",
    "data2 = pd.read_csv('avila-tr.txt')"
   ]
  },
  {
   "cell_type": "markdown",
   "metadata": {},
   "source": [
    "### Os dados do dataset *avila-tr* não continha nenhum nome para as colunas , então foi modificado e adicionado as colunas de C1 até C10, assim como a coluna de saída que foi nomeada justamente como o nome SAIDA\n"
   ]
  },
  {
   "cell_type": "markdown",
   "metadata": {},
   "source": [
    "### Verificando a ausência de dados no *dataset*\n"
   ]
  },
  {
   "cell_type": "code",
   "execution_count": 32,
   "metadata": {},
   "outputs": [
    {
     "data": {
      "text/plain": [
       "C1       0\n",
       "C2       0\n",
       "C3       0\n",
       "C4       0\n",
       "C5       0\n",
       "C6       0\n",
       "C7       0\n",
       "C8       0\n",
       "C9       0\n",
       "C10      0\n",
       "SAIDA    0\n",
       "dtype: int64"
      ]
     },
     "execution_count": 32,
     "metadata": {},
     "output_type": "execute_result"
    }
   ],
   "source": [
    "data2.isnull().sum()"
   ]
  },
  {
   "cell_type": "markdown",
   "metadata": {},
   "source": [
    "### Como mostra a consulta acima, não existe nenhum valor ausente.\n",
    "### Verificando a correlação, é possivel perceber que as colunas C6 e C10 tem uma correlação muito alta."
   ]
  },
  {
   "cell_type": "code",
   "execution_count": 33,
   "metadata": {
    "scrolled": false
   },
   "outputs": [
    {
     "name": "stdout",
     "output_type": "stream",
     "text": [
      "C8   C10    0.000693\n",
      "C10  C8     0.000693\n",
      "C8   C7     0.000841\n",
      "C7   C8     0.000841\n",
      "C5   C8     0.001106\n",
      "C8   C5     0.001106\n",
      "     C1     0.001249\n",
      "C1   C8     0.001249\n",
      "C10  C2     0.001648\n",
      "C2   C10    0.001648\n",
      "     C4     0.001716\n",
      "C4   C2     0.001716\n",
      "C3   C8     0.002244\n",
      "C8   C3     0.002244\n",
      "C7   C1     0.002956\n",
      "C1   C7     0.002956\n",
      "C2   C8     0.003049\n",
      "C8   C2     0.003049\n",
      "C7   C10    0.004771\n",
      "C10  C7     0.004771\n",
      "C1   C10    0.005668\n",
      "C10  C1     0.005668\n",
      "C6   C8     0.009616\n",
      "C8   C6     0.009616\n",
      "C5   C10    0.009772\n",
      "C10  C5     0.009772\n",
      "C3   C5     0.011333\n",
      "C5   C3     0.011333\n",
      "C9   C10    0.013154\n",
      "C10  C9     0.013154\n",
      "              ...   \n",
      "C4   C3     0.151398\n",
      "C3   C4     0.151398\n",
      "     C9     0.193194\n",
      "C9   C3     0.193194\n",
      "C6   C9     0.214207\n",
      "C9   C6     0.214207\n",
      "C6   C4     0.252882\n",
      "C4   C6     0.252882\n",
      "C9   C5     0.274883\n",
      "C5   C9     0.274883\n",
      "C9   C4     0.283756\n",
      "C4   C9     0.283756\n",
      "C2   C9     0.349011\n",
      "C9   C2     0.349011\n",
      "C2   C3     0.414578\n",
      "C3   C2     0.414578\n",
      "C2   C6     0.424384\n",
      "C6   C2     0.424384\n",
      "C1   C5     0.451966\n",
      "C5   C1     0.451966\n",
      "C1   C1     1.000000\n",
      "C8   C8     1.000000\n",
      "C7   C7     1.000000\n",
      "C6   C6     1.000000\n",
      "C5   C5     1.000000\n",
      "C4   C4     1.000000\n",
      "C3   C3     1.000000\n",
      "C2   C2     1.000000\n",
      "C9   C9     1.000000\n",
      "C10  C10    1.000000\n",
      "Length: 100, dtype: float64\n"
     ]
    },
    {
     "data": {
      "image/png": "[encoded data removed]",
      "text/plain": [
       "<Figure size 432x288 with 2 Axes>"
      ]
     },
     "metadata": {},
     "output_type": "display_data"
    }
   ],
   "source": [
    "correlacao=data2.corr().abs().unstack().sort_values(kind='quicksort')\n",
    "sns.heatmap(data2.corr())\n",
    "print(correlacao)"
   ]
  },
  {
   "cell_type": "markdown",
   "metadata": {},
   "source": [
    "### Juntando as colunas C6 e C10"
   ]
  },
  {
   "cell_type": "code",
   "execution_count": 34,
   "metadata": {},
   "outputs": [],
   "source": [
    "data2['C6_C10']=data2.C6.combine(data2.C10, lambda x1, x2: x1 if x1 < x2 else x2)\n",
    "data2['C6_C10']=data2.C6.combine(data2.C10, lambda x1, x2: (x1+x2)/2)"
   ]
  },
  {
   "cell_type": "code",
   "execution_count": 35,
   "metadata": {},
   "outputs": [],
   "source": [
    "del data2['C6']\n",
    "del data2['C10']"
   ]
  },
  {
   "cell_type": "code",
   "execution_count": 36,
   "metadata": {
    "scrolled": true
   },
   "outputs": [
    {
     "name": "stdout",
     "output_type": "stream",
     "text": [
      "<class 'pandas.core.frame.DataFrame'>\n",
      "RangeIndex: 10430 entries, 0 to 10429\n",
      "Data columns (total 10 columns):\n",
      "C1        10430 non-null float64\n",
      "C2        10430 non-null float64\n",
      "C3        10430 non-null float64\n",
      "C4        10430 non-null float64\n",
      "C5        10430 non-null float64\n",
      "C7        10430 non-null float64\n",
      "C8        10430 non-null float64\n",
      "C9        10430 non-null float64\n",
      "SAIDA     10430 non-null object\n",
      "C6_C10    10430 non-null float64\n",
      "dtypes: float64(9), object(1)\n",
      "memory usage: 814.9+ KB\n"
     ]
    }
   ],
   "source": [
    "data2.info()"
   ]
  },
  {
   "cell_type": "markdown",
   "metadata": {},
   "source": [
    "### Removendo dados duplicados"
   ]
  },
  {
   "cell_type": "code",
   "execution_count": 37,
   "metadata": {},
   "outputs": [],
   "source": [
    "data2 = data2.drop_duplicates(None, 'first')"
   ]
  },
  {
   "cell_type": "markdown",
   "metadata": {},
   "source": [
    "### Por meio do *boxplot* podemos ver a presença de *outliers*\n"
   ]
  },
  {
   "cell_type": "code",
   "execution_count": 38,
   "metadata": {},
   "outputs": [
    {
     "data": {
      "image/png": "[encoded data removed]",
      "text/plain": [
       "<Figure size 432x288 with 1 Axes>"
      ]
     },
     "metadata": {},
     "output_type": "display_data"
    }
   ],
   "source": [
    "sns.set(style=\"whitegrid\", color_codes=True)\n",
    "sns.boxplot(data=data2);"
   ]
  },
  {
   "cell_type": "markdown",
   "metadata": {},
   "source": [
    "### Retirarando *outliers* utilizando o desvio padrão"
   ]
  },
  {
   "cell_type": "code",
   "execution_count": 39,
   "metadata": {},
   "outputs": [],
   "source": [
    "data2=data2[np.abs(data2[\"C8\"]-data2[\"C8\"].mean())<=(3*data2[\"C8\"].std())]\n",
    "data2=data2[np.abs(data2[\"C2\"]-data2[\"C2\"].mean())<=(3*data2[\"C2\"].std())]\n",
    "data2=data2[np.abs(data2[\"C7\"]-data2[\"C7\"].mean())<=(3*data2[\"C7\"].std())]\n",
    "data2=data2[np.abs(data2[\"C6_C10\"]-data2[\"C6_C10\"].mean())<=(3*data2[\"C6_C10\"].std())]"
   ]
  },
  {
   "cell_type": "code",
   "execution_count": 40,
   "metadata": {},
   "outputs": [
    {
     "data": {
      "image/png": "[encoded data removed]",
      "text/plain": [
       "<Figure size 432x288 with 1 Axes>"
      ]
     },
     "metadata": {},
     "output_type": "display_data"
    }
   ],
   "source": [
    "sns.set(style=\"whitegrid\", color_codes=True)\n",
    "sns.boxplot(data=data2);"
   ]
  },
  {
   "cell_type": "markdown",
   "metadata": {},
   "source": [
    "### Balanceando a coluna *SAIDA*:"
   ]
  },
  {
   "cell_type": "code",
   "execution_count": 41,
   "metadata": {
    "scrolled": false
   },
   "outputs": [
    {
     "data": {
      "text/plain": [
       "A    4273\n",
       "F    1955\n",
       "E    1092\n",
       "I     829\n",
       "X     521\n",
       "H     518\n",
       "G     446\n",
       "D     348\n",
       "Y     266\n",
       "C      99\n",
       "W      44\n",
       "Name: SAIDA, dtype: int64"
      ]
     },
     "execution_count": 41,
     "metadata": {},
     "output_type": "execute_result"
    },
    {
     "data": {
      "image/png": "[encoded data removed]",
      "text/plain": [
       "<Figure size 432x288 with 1 Axes>"
      ]
     },
     "metadata": {},
     "output_type": "display_data"
    }
   ],
   "source": [
    "sns.countplot(x='SAIDA',data=data2)\n",
    "data2['SAIDA'].value_counts()"
   ]
  },
  {
   "cell_type": "code",
   "execution_count": 42,
   "metadata": {},
   "outputs": [],
   "source": [
    "features = list(data2)\n",
    "features.remove('SAIDA')"
   ]
  },
  {
   "cell_type": "code",
   "execution_count": 43,
   "metadata": {},
   "outputs": [],
   "source": [
    "#from imblearn.over_sampling import SMOTE\n",
    "from imblearn.under_sampling import ClusterCentroids\n",
    "\n",
    "X = data2[features]\n",
    "y = data2['SAIDA']\n",
    "\n",
    "#sm = SMOTE()\n",
    "#X_resampled, y_resampled = sm.fit_sample(X, y)\n",
    "\n",
    "\n",
    " #aplica Cluster Centroids\n",
    "cc = ClusterCentroids()\n",
    "X_resampled, y_resampled = cc.fit_sample(X, y)"
   ]
  },
  {
   "cell_type": "code",
   "execution_count": 44,
   "metadata": {},
   "outputs": [
    {
     "name": "stdout",
     "output_type": "stream",
     "text": [
      "Tamanho original do dataset Counter({'A': 4273, 'F': 1955, 'E': 1092, 'I': 829, 'X': 521, 'H': 518, 'G': 446, 'D': 348, 'Y': 266, 'C': 99, 'W': 44})\n",
      "Tamanho do dataset após undersampling Counter({'W': 44, 'G': 44, 'A': 44, 'F': 44, 'I': 44, 'X': 44, 'Y': 44, 'C': 44, 'E': 44, 'D': 44, 'H': 44})\n"
     ]
    }
   ],
   "source": [
    "from collections import Counter\n",
    "\n",
    "print('Tamanho original do dataset {}'.format(Counter(y)))\n",
    "print('Tamanho do dataset após undersampling {}'.format(Counter(y_resampled)))"
   ]
  },
  {
   "cell_type": "code",
   "execution_count": 45,
   "metadata": {},
   "outputs": [],
   "source": [
    "from sklearn.model_selection import train_test_split\n",
    "\n",
    "# 70% treinamento e 30% teste\n",
    "X_train, X_test, y_train, y_test = train_test_split(X_resampled, y_resampled, test_size = 0.3)"
   ]
  },
  {
   "cell_type": "code",
   "execution_count": 46,
   "metadata": {},
   "outputs": [
    {
     "name": "stdout",
     "output_type": "stream",
     "text": [
      "\n",
      " ------------ Rede Neural MPLClassifier \n",
      "\n",
      "[[ 4  0  2  0  2  0  2  0  0  1  0]\n",
      " [ 0  8  0  2  1  0  0  0  0  0  0]\n",
      " [ 3  2  4  4  3  0  0  0  0  0  0]\n",
      " [ 2  2  4  3  1  0  0  0  0  1  1]\n",
      " [ 5  1  2  1  4  1  0  0  0  0  0]\n",
      " [ 0  0  2  0  0 12  0  0  0  0  0]\n",
      " [ 1  0  0  0  1  1  7  0  0  0  1]\n",
      " [ 1  0  1  0  1  0  0 12  0  0  0]\n",
      " [ 0  0  0  2  0  0  0  0 14  0  0]\n",
      " [ 1  0  0  1  0  0  0  0  1  6  1]\n",
      " [ 0  1  1  0  0  1  0  2  1  1  7]]\n",
      "              precision    recall  f1-score   support\n",
      "\n",
      "           A       0.24      0.36      0.29        11\n",
      "           C       0.57      0.73      0.64        11\n",
      "           D       0.25      0.25      0.25        16\n",
      "           E       0.23      0.21      0.22        14\n",
      "           F       0.31      0.29      0.30        14\n",
      "           G       0.80      0.86      0.83        14\n",
      "           H       0.78      0.64      0.70        11\n",
      "           I       0.86      0.80      0.83        15\n",
      "           W       0.88      0.88      0.88        16\n",
      "           X       0.67      0.60      0.63        10\n",
      "           Y       0.70      0.50      0.58        14\n",
      "\n",
      "   micro avg       0.55      0.55      0.55       146\n",
      "   macro avg       0.57      0.56      0.56       146\n",
      "weighted avg       0.57      0.55      0.56       146\n",
      "\n",
      "Acurácia: 0.5547945205479452\n"
     ]
    }
   ],
   "source": [
    "from sklearn.neural_network import MLPClassifier\n",
    "from sklearn.metrics import classification_report, confusion_matrix, accuracy_score \n",
    "from sklearn.model_selection import GridSearchCV\n",
    "\n",
    "train_X = X_train # input training data\n",
    "train_y = y_train # output trainig data\n",
    "test_X = X_test # input test data\n",
    "test_y = y_test # output test data\n",
    "\n",
    "model = MLPClassifier()\n",
    "param_grid = {\n",
    "              'activation':['identity','logistic','tanh','relu'],\n",
    "              'hidden_layer_sizes' : [(200,200)],\n",
    "              'solver' : ['bfgs','sgd','adam']\n",
    "             }\n",
    "clf = GridSearchCV(model, param_grid, cv=10, scoring=\"accuracy\", return_train_score=False)\n",
    "\n",
    "clf = MLPClassifier(activation='tanh',solver='lbfgs',hidden_layer_sizes=(200,200))\n",
    "\n",
    "clf.fit(train_X, train_y)\n",
    "\n",
    "\n",
    "y_pred=clf.predict(test_X)\n",
    "\n",
    "print(\"\\n ------------ Rede Neural MPLClassifier \\n\")\n",
    "\n",
    "matriz_de_confusao = confusion_matrix(test_y, y_pred)\n",
    "print(matriz_de_confusao)  \n",
    "\n",
    "print(classification_report(test_y, y_pred))  \n",
    "\n",
    "print('Acurácia:',accuracy_score(test_y, y_pred))"
   ]
  },
  {
   "cell_type": "markdown",
   "metadata": {},
   "source": [
    "## Questão 3"
   ]
  },
  {
   "cell_type": "code",
   "execution_count": 47,
   "metadata": {},
   "outputs": [],
   "source": [
    "import pandas as pd\n",
    "import numpy as np\n",
    "import matplotlib.pyplot as plt\n",
    "import seaborn as sns\n",
    "\n",
    "data_treino = pd.read_csv('base_treinamento.csv')\n",
    "data_test = pd.read_csv('base_teste.csv')"
   ]
  },
  {
   "cell_type": "markdown",
   "metadata": {},
   "source": [
    "### Verificando ausência de dados"
   ]
  },
  {
   "cell_type": "code",
   "execution_count": 48,
   "metadata": {},
   "outputs": [
    {
     "data": {
      "text/plain": [
       "AP1             0\n",
       "AP2             0\n",
       "AP3             0\n",
       "AP4             0\n",
       "AP5             0\n",
       "Coordenada X    0\n",
       "Coordenada Y    0\n",
       "dtype: int64"
      ]
     },
     "execution_count": 48,
     "metadata": {},
     "output_type": "execute_result"
    }
   ],
   "source": [
    "data_treino.isnull().sum()"
   ]
  },
  {
   "cell_type": "markdown",
   "metadata": {},
   "source": [
    "### Removendo dados duplicados"
   ]
  },
  {
   "cell_type": "code",
   "execution_count": 49,
   "metadata": {},
   "outputs": [],
   "source": [
    "data_treino = data_treino.drop_duplicates(None, 'first')"
   ]
  },
  {
   "cell_type": "code",
   "execution_count": 50,
   "metadata": {},
   "outputs": [
    {
     "name": "stdout",
     "output_type": "stream",
     "text": [
      "<class 'pandas.core.frame.DataFrame'>\n",
      "Int64Index: 262 entries, 0 to 261\n",
      "Data columns (total 7 columns):\n",
      "AP1             262 non-null int64\n",
      "AP2             262 non-null int64\n",
      "AP3             262 non-null int64\n",
      "AP4             262 non-null int64\n",
      "AP5             262 non-null int64\n",
      "Coordenada X    262 non-null float64\n",
      "Coordenada Y    262 non-null float64\n",
      "dtypes: float64(2), int64(5)\n",
      "memory usage: 16.4 KB\n"
     ]
    }
   ],
   "source": [
    "data_treino.info()"
   ]
  },
  {
   "cell_type": "code",
   "execution_count": 51,
   "metadata": {},
   "outputs": [
    {
     "data": {
      "text/plain": [
       "<matplotlib.axes._subplots.AxesSubplot at 0x7f20717ef0f0>"
      ]
     },
     "execution_count": 51,
     "metadata": {},
     "output_type": "execute_result"
    },
    {
     "data": {
      "image/png": "[encoded data removed]",
      "text/plain": [
       "<Figure size 432x288 with 1 Axes>"
      ]
     },
     "metadata": {},
     "output_type": "display_data"
    }
   ],
   "source": [
    "sns.countplot(x='Coordenada X',data=data_treino)"
   ]
  },
  {
   "cell_type": "code",
   "execution_count": 52,
   "metadata": {},
   "outputs": [
    {
     "data": {
      "text/plain": [
       "<matplotlib.axes._subplots.AxesSubplot at 0x7f20719293c8>"
      ]
     },
     "execution_count": 52,
     "metadata": {},
     "output_type": "execute_result"
    },
    {
     "data": {
      "image/png": "[encoded data removed]",
      "text/plain": [
       "<Figure size 432x288 with 1 Axes>"
      ]
     },
     "metadata": {},
     "output_type": "display_data"
    }
   ],
   "source": [
    "sns.countplot(x='Coordenada Y',data=data_treino)"
   ]
  },
  {
   "cell_type": "markdown",
   "metadata": {},
   "source": [
    "### Verificando a presença de *outliers* por meio do *boxplot* "
   ]
  },
  {
   "cell_type": "code",
   "execution_count": 53,
   "metadata": {},
   "outputs": [
    {
     "data": {
      "image/png": "[encoded data removed]",
      "text/plain": [
       "<Figure size 432x288 with 1 Axes>"
      ]
     },
     "metadata": {},
     "output_type": "display_data"
    }
   ],
   "source": [
    "sns.set(style=\"whitegrid\", color_codes=True)\n",
    "sns.boxplot(data=data_treino);"
   ]
  },
  {
   "cell_type": "code",
   "execution_count": 54,
   "metadata": {},
   "outputs": [
    {
     "name": "stdout",
     "output_type": "stream",
     "text": [
      "Tamanho original do dataset Counter({'A': 4273, 'F': 1955, 'E': 1092, 'I': 829, 'X': 521, 'H': 518, 'G': 446, 'D': 348, 'Y': 266, 'C': 99, 'W': 44})\n",
      "Tamanho do dataset após undersampling Counter({'W': 44, 'G': 44, 'A': 44, 'F': 44, 'I': 44, 'X': 44, 'Y': 44, 'C': 44, 'E': 44, 'D': 44, 'H': 44})\n"
     ]
    }
   ],
   "source": [
    "from collections import Counter\n",
    "\n",
    "print('Tamanho original do dataset {}'.format(Counter(y)))\n",
    "print('Tamanho do dataset após undersampling {}'.format(Counter(y_resampled)))"
   ]
  },
  {
   "cell_type": "markdown",
   "metadata": {},
   "source": [
    "### Direcionando bases de treinamento e teste"
   ]
  },
  {
   "cell_type": "code",
   "execution_count": 55,
   "metadata": {},
   "outputs": [],
   "source": [
    "X_train = data_treino.iloc[:,:5]\n",
    "y_train = data_treino.iloc[:,5:]\n",
    "X_test = data_test.iloc[:,:5]\n",
    "y_test = data_test.iloc[:,5:]"
   ]
  },
  {
   "cell_type": "code",
   "execution_count": 56,
   "metadata": {},
   "outputs": [
    {
     "name": "stderr",
     "output_type": "stream",
     "text": [
      "/home/curty/.local/lib/python3.5/site-packages/sklearn/preprocessing/data.py:617: DataConversionWarning: Data with input dtype int64 were all converted to float64 by StandardScaler.\n",
      "  return self.partial_fit(X, y)\n",
      "/home/curty/.local/lib/python3.5/site-packages/sklearn/preprocessing/data.py:617: DataConversionWarning: Data with input dtype int64 were all converted to float64 by StandardScaler.\n",
      "  return self.partial_fit(X, y)\n"
     ]
    },
    {
     "data": {
      "text/plain": [
       "StandardScaler(copy=True, with_mean=True, with_std=True)"
      ]
     },
     "execution_count": 56,
     "metadata": {},
     "output_type": "execute_result"
    }
   ],
   "source": [
    "from sklearn.preprocessing import StandardScaler\n",
    "sc = StandardScaler()  \n",
    "sc.fit(X_train)\n",
    "sc.fit(X_test)"
   ]
  },
  {
   "cell_type": "code",
   "execution_count": 61,
   "metadata": {},
   "outputs": [
    {
     "ename": "AttributeError",
     "evalue": "'numpy.ndarray' object has no attribute 'corr'",
     "output_type": "error",
     "traceback": [
      "\u001b[0;31m---------------------------------------------------------------------------\u001b[0m",
      "\u001b[0;31mAttributeError\u001b[0m                            Traceback (most recent call last)",
      "\u001b[0;32m<ipython-input-61-5304c39775b9>\u001b[0m in \u001b[0;36m<module>\u001b[0;34m\u001b[0m\n\u001b[0;32m----> 1\u001b[0;31m \u001b[0mcorrelacao\u001b[0m\u001b[0;34m=\u001b[0m\u001b[0mX_train\u001b[0m\u001b[0;34m.\u001b[0m\u001b[0mcorr\u001b[0m\u001b[0;34m(\u001b[0m\u001b[0;34m)\u001b[0m\u001b[0;34m.\u001b[0m\u001b[0mabs\u001b[0m\u001b[0;34m(\u001b[0m\u001b[0;34m)\u001b[0m\u001b[0;34m.\u001b[0m\u001b[0munstack\u001b[0m\u001b[0;34m(\u001b[0m\u001b[0;34m)\u001b[0m\u001b[0;34m.\u001b[0m\u001b[0msort_values\u001b[0m\u001b[0;34m(\u001b[0m\u001b[0mkind\u001b[0m\u001b[0;34m=\u001b[0m\u001b[0;34m'quicksort'\u001b[0m\u001b[0;34m)\u001b[0m\u001b[0;34m\u001b[0m\u001b[0m\n\u001b[0m\u001b[1;32m      2\u001b[0m \u001b[0msns\u001b[0m\u001b[0;34m.\u001b[0m\u001b[0mheatmap\u001b[0m\u001b[0;34m(\u001b[0m\u001b[0mX_train\u001b[0m\u001b[0;34m.\u001b[0m\u001b[0mcorr\u001b[0m\u001b[0;34m(\u001b[0m\u001b[0;34m)\u001b[0m\u001b[0;34m)\u001b[0m\u001b[0;34m\u001b[0m\u001b[0m\n\u001b[1;32m      3\u001b[0m \u001b[0mprint\u001b[0m\u001b[0;34m(\u001b[0m\u001b[0mcorrelacao\u001b[0m\u001b[0;34m)\u001b[0m\u001b[0;34m\u001b[0m\u001b[0m\n",
      "\u001b[0;31mAttributeError\u001b[0m: 'numpy.ndarray' object has no attribute 'corr'"
     ]
    }
   ],
   "source": [
    "correlacao=X_train.corr().abs().unstack().sort_values(kind='quicksort')\n",
    "sns.heatmap(X_train.corr())\n",
    "print(correlacao)"
   ]
  },
  {
   "cell_type": "code",
   "execution_count": 57,
   "metadata": {},
   "outputs": [],
   "source": [
    "from sklearn.model_selection import train_test_split\n",
    "\n",
    "# 70% treinamento e 30% teste\n",
    "X_train, X_test, y_train, y_test = train_test_split(X_resampled, y_resampled, test_size = 0.3)"
   ]
  }
 ],
 "metadata": {
  "colab": {
   "collapsed_sections": [],
   "name": "IA.ipynb",
   "provenance": [],
   "version": "0.3.2"
  },
  "kernelspec": {
   "display_name": "Python 3",
   "language": "python",
   "name": "python3"
  },
  "language_info": {
   "codemirror_mode": {
    "name": "ipython",
    "version": 3
   },
   "file_extension": ".py",
   "mimetype": "text/x-python",
   "name": "python",
   "nbconvert_exporter": "python",
   "pygments_lexer": "ipython3",
   "version": "3.5.2"
  }
 },
 "nbformat": 4,
 "nbformat_minor": 2
}
