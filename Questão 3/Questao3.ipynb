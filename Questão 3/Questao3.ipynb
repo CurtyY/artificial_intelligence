{
 "cells": [
  {
   "cell_type": "markdown",
   "metadata": {},
   "source": [
    "## Questão 3"
   ]
  },
  {
   "cell_type": "code",
   "execution_count": 29,
   "metadata": {},
   "outputs": [],
   "source": [
    "import pandas as pd\n",
    "import numpy as np\n",
    "import matplotlib.pyplot as plt\n",
    "import seaborn as sns\n",
    "import math\n",
    "from sklearn.metrics import r2_score, mean_absolute_error\n",
    "\n",
    "\n",
    "data_treino = pd.read_csv('base_treinamento.csv')\n",
    "data_test = pd.read_csv('base_teste.csv')"
   ]
  },
  {
   "cell_type": "markdown",
   "metadata": {},
   "source": [
    "### Verificando ausência de dados"
   ]
  },
  {
   "cell_type": "code",
   "execution_count": 30,
   "metadata": {},
   "outputs": [
    {
     "data": {
      "text/plain": [
       "AP1             0\n",
       "AP2             0\n",
       "AP3             0\n",
       "AP4             0\n",
       "AP5             0\n",
       "Coordenada X    0\n",
       "Coordenada Y    0\n",
       "dtype: int64"
      ]
     },
     "execution_count": 30,
     "metadata": {},
     "output_type": "execute_result"
    }
   ],
   "source": [
    "data_treino.isnull().sum()"
   ]
  },
  {
   "cell_type": "code",
   "execution_count": 31,
   "metadata": {},
   "outputs": [
    {
     "data": {
      "text/html": [
       "<style  type=\"text/css\" >\n",
       "    #T_3cf7f31e_d978_11e8_abfc_50b7c341d975row0_col0 {\n",
       "            background-color:  #023858;\n",
       "        }    #T_3cf7f31e_d978_11e8_abfc_50b7c341d975row0_col1 {\n",
       "            background-color:  #6fa7ce;\n",
       "        }    #T_3cf7f31e_d978_11e8_abfc_50b7c341d975row0_col2 {\n",
       "            background-color:  #fff7fb;\n",
       "        }    #T_3cf7f31e_d978_11e8_abfc_50b7c341d975row0_col3 {\n",
       "            background-color:  #e2dfee;\n",
       "        }    #T_3cf7f31e_d978_11e8_abfc_50b7c341d975row0_col4 {\n",
       "            background-color:  #046097;\n",
       "        }    #T_3cf7f31e_d978_11e8_abfc_50b7c341d975row0_col5 {\n",
       "            background-color:  #fff7fb;\n",
       "        }    #T_3cf7f31e_d978_11e8_abfc_50b7c341d975row0_col6 {\n",
       "            background-color:  #04639b;\n",
       "        }    #T_3cf7f31e_d978_11e8_abfc_50b7c341d975row1_col0 {\n",
       "            background-color:  #569dc8;\n",
       "        }    #T_3cf7f31e_d978_11e8_abfc_50b7c341d975row1_col1 {\n",
       "            background-color:  #023858;\n",
       "        }    #T_3cf7f31e_d978_11e8_abfc_50b7c341d975row1_col2 {\n",
       "            background-color:  #abbfdc;\n",
       "        }    #T_3cf7f31e_d978_11e8_abfc_50b7c341d975row1_col3 {\n",
       "            background-color:  #ebe6f2;\n",
       "        }    #T_3cf7f31e_d978_11e8_abfc_50b7c341d975row1_col4 {\n",
       "            background-color:  #62a2cb;\n",
       "        }    #T_3cf7f31e_d978_11e8_abfc_50b7c341d975row1_col5 {\n",
       "            background-color:  #4295c3;\n",
       "        }    #T_3cf7f31e_d978_11e8_abfc_50b7c341d975row1_col6 {\n",
       "            background-color:  #0771b1;\n",
       "        }    #T_3cf7f31e_d978_11e8_abfc_50b7c341d975row2_col0 {\n",
       "            background-color:  #f2ecf5;\n",
       "        }    #T_3cf7f31e_d978_11e8_abfc_50b7c341d975row2_col1 {\n",
       "            background-color:  #afc1dd;\n",
       "        }    #T_3cf7f31e_d978_11e8_abfc_50b7c341d975row2_col2 {\n",
       "            background-color:  #023858;\n",
       "        }    #T_3cf7f31e_d978_11e8_abfc_50b7c341d975row2_col3 {\n",
       "            background-color:  #4897c4;\n",
       "        }    #T_3cf7f31e_d978_11e8_abfc_50b7c341d975row2_col4 {\n",
       "            background-color:  #fdf5fa;\n",
       "        }    #T_3cf7f31e_d978_11e8_abfc_50b7c341d975row2_col5 {\n",
       "            background-color:  #0569a4;\n",
       "        }    #T_3cf7f31e_d978_11e8_abfc_50b7c341d975row2_col6 {\n",
       "            background-color:  #d6d6e9;\n",
       "        }    #T_3cf7f31e_d978_11e8_abfc_50b7c341d975row3_col0 {\n",
       "            background-color:  #e7e3f0;\n",
       "        }    #T_3cf7f31e_d978_11e8_abfc_50b7c341d975row3_col1 {\n",
       "            background-color:  #fff7fb;\n",
       "        }    #T_3cf7f31e_d978_11e8_abfc_50b7c341d975row3_col2 {\n",
       "            background-color:  #63a2cb;\n",
       "        }    #T_3cf7f31e_d978_11e8_abfc_50b7c341d975row3_col3 {\n",
       "            background-color:  #023858;\n",
       "        }    #T_3cf7f31e_d978_11e8_abfc_50b7c341d975row3_col4 {\n",
       "            background-color:  #eae6f1;\n",
       "        }    #T_3cf7f31e_d978_11e8_abfc_50b7c341d975row3_col5 {\n",
       "            background-color:  #91b5d6;\n",
       "        }    #T_3cf7f31e_d978_11e8_abfc_50b7c341d975row3_col6 {\n",
       "            background-color:  #fff7fb;\n",
       "        }    #T_3cf7f31e_d978_11e8_abfc_50b7c341d975row4_col0 {\n",
       "            background-color:  #045e93;\n",
       "        }    #T_3cf7f31e_d978_11e8_abfc_50b7c341d975row4_col1 {\n",
       "            background-color:  #60a1ca;\n",
       "        }    #T_3cf7f31e_d978_11e8_abfc_50b7c341d975row4_col2 {\n",
       "            background-color:  #faf2f8;\n",
       "        }    #T_3cf7f31e_d978_11e8_abfc_50b7c341d975row4_col3 {\n",
       "            background-color:  #d0d1e6;\n",
       "        }    #T_3cf7f31e_d978_11e8_abfc_50b7c341d975row4_col4 {\n",
       "            background-color:  #023858;\n",
       "        }    #T_3cf7f31e_d978_11e8_abfc_50b7c341d975row4_col5 {\n",
       "            background-color:  #efe9f3;\n",
       "        }    #T_3cf7f31e_d978_11e8_abfc_50b7c341d975row4_col6 {\n",
       "            background-color:  #04649d;\n",
       "        }    #T_3cf7f31e_d978_11e8_abfc_50b7c341d975row5_col0 {\n",
       "            background-color:  #fff7fb;\n",
       "        }    #T_3cf7f31e_d978_11e8_abfc_50b7c341d975row5_col1 {\n",
       "            background-color:  #5a9ec9;\n",
       "        }    #T_3cf7f31e_d978_11e8_abfc_50b7c341d975row5_col2 {\n",
       "            background-color:  #056dab;\n",
       "        }    #T_3cf7f31e_d978_11e8_abfc_50b7c341d975row5_col3 {\n",
       "            background-color:  #89b1d4;\n",
       "        }    #T_3cf7f31e_d978_11e8_abfc_50b7c341d975row5_col4 {\n",
       "            background-color:  #fff7fb;\n",
       "        }    #T_3cf7f31e_d978_11e8_abfc_50b7c341d975row5_col5 {\n",
       "            background-color:  #023858;\n",
       "        }    #T_3cf7f31e_d978_11e8_abfc_50b7c341d975row5_col6 {\n",
       "            background-color:  #bdc8e1;\n",
       "        }    #T_3cf7f31e_d978_11e8_abfc_50b7c341d975row6_col0 {\n",
       "            background-color:  #04649d;\n",
       "        }    #T_3cf7f31e_d978_11e8_abfc_50b7c341d975row6_col1 {\n",
       "            background-color:  #167bb6;\n",
       "        }    #T_3cf7f31e_d978_11e8_abfc_50b7c341d975row6_col2 {\n",
       "            background-color:  #ede7f2;\n",
       "        }    #T_3cf7f31e_d978_11e8_abfc_50b7c341d975row6_col3 {\n",
       "            background-color:  #fff7fb;\n",
       "        }    #T_3cf7f31e_d978_11e8_abfc_50b7c341d975row6_col4 {\n",
       "            background-color:  #0569a4;\n",
       "        }    #T_3cf7f31e_d978_11e8_abfc_50b7c341d975row6_col5 {\n",
       "            background-color:  #c4cbe3;\n",
       "        }    #T_3cf7f31e_d978_11e8_abfc_50b7c341d975row6_col6 {\n",
       "            background-color:  #023858;\n",
       "        }</style>  \n",
       "<table id=\"T_3cf7f31e_d978_11e8_abfc_50b7c341d975\" > \n",
       "<thead>    <tr> \n",
       "        <th class=\"blank level0\" ></th> \n",
       "        <th class=\"col_heading level0 col0\" >AP1</th> \n",
       "        <th class=\"col_heading level0 col1\" >AP2</th> \n",
       "        <th class=\"col_heading level0 col2\" >AP3</th> \n",
       "        <th class=\"col_heading level0 col3\" >AP4</th> \n",
       "        <th class=\"col_heading level0 col4\" >AP5</th> \n",
       "        <th class=\"col_heading level0 col5\" >Coordenada X</th> \n",
       "        <th class=\"col_heading level0 col6\" >Coordenada Y</th> \n",
       "    </tr></thead> \n",
       "<tbody>    <tr> \n",
       "        <th id=\"T_3cf7f31e_d978_11e8_abfc_50b7c341d975level0_row0\" class=\"row_heading level0 row0\" >AP1</th> \n",
       "        <td id=\"T_3cf7f31e_d978_11e8_abfc_50b7c341d975row0_col0\" class=\"data row0 col0\" >1</td> \n",
       "        <td id=\"T_3cf7f31e_d978_11e8_abfc_50b7c341d975row0_col1\" class=\"data row0 col1\" >0.24</td> \n",
       "        <td id=\"T_3cf7f31e_d978_11e8_abfc_50b7c341d975row0_col2\" class=\"data row0 col2\" >-0.58</td> \n",
       "        <td id=\"T_3cf7f31e_d978_11e8_abfc_50b7c341d975row0_col3\" class=\"data row0 col3\" >-0.48</td> \n",
       "        <td id=\"T_3cf7f31e_d978_11e8_abfc_50b7c341d975row0_col4\" class=\"data row0 col4\" >0.75</td> \n",
       "        <td id=\"T_3cf7f31e_d978_11e8_abfc_50b7c341d975row0_col5\" class=\"data row0 col5\" >-0.73</td> \n",
       "        <td id=\"T_3cf7f31e_d978_11e8_abfc_50b7c341d975row0_col6\" class=\"data row0 col6\" >0.68</td> \n",
       "    </tr>    <tr> \n",
       "        <th id=\"T_3cf7f31e_d978_11e8_abfc_50b7c341d975level0_row1\" class=\"row_heading level0 row1\" >AP2</th> \n",
       "        <td id=\"T_3cf7f31e_d978_11e8_abfc_50b7c341d975row1_col0\" class=\"data row1 col0\" >0.24</td> \n",
       "        <td id=\"T_3cf7f31e_d978_11e8_abfc_50b7c341d975row1_col1\" class=\"data row1 col1\" >1</td> \n",
       "        <td id=\"T_3cf7f31e_d978_11e8_abfc_50b7c341d975row1_col2\" class=\"data row1 col2\" >-0.0096</td> \n",
       "        <td id=\"T_3cf7f31e_d978_11e8_abfc_50b7c341d975row1_col3\" class=\"data row1 col3\" >-0.55</td> \n",
       "        <td id=\"T_3cf7f31e_d978_11e8_abfc_50b7c341d975row1_col4\" class=\"data row1 col4\" >0.29</td> \n",
       "        <td id=\"T_3cf7f31e_d978_11e8_abfc_50b7c341d975row1_col5\" class=\"data row1 col5\" >0.31</td> \n",
       "        <td id=\"T_3cf7f31e_d978_11e8_abfc_50b7c341d975row1_col6\" class=\"data row1 col6\" >0.54</td> \n",
       "    </tr>    <tr> \n",
       "        <th id=\"T_3cf7f31e_d978_11e8_abfc_50b7c341d975level0_row2\" class=\"row_heading level0 row2\" >AP3</th> \n",
       "        <td id=\"T_3cf7f31e_d978_11e8_abfc_50b7c341d975row2_col0\" class=\"data row2 col0\" >-0.58</td> \n",
       "        <td id=\"T_3cf7f31e_d978_11e8_abfc_50b7c341d975row2_col1\" class=\"data row2 col1\" >-0.0096</td> \n",
       "        <td id=\"T_3cf7f31e_d978_11e8_abfc_50b7c341d975row2_col2\" class=\"data row2 col2\" >1</td> \n",
       "        <td id=\"T_3cf7f31e_d978_11e8_abfc_50b7c341d975row2_col3\" class=\"data row2 col3\" >0.26</td> \n",
       "        <td id=\"T_3cf7f31e_d978_11e8_abfc_50b7c341d975row2_col4\" class=\"data row2 col4\" >-0.52</td> \n",
       "        <td id=\"T_3cf7f31e_d978_11e8_abfc_50b7c341d975row2_col5\" class=\"data row2 col5\" >0.64</td> \n",
       "        <td id=\"T_3cf7f31e_d978_11e8_abfc_50b7c341d975row2_col6\" class=\"data row2 col6\" >-0.38</td> \n",
       "    </tr>    <tr> \n",
       "        <th id=\"T_3cf7f31e_d978_11e8_abfc_50b7c341d975level0_row3\" class=\"row_heading level0 row3\" >AP4</th> \n",
       "        <td id=\"T_3cf7f31e_d978_11e8_abfc_50b7c341d975row3_col0\" class=\"data row3 col0\" >-0.48</td> \n",
       "        <td id=\"T_3cf7f31e_d978_11e8_abfc_50b7c341d975row3_col1\" class=\"data row3 col1\" >-0.55</td> \n",
       "        <td id=\"T_3cf7f31e_d978_11e8_abfc_50b7c341d975row3_col2\" class=\"data row3 col2\" >0.26</td> \n",
       "        <td id=\"T_3cf7f31e_d978_11e8_abfc_50b7c341d975row3_col3\" class=\"data row3 col3\" >1</td> \n",
       "        <td id=\"T_3cf7f31e_d978_11e8_abfc_50b7c341d975row3_col4\" class=\"data row3 col4\" >-0.34</td> \n",
       "        <td id=\"T_3cf7f31e_d978_11e8_abfc_50b7c341d975row3_col5\" class=\"data row3 col5\" >0.011</td> \n",
       "        <td id=\"T_3cf7f31e_d978_11e8_abfc_50b7c341d975row3_col6\" class=\"data row3 col6\" >-0.78</td> \n",
       "    </tr>    <tr> \n",
       "        <th id=\"T_3cf7f31e_d978_11e8_abfc_50b7c341d975level0_row4\" class=\"row_heading level0 row4\" >AP5</th> \n",
       "        <td id=\"T_3cf7f31e_d978_11e8_abfc_50b7c341d975row4_col0\" class=\"data row4 col0\" >0.75</td> \n",
       "        <td id=\"T_3cf7f31e_d978_11e8_abfc_50b7c341d975row4_col1\" class=\"data row4 col1\" >0.29</td> \n",
       "        <td id=\"T_3cf7f31e_d978_11e8_abfc_50b7c341d975row4_col2\" class=\"data row4 col2\" >-0.52</td> \n",
       "        <td id=\"T_3cf7f31e_d978_11e8_abfc_50b7c341d975row4_col3\" class=\"data row4 col3\" >-0.34</td> \n",
       "        <td id=\"T_3cf7f31e_d978_11e8_abfc_50b7c341d975row4_col4\" class=\"data row4 col4\" >1</td> \n",
       "        <td id=\"T_3cf7f31e_d978_11e8_abfc_50b7c341d975row4_col5\" class=\"data row4 col5\" >-0.54</td> \n",
       "        <td id=\"T_3cf7f31e_d978_11e8_abfc_50b7c341d975row4_col6\" class=\"data row4 col6\" >0.68</td> \n",
       "    </tr>    <tr> \n",
       "        <th id=\"T_3cf7f31e_d978_11e8_abfc_50b7c341d975level0_row5\" class=\"row_heading level0 row5\" >Coordenada X</th> \n",
       "        <td id=\"T_3cf7f31e_d978_11e8_abfc_50b7c341d975row5_col0\" class=\"data row5 col0\" >-0.73</td> \n",
       "        <td id=\"T_3cf7f31e_d978_11e8_abfc_50b7c341d975row5_col1\" class=\"data row5 col1\" >0.31</td> \n",
       "        <td id=\"T_3cf7f31e_d978_11e8_abfc_50b7c341d975row5_col2\" class=\"data row5 col2\" >0.64</td> \n",
       "        <td id=\"T_3cf7f31e_d978_11e8_abfc_50b7c341d975row5_col3\" class=\"data row5 col3\" >0.011</td> \n",
       "        <td id=\"T_3cf7f31e_d978_11e8_abfc_50b7c341d975row5_col4\" class=\"data row5 col4\" >-0.54</td> \n",
       "        <td id=\"T_3cf7f31e_d978_11e8_abfc_50b7c341d975row5_col5\" class=\"data row5 col5\" >1</td> \n",
       "        <td id=\"T_3cf7f31e_d978_11e8_abfc_50b7c341d975row5_col6\" class=\"data row5 col6\" >-0.24</td> \n",
       "    </tr>    <tr> \n",
       "        <th id=\"T_3cf7f31e_d978_11e8_abfc_50b7c341d975level0_row6\" class=\"row_heading level0 row6\" >Coordenada Y</th> \n",
       "        <td id=\"T_3cf7f31e_d978_11e8_abfc_50b7c341d975row6_col0\" class=\"data row6 col0\" >0.68</td> \n",
       "        <td id=\"T_3cf7f31e_d978_11e8_abfc_50b7c341d975row6_col1\" class=\"data row6 col1\" >0.54</td> \n",
       "        <td id=\"T_3cf7f31e_d978_11e8_abfc_50b7c341d975row6_col2\" class=\"data row6 col2\" >-0.38</td> \n",
       "        <td id=\"T_3cf7f31e_d978_11e8_abfc_50b7c341d975row6_col3\" class=\"data row6 col3\" >-0.78</td> \n",
       "        <td id=\"T_3cf7f31e_d978_11e8_abfc_50b7c341d975row6_col4\" class=\"data row6 col4\" >0.68</td> \n",
       "        <td id=\"T_3cf7f31e_d978_11e8_abfc_50b7c341d975row6_col5\" class=\"data row6 col5\" >-0.24</td> \n",
       "        <td id=\"T_3cf7f31e_d978_11e8_abfc_50b7c341d975row6_col6\" class=\"data row6 col6\" >1</td> \n",
       "    </tr></tbody> \n",
       "</table> "
      ],
      "text/plain": [
       "<pandas.io.formats.style.Styler at 0x7f10ee6db160>"
      ]
     },
     "execution_count": 31,
     "metadata": {},
     "output_type": "execute_result"
    }
   ],
   "source": [
    "df = pd.DataFrame(data_treino)\n",
    "corr = df.corr()\n",
    "corr.style.background_gradient().set_precision(2)"
   ]
  },
  {
   "cell_type": "markdown",
   "metadata": {},
   "source": [
    "### Analisando a matriz de correlação, podemos notar algumas colunas com correlação alta, porém achamos desnecessário a juntar as duas \n"
   ]
  },
  {
   "cell_type": "markdown",
   "metadata": {},
   "source": [
    "### Removendo dados duplicados"
   ]
  },
  {
   "cell_type": "code",
   "execution_count": 32,
   "metadata": {},
   "outputs": [],
   "source": [
    "data_treino = data_treino.drop_duplicates(None, 'first')"
   ]
  },
  {
   "cell_type": "code",
   "execution_count": 33,
   "metadata": {},
   "outputs": [
    {
     "name": "stdout",
     "output_type": "stream",
     "text": [
      "<class 'pandas.core.frame.DataFrame'>\n",
      "Int64Index: 262 entries, 0 to 261\n",
      "Data columns (total 7 columns):\n",
      "AP1             262 non-null int64\n",
      "AP2             262 non-null int64\n",
      "AP3             262 non-null int64\n",
      "AP4             262 non-null int64\n",
      "AP5             262 non-null int64\n",
      "Coordenada X    262 non-null float64\n",
      "Coordenada Y    262 non-null float64\n",
      "dtypes: float64(2), int64(5)\n",
      "memory usage: 16.4 KB\n"
     ]
    }
   ],
   "source": [
    "data_treino.info()"
   ]
  },
  {
   "cell_type": "markdown",
   "metadata": {},
   "source": [
    "### Verificando a presença de *outliers* por meio do *boxplot* "
   ]
  },
  {
   "cell_type": "code",
   "execution_count": 34,
   "metadata": {},
   "outputs": [
    {
     "data": {
      "image/png": "[encoded data removed]",
      "text/plain": [
       "<Figure size 432x288 with 1 Axes>"
      ]
     },
     "metadata": {},
     "output_type": "display_data"
    }
   ],
   "source": [
    "sns.set(style=\"whitegrid\", color_codes=True)\n",
    "sns.boxplot(data=data_treino);"
   ]
  },
  {
   "cell_type": "markdown",
   "metadata": {},
   "source": [
    "### Organizando os dados de teste e treinamento"
   ]
  },
  {
   "cell_type": "markdown",
   "metadata": {},
   "source": [
    "#### Os dados foram serão reorganizados, de modo que, a segunda linha dos dados AP1 até AP5 , seja a entrada das colunas de saída, assim simulando um tipo de memória. Similar a movimentação de um robô."
   ]
  },
  {
   "cell_type": "markdown",
   "metadata": {},
   "source": [
    "#### Primeiramente dividimos em dois bancos, um com as duas colunas de coordenadas X e Y, as quais não terão alteração. E outro com as colunas de AP1 até AP5, que são as colunas com necessidade da remição da primeira linha, para que possamos juntar novamente os dois bancos em um só, assim gerando um banco reorganização do modo explicado acima"
   ]
  },
  {
   "cell_type": "code",
   "execution_count": 35,
   "metadata": {},
   "outputs": [],
   "source": [
    "X_train = data_treino.iloc[:,:5]\n",
    "y_train = data_treino.iloc[:-1,5:]\n",
    "X_test = data_test.iloc[:,:5]\n",
    "y_test = data_test.iloc[:-1,5:]"
   ]
  },
  {
   "cell_type": "code",
   "execution_count": 36,
   "metadata": {},
   "outputs": [
    {
     "name": "stdout",
     "output_type": "stream",
     "text": [
      "     Coordenada X  Coordenada Y\n",
      "0            1.47         19.44\n",
      "1            2.48         19.54\n",
      "2            3.44         19.54\n",
      "3            4.48         19.54\n",
      "4            5.44         19.54\n",
      "5            6.41         19.54\n",
      "6            7.41         19.63\n",
      "7            8.50         19.54\n",
      "8            9.42         19.63\n",
      "9           10.42         19.58\n",
      "10          11.46         19.54\n",
      "11          12.42         19.58\n",
      "12          13.51         19.44\n",
      "13          14.43         19.54\n",
      "14          15.48         19.58\n",
      "15          16.48         19.54\n",
      "16          17.40         19.58\n",
      "17          18.40         19.49\n",
      "18          19.45         19.54\n",
      "19          20.45         19.58\n",
      "20          20.41         18.53\n",
      "21          19.45         18.58\n",
      "22          18.44         18.58\n",
      "23          17.40         18.58\n",
      "24          16.48         18.58\n",
      "25          15.43         18.58\n",
      "26          14.47         18.48\n",
      "27          13.43         18.58\n",
      "28          12.38         18.58\n",
      "29          11.46         18.63\n",
      "..            ...           ...\n",
      "231         11.38          8.47\n",
      "232         12.40          8.56\n",
      "233         13.38          8.56\n",
      "234         10.49          7.49\n",
      "235         11.38          7.49\n",
      "236         12.36          7.49\n",
      "237         13.38          7.58\n",
      "238         10.45          6.60\n",
      "239         11.43          6.56\n",
      "240         12.36          6.56\n",
      "241         13.38          6.56\n",
      "242         10.41          5.58\n",
      "243         11.43          5.58\n",
      "244         12.36          5.62\n",
      "245         13.34          5.67\n",
      "246         10.36          4.60\n",
      "247         11.38          4.60\n",
      "248         12.40          4.60\n",
      "249         13.42          4.65\n",
      "250         10.41          3.62\n",
      "251         11.38          3.57\n",
      "252         12.40          3.62\n",
      "253         13.34          3.67\n",
      "254         10.41          2.55\n",
      "255         11.43          2.59\n",
      "256         12.40          2.64\n",
      "257         13.38          2.59\n",
      "258         10.45          1.57\n",
      "259         11.43          1.57\n",
      "260         12.40          1.66\n",
      "\n",
      "[261 rows x 2 columns]\n"
     ]
    }
   ],
   "source": [
    "print(y_train)"
   ]
  },
  {
   "cell_type": "markdown",
   "metadata": {},
   "source": [
    "### Removendo a primeira linha das colunas de AP1 até AP5, dos datasets de treinamento e teste"
   ]
  },
  {
   "cell_type": "code",
   "execution_count": 37,
   "metadata": {},
   "outputs": [],
   "source": [
    "X_train.drop(0,axis=0, inplace=True)\n",
    "X_test.drop(0,axis=0, inplace=True)"
   ]
  },
  {
   "cell_type": "markdown",
   "metadata": {},
   "source": [
    "### Resetando o índice das linhas, para que voltem a ser numeradas de a partir de zero"
   ]
  },
  {
   "cell_type": "code",
   "execution_count": 38,
   "metadata": {},
   "outputs": [],
   "source": [
    "X_train.reset_index(drop=True, inplace=True)\n",
    "X_test.reset_index(drop=True, inplace=True)"
   ]
  },
  {
   "cell_type": "code",
   "execution_count": 39,
   "metadata": {
    "scrolled": false
   },
   "outputs": [
    {
     "name": "stdout",
     "output_type": "stream",
     "text": [
      "     AP1  AP2  AP3  AP4  AP5\n",
      "0    -42  -69  -62  -78  -59\n",
      "1    -56  -71  -61  -85  -61\n",
      "2    -54  -72  -63  -77  -60\n",
      "3    -58  -69  -64  -81  -63\n",
      "4    -63  -70  -62  -76  -65\n",
      "5    -61  -74  -58  -75  -59\n",
      "6    -59  -66  -65  -80  -57\n",
      "7    -59  -68  -60  -77  -55\n",
      "8    -65  -69  -62  -80  -65\n",
      "9    -61  -64  -67  -76  -61\n",
      "10   -63  -60  -53  -75  -63\n",
      "11   -66  -65  -54  -75  -64\n",
      "12   -70  -64  -55  -80  -60\n",
      "13   -69  -58  -56  -85  -63\n",
      "14   -73  -65  -52  -80  -62\n",
      "15   -68  -49  -52  -81  -57\n",
      "16   -72  -43  -55  -76  -54\n",
      "17   -69  -39  -57  -84  -59\n",
      "18   -72  -44  -64  -85  -60\n",
      "19   -70  -35  -56  -82  -63\n",
      "20   -72  -43  -59  -83  -67\n",
      "21   -72  -45  -55  -79  -65\n",
      "22   -74  -47  -54  -73  -64\n",
      "23   -71  -51  -52  -76  -63\n",
      "24   -67  -50  -54  -72  -59\n",
      "25   -69  -56  -63  -80  -66\n",
      "26   -65  -59  -59  -79  -60\n",
      "27   -67  -64  -66  -83  -65\n",
      "28   -67  -64  -61  -76  -59\n",
      "29   -65  -65  -63  -76  -66\n",
      "..   ...  ...  ...  ...  ...\n",
      "231  -80  -68  -56  -58  -71\n",
      "232  -78  -75  -56  -63  -67\n",
      "233  -74  -73  -63  -55  -65\n",
      "234  -70  -67  -51  -56  -62\n",
      "235  -73  -75  -47  -58  -60\n",
      "236  -77  -65  -50  -59  -67\n",
      "237  -82  -80  -64  -55  -67\n",
      "238  -74  -72  -57  -58  -67\n",
      "239  -70  -71  -49  -52  -60\n",
      "240  -78  -72  -51  -52  -70\n",
      "241  -81  -78  -62  -46  -69\n",
      "242  -74  -70  -54  -57  -61\n",
      "243  -77  -77  -58  -46  -70\n",
      "244  -80  -71  -55  -55  -62\n",
      "245  -83  -68  -55  -48  -70\n",
      "246  -77  -68  -51  -46  -72\n",
      "247  -72  -75  -56  -48  -67\n",
      "248  -77  -80  -65  -58  -70\n",
      "249  -77  -72  -56  -38  -68\n",
      "250  -84  -78  -66  -50  -72\n",
      "251  -78  -81  -63  -57  -75\n",
      "252  -78  -74  -59  -58  -74\n",
      "253  -81  -77  -63  -53  -71\n",
      "254  -83  -74  -63  -56  -71\n",
      "255  -80  -76  -60  -59  -79\n",
      "256  -84  -79  -63  -60  -68\n",
      "257  -80  -72  -63  -51  -72\n",
      "258  -75  -64  -59  -48  -69\n",
      "259  -75  -75  -56  -56  -77\n",
      "260  -74  -76  -58  -52  -66\n",
      "\n",
      "[261 rows x 5 columns]\n"
     ]
    }
   ],
   "source": [
    "print(X_train)"
   ]
  },
  {
   "cell_type": "markdown",
   "metadata": {},
   "source": [
    "### Juntando os dados, após a reorganização. Agora a linha que antes era a segunda linha de entrada, passa a ser a primeira."
   ]
  },
  {
   "cell_type": "code",
   "execution_count": 40,
   "metadata": {},
   "outputs": [
    {
     "name": "stdout",
     "output_type": "stream",
     "text": [
      "     AP1  AP2  AP3  AP4  AP5      X      Y\n",
      "0    -42  -69  -62  -78  -59   1.47  19.44\n",
      "1    -56  -71  -61  -85  -61   2.48  19.54\n",
      "2    -54  -72  -63  -77  -60   3.44  19.54\n",
      "3    -58  -69  -64  -81  -63   4.48  19.54\n",
      "4    -63  -70  -62  -76  -65   5.44  19.54\n",
      "5    -61  -74  -58  -75  -59   6.41  19.54\n",
      "6    -59  -66  -65  -80  -57   7.41  19.63\n",
      "7    -59  -68  -60  -77  -55   8.50  19.54\n",
      "8    -65  -69  -62  -80  -65   9.42  19.63\n",
      "9    -61  -64  -67  -76  -61  10.42  19.58\n",
      "10   -63  -60  -53  -75  -63  11.46  19.54\n",
      "11   -66  -65  -54  -75  -64  12.42  19.58\n",
      "12   -70  -64  -55  -80  -60  13.51  19.44\n",
      "13   -69  -58  -56  -85  -63  14.43  19.54\n",
      "14   -73  -65  -52  -80  -62  15.48  19.58\n",
      "15   -68  -49  -52  -81  -57  16.48  19.54\n",
      "16   -72  -43  -55  -76  -54  17.40  19.58\n",
      "17   -69  -39  -57  -84  -59  18.40  19.49\n",
      "18   -72  -44  -64  -85  -60  19.45  19.54\n",
      "19   -70  -35  -56  -82  -63  20.45  19.58\n",
      "20   -72  -43  -59  -83  -67  20.41  18.53\n",
      "21   -72  -45  -55  -79  -65  19.45  18.58\n",
      "22   -74  -47  -54  -73  -64  18.44  18.58\n",
      "23   -71  -51  -52  -76  -63  17.40  18.58\n",
      "24   -67  -50  -54  -72  -59  16.48  18.58\n",
      "25   -69  -56  -63  -80  -66  15.43  18.58\n",
      "26   -65  -59  -59  -79  -60  14.47  18.48\n",
      "27   -67  -64  -66  -83  -65  13.43  18.58\n",
      "28   -67  -64  -61  -76  -59  12.38  18.58\n",
      "29   -65  -65  -63  -76  -66  11.46  18.63\n",
      "..   ...  ...  ...  ...  ...    ...    ...\n",
      "231  -80  -68  -56  -58  -71  11.38   8.47\n",
      "232  -78  -75  -56  -63  -67  12.40   8.56\n",
      "233  -74  -73  -63  -55  -65  13.38   8.56\n",
      "234  -70  -67  -51  -56  -62  10.49   7.49\n",
      "235  -73  -75  -47  -58  -60  11.38   7.49\n",
      "236  -77  -65  -50  -59  -67  12.36   7.49\n",
      "237  -82  -80  -64  -55  -67  13.38   7.58\n",
      "238  -74  -72  -57  -58  -67  10.45   6.60\n",
      "239  -70  -71  -49  -52  -60  11.43   6.56\n",
      "240  -78  -72  -51  -52  -70  12.36   6.56\n",
      "241  -81  -78  -62  -46  -69  13.38   6.56\n",
      "242  -74  -70  -54  -57  -61  10.41   5.58\n",
      "243  -77  -77  -58  -46  -70  11.43   5.58\n",
      "244  -80  -71  -55  -55  -62  12.36   5.62\n",
      "245  -83  -68  -55  -48  -70  13.34   5.67\n",
      "246  -77  -68  -51  -46  -72  10.36   4.60\n",
      "247  -72  -75  -56  -48  -67  11.38   4.60\n",
      "248  -77  -80  -65  -58  -70  12.40   4.60\n",
      "249  -77  -72  -56  -38  -68  13.42   4.65\n",
      "250  -84  -78  -66  -50  -72  10.41   3.62\n",
      "251  -78  -81  -63  -57  -75  11.38   3.57\n",
      "252  -78  -74  -59  -58  -74  12.40   3.62\n",
      "253  -81  -77  -63  -53  -71  13.34   3.67\n",
      "254  -83  -74  -63  -56  -71  10.41   2.55\n",
      "255  -80  -76  -60  -59  -79  11.43   2.59\n",
      "256  -84  -79  -63  -60  -68  12.40   2.64\n",
      "257  -80  -72  -63  -51  -72  13.38   2.59\n",
      "258  -75  -64  -59  -48  -69  10.45   1.57\n",
      "259  -75  -75  -56  -56  -77  11.43   1.57\n",
      "260  -74  -76  -58  -52  -66  12.40   1.66\n",
      "\n",
      "[261 rows x 7 columns]\n"
     ]
    }
   ],
   "source": [
    "X_train ['X'] = y_train['Coordenada X']\n",
    "X_train ['Y'] = y_train['Coordenada Y']\n",
    "\n",
    "X_test ['X'] = y_test['Coordenada X']\n",
    "X_test ['Y'] = y_test['Coordenada Y']\n",
    "\n",
    "print(X_train)"
   ]
  },
  {
   "cell_type": "markdown",
   "metadata": {},
   "source": [
    "### Verificando o balanceamento das classes de saída Coordenada X e Y"
   ]
  },
  {
   "cell_type": "code",
   "execution_count": 41,
   "metadata": {},
   "outputs": [
    {
     "name": "stderr",
     "output_type": "stream",
     "text": [
      "/home/curty/.local/lib/python3.5/site-packages/scipy/stats/stats.py:1713: FutureWarning: Using a non-tuple sequence for multidimensional indexing is deprecated; use `arr[tuple(seq)]` instead of `arr[seq]`. In the future this will be interpreted as an array index, `arr[np.array(seq)]`, which will result either in an error or a different result.\n",
      "  return np.add.reduce(sorted[indexer] * weights, axis=axis) / sumval\n"
     ]
    },
    {
     "data": {
      "text/plain": [
       "<matplotlib.axes._subplots.AxesSubplot at 0x7f10eaaa0438>"
      ]
     },
     "execution_count": 41,
     "metadata": {},
     "output_type": "execute_result"
    },
    {
     "data": {
      "image/png": "[encoded data removed]",
      "text/plain": [
       "<Figure size 432x288 with 1 Axes>"
      ]
     },
     "metadata": {},
     "output_type": "display_data"
    }
   ],
   "source": [
    "hist_dataset = y_train['Coordenada X']\n",
    "hist_dataset = pd.Categorical(hist_dataset).codes\n",
    "sns.distplot(hist_dataset)\n"
   ]
  },
  {
   "cell_type": "code",
   "execution_count": 42,
   "metadata": {},
   "outputs": [
    {
     "data": {
      "text/plain": [
       "<matplotlib.axes._subplots.AxesSubplot at 0x7f10ea9c54e0>"
      ]
     },
     "execution_count": 42,
     "metadata": {},
     "output_type": "execute_result"
    },
    {
     "data": {
      "image/png": "[encoded data removed]",
      "text/plain": [
       "<Figure size 432x288 with 1 Axes>"
      ]
     },
     "metadata": {},
     "output_type": "display_data"
    }
   ],
   "source": [
    "hist_dataset = y_train['Coordenada Y']\n",
    "hist_dataset = pd.Categorical(hist_dataset).codes\n",
    "sns.distplot(hist_dataset)"
   ]
  },
  {
   "cell_type": "code",
   "execution_count": 43,
   "metadata": {},
   "outputs": [
    {
     "name": "stderr",
     "output_type": "stream",
     "text": [
      "/usr/local/lib/python3.5/dist-packages/ipykernel_launcher.py:1: FutureWarning: Method .as_matrix will be removed in a future version. Use .values instead.\n",
      "  \"\"\"Entry point for launching an IPython kernel.\n"
     ]
    }
   ],
   "source": [
    "y_test = y_test.as_matrix()"
   ]
  },
  {
   "cell_type": "markdown",
   "metadata": {},
   "source": [
    "### Normalizando "
   ]
  },
  {
   "cell_type": "code",
   "execution_count": 44,
   "metadata": {},
   "outputs": [
    {
     "name": "stderr",
     "output_type": "stream",
     "text": [
      "/home/curty/.local/lib/python3.5/site-packages/sklearn/preprocessing/data.py:617: DataConversionWarning: Data with input dtype int64, float64 were all converted to float64 by StandardScaler.\n",
      "  return self.partial_fit(X, y)\n",
      "/home/curty/.local/lib/python3.5/site-packages/sklearn/preprocessing/data.py:617: DataConversionWarning: Data with input dtype int64, float64 were all converted to float64 by StandardScaler.\n",
      "  return self.partial_fit(X, y)\n"
     ]
    },
    {
     "data": {
      "text/plain": [
       "StandardScaler(copy=True, with_mean=True, with_std=True)"
      ]
     },
     "execution_count": 44,
     "metadata": {},
     "output_type": "execute_result"
    }
   ],
   "source": [
    "from sklearn.preprocessing import StandardScaler\n",
    "scaler = StandardScaler()  \n",
    "scaler.fit(X_train)\n",
    "scaler.fit(X_test)"
   ]
  },
  {
   "cell_type": "markdown",
   "metadata": {},
   "source": [
    "### Como especificado na questão, \" para calcular o erro médio da predição da localização nos pontos da base de testes utilize a fórmula da hipotenusa\" . As saídas com nome *Média* foram calculados com a fórmula da hipotenusa\n"
   ]
  },
  {
   "cell_type": "markdown",
   "metadata": {},
   "source": [
    "### Utilizamos a função *RegBay* para receber os algoritmos e printar os gráficos"
   ]
  },
  {
   "cell_type": "code",
   "execution_count": 45,
   "metadata": {},
   "outputs": [],
   "source": [
    "from sklearn.multioutput import MultiOutputRegressor\n",
    "\n",
    "def RegBay(Modelo, x_train, y_train, x_test, y_test): \n",
    "    model = MultiOutputRegressor(Modelo())\n",
    "    model.fit(x_train, y_train)\n",
    "    y_pred = model.predict(x_test) \n",
    "    plt.plot(y_test, y_pred, '.')\n",
    "    xg = np.linspace(0, 10, 1)\n",
    "    yg = xg\n",
    "    plt.plot(xg, yg)\n",
    "    plt.show()\n",
    "    print(model.score(x_test, y_test))\n",
    "    print(mean_absolute_error(y_test, y_pred,multioutput='uniform_average'), \" Mean Absolute Error\")"
   ]
  },
  {
   "cell_type": "markdown",
   "metadata": {},
   "source": [
    "### Primeiro algoritmo *KNN* "
   ]
  },
  {
   "cell_type": "code",
   "execution_count": 47,
   "metadata": {},
   "outputs": [
    {
     "data": {
      "image/png": "[encoded data removed]",
      "text/plain": [
       "<Figure size 432x288 with 1 Axes>"
      ]
     },
     "metadata": {},
     "output_type": "display_data"
    },
    {
     "name": "stdout",
     "output_type": "stream",
     "text": [
      "0.11678983688849037\n",
      "3.7569687499999995  Mean Absolute Error\n"
     ]
    }
   ],
   "source": [
    "from sklearn.neighbors import KNeighborsRegressor\n",
    "\n",
    "    \n",
    "RegBay(KNeighborsRegressor,X_train,y_train,X_test,y_test)"
   ]
  },
  {
   "cell_type": "markdown",
   "metadata": {},
   "source": [
    "### Segundo algoritmo *RandomForest*"
   ]
  },
  {
   "cell_type": "code",
   "execution_count": 46,
   "metadata": {
    "scrolled": false
   },
   "outputs": [
    {
     "name": "stderr",
     "output_type": "stream",
     "text": [
      "/home/curty/.local/lib/python3.5/site-packages/sklearn/ensemble/forest.py:248: FutureWarning: The default value of n_estimators will change from 10 in version 0.20 to 100 in 0.22.\n",
      "  \"10 in version 0.20 to 100 in 0.22.\", FutureWarning)\n",
      "/home/curty/.local/lib/python3.5/site-packages/sklearn/ensemble/forest.py:248: FutureWarning: The default value of n_estimators will change from 10 in version 0.20 to 100 in 0.22.\n",
      "  \"10 in version 0.20 to 100 in 0.22.\", FutureWarning)\n"
     ]
    },
    {
     "data": {
      "image/png": "[encoded data removed]",
      "text/plain": [
       "<Figure size 432x288 with 1 Axes>"
      ]
     },
     "metadata": {},
     "output_type": "display_data"
    },
    {
     "name": "stdout",
     "output_type": "stream",
     "text": [
      "0.9990318811957561\n",
      "0.08235156250000028  Mean Absolute Error\n"
     ]
    }
   ],
   "source": [
    "from sklearn.ensemble import RandomForestRegressor\n",
    "RegBay(RandomForestRegressor,X_train,y_train,X_test,y_test)"
   ]
  },
  {
   "cell_type": "markdown",
   "metadata": {},
   "source": [
    "### Bônus: Utilizando rede neural "
   ]
  },
  {
   "cell_type": "code",
   "execution_count": 51,
   "metadata": {},
   "outputs": [
    {
     "data": {
      "image/png": "[encoded data removed]",
      "text/plain": [
       "<Figure size 432x288 with 1 Axes>"
      ]
     },
     "metadata": {},
     "output_type": "display_data"
    },
    {
     "name": "stdout",
     "output_type": "stream",
     "text": [
      "0.9995904231595704\n",
      "0.05862876681175487  Mean Absolute Error\n"
     ]
    }
   ],
   "source": [
    "from sklearn.neural_network import MLPRegressor\n",
    "\n",
    "def RegBay(Modelo, x_train, y_train, x_test, y_test): \n",
    "    model = MultiOutputRegressor(Modelo(activation='relu',solver='lbfgs',hidden_layer_sizes=(100,100),random_state = 10))\n",
    "    model.fit(x_train, y_train)\n",
    "    y_pred = model.predict(x_test) \n",
    "    plt.plot(y_test, y_pred, '.')\n",
    "    xg = np.linspace(0, 10, 1)\n",
    "    yg = xg\n",
    "    plt.plot(xg, yg)\n",
    "    plt.show()\n",
    "    print(model.score(x_test, y_test))\n",
    "    print(mean_absolute_error(y_test, y_pred,multioutput='uniform_average'), \" Mean Absolute Error\")\n",
    "\n",
    "RegBay(MLPRegressor,X_train,y_train,X_test,y_test)"
   ]
  },
  {
   "cell_type": "markdown",
   "metadata": {},
   "source": [
    "### Diante dos dos gráficos, podemos ver que os que se saíram melhor, foram os algoritmos KNN e a Rede Neural"
   ]
  }
 ],
 "metadata": {
  "colab": {
   "collapsed_sections": [],
   "name": "IA.ipynb",
   "provenance": [],
   "version": "0.3.2"
  },
  "kernelspec": {
   "display_name": "Python 3",
   "language": "python",
   "name": "python3"
  },
  "language_info": {
   "codemirror_mode": {
    "name": "ipython",
    "version": 3
   },
   "file_extension": ".py",
   "mimetype": "text/x-python",
   "name": "python",
   "nbconvert_exporter": "python",
   "pygments_lexer": "ipython3",
   "version": "3.5.2"
  }
 },
 "nbformat": 4,
 "nbformat_minor": 2
}
